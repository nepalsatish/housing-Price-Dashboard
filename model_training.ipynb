{
 "cells": [
  {
   "cell_type": "code",
   "execution_count": 38,
   "metadata": {},
   "outputs": [],
   "source": [
    "import pandas as pd\n",
    "from prophet import Prophet"
   ]
  },
  {
   "cell_type": "code",
   "execution_count": 39,
   "metadata": {},
   "outputs": [
    {
     "data": {
      "text/html": [
       "<div>\n",
       "<style scoped>\n",
       "    .dataframe tbody tr th:only-of-type {\n",
       "        vertical-align: middle;\n",
       "    }\n",
       "\n",
       "    .dataframe tbody tr th {\n",
       "        vertical-align: top;\n",
       "    }\n",
       "\n",
       "    .dataframe thead th {\n",
       "        text-align: right;\n",
       "    }\n",
       "</style>\n",
       "<table border=\"1\" class=\"dataframe\">\n",
       "  <thead>\n",
       "    <tr style=\"text-align: right;\">\n",
       "      <th></th>\n",
       "      <th>RegionID</th>\n",
       "      <th>SizeRank</th>\n",
       "      <th>RegionName</th>\n",
       "      <th>RegionType</th>\n",
       "      <th>StateName</th>\n",
       "      <th>Date</th>\n",
       "      <th>Price</th>\n",
       "    </tr>\n",
       "  </thead>\n",
       "  <tbody>\n",
       "    <tr>\n",
       "      <th>0</th>\n",
       "      <td>102001</td>\n",
       "      <td>0</td>\n",
       "      <td>United States</td>\n",
       "      <td>country</td>\n",
       "      <td>NaN</td>\n",
       "      <td>2000-01-31</td>\n",
       "      <td>124341.456204</td>\n",
       "    </tr>\n",
       "    <tr>\n",
       "      <th>1</th>\n",
       "      <td>394913</td>\n",
       "      <td>1</td>\n",
       "      <td>New York</td>\n",
       "      <td>msa</td>\n",
       "      <td>NY</td>\n",
       "      <td>2000-01-31</td>\n",
       "      <td>222144.732358</td>\n",
       "    </tr>\n",
       "    <tr>\n",
       "      <th>2</th>\n",
       "      <td>753899</td>\n",
       "      <td>2</td>\n",
       "      <td>Los Angeles</td>\n",
       "      <td>msa</td>\n",
       "      <td>CA</td>\n",
       "      <td>2000-01-31</td>\n",
       "      <td>227474.670293</td>\n",
       "    </tr>\n",
       "    <tr>\n",
       "      <th>3</th>\n",
       "      <td>394463</td>\n",
       "      <td>3</td>\n",
       "      <td>Chicago</td>\n",
       "      <td>msa</td>\n",
       "      <td>IL</td>\n",
       "      <td>2000-01-31</td>\n",
       "      <td>157959.146515</td>\n",
       "    </tr>\n",
       "    <tr>\n",
       "      <th>4</th>\n",
       "      <td>394514</td>\n",
       "      <td>4</td>\n",
       "      <td>Dallas</td>\n",
       "      <td>msa</td>\n",
       "      <td>TX</td>\n",
       "      <td>2000-01-31</td>\n",
       "      <td>130592.692029</td>\n",
       "    </tr>\n",
       "  </tbody>\n",
       "</table>\n",
       "</div>"
      ],
      "text/plain": [
       "   RegionID  SizeRank     RegionName RegionType StateName        Date  \\\n",
       "0    102001         0  United States    country       NaN  2000-01-31   \n",
       "1    394913         1       New York        msa        NY  2000-01-31   \n",
       "2    753899         2    Los Angeles        msa        CA  2000-01-31   \n",
       "3    394463         3        Chicago        msa        IL  2000-01-31   \n",
       "4    394514         4         Dallas        msa        TX  2000-01-31   \n",
       "\n",
       "           Price  \n",
       "0  124341.456204  \n",
       "1  222144.732358  \n",
       "2  227474.670293  \n",
       "3  157959.146515  \n",
       "4  130592.692029  "
      ]
     },
     "execution_count": 39,
     "metadata": {},
     "output_type": "execute_result"
    }
   ],
   "source": [
    "df = pd.read_csv('/var/www/project/Housing/zhvi_data_long.csv')\n",
    "df.head()"
   ]
  },
  {
   "cell_type": "code",
   "execution_count": 40,
   "metadata": {},
   "outputs": [
    {
     "name": "stderr",
     "output_type": "stream",
     "text": [
      "20:03:28 - cmdstanpy - INFO - Chain [1] start processing\n",
      "20:03:28 - cmdstanpy - INFO - Chain [1] done processing\n",
      "20:03:28 - cmdstanpy - INFO - Chain [1] start processing\n"
     ]
    },
    {
     "name": "stdout",
     "output_type": "stream",
     "text": [
      "['United States' 'New York' 'Los Angeles' 'Chicago' 'Dallas' 'Houston'\n",
      " 'Washington' 'Philadelphia' 'Miami' 'Atlanta' 'Boston' 'Phoenix'\n",
      " 'San Francisco' 'Riverside' 'Detroit' 'Seattle' 'Minneapolis' 'San Diego'\n",
      " 'Tampa' 'Denver' 'Baltimore' 'St. Louis' 'Orlando' 'Charlotte'\n",
      " 'San Antonio' 'Portland' 'Sacramento' 'Pittsburgh' 'Cincinnati' 'Austin'\n",
      " 'Las Vegas' 'Kansas City' 'Columbus' 'Cleveland' 'San Jose' 'Nashville'\n",
      " 'Virginia Beach' 'Providence' 'Jacksonville' 'Milwaukee' 'Oklahoma City'\n",
      " 'Raleigh' 'Memphis' 'Richmond' 'Louisville' 'New Orleans'\n",
      " 'Salt Lake City' 'Hartford' 'Buffalo' 'Birmingham' 'Rochester'\n",
      " 'Grand Rapids' 'Tucson' 'Urban Honolulu' 'Tulsa' 'Fresno' 'Worcester'\n",
      " 'Omaha' 'Bridgeport' 'Greenville' 'Bakersfield' 'Albany' 'Knoxville'\n",
      " 'New Haven' 'El Paso' 'Allentown' 'Oxnard' 'Columbia' 'North Port'\n",
      " 'Charleston' 'Greensboro' 'Stockton' 'Cape Coral' 'Colorado Springs'\n",
      " 'Little Rock' 'Lakeland' 'Akron' 'Des Moines' 'Springfield' 'Ogden'\n",
      " 'Madison' 'Winston' 'Deltona' 'Syracuse' 'Toledo' 'Durham' 'Augusta'\n",
      " 'Palm Bay' 'Harrisburg' 'Spokane' 'Scranton' 'Chattanooga' 'Modesto'\n",
      " 'Youngstown' 'Lansing' 'Fayetteville' 'Lexington' 'Pensacola'\n",
      " 'Santa Rosa' 'Reno' 'Port St. Lucie' 'Visalia' 'Asheville' 'York'\n",
      " 'Vallejo' 'Santa Maria' 'Salinas' 'Salem' 'Mobile' 'Reading' 'Manchester'\n",
      " 'Salisbury' 'Flint' 'Canton' 'Savannah' 'Anchorage' 'Trenton'\n",
      " 'Montgomery' 'Tallahassee' 'Eugene' 'Naples' 'Ann Arbor' 'Hickory'\n",
      " 'Huntington' 'Fort Collins' 'Rockford' 'Lincoln' 'Gainesville' 'Boulder'\n",
      " 'Greeley' 'Lubbock' 'Clarksville' 'Evansville' 'Kingsport' 'Kennewick'\n",
      " 'Utica' 'Hagerstown' 'Olympia' 'Longview' 'San Luis Obispo' 'Crestview'\n",
      " 'Cedar Rapids' 'Atlantic City' 'Bremerton' 'Santa Cruz' 'Erie' 'Norwich'\n",
      " 'Tuscaloosa' 'Kalamazoo' 'Lynchburg' 'Binghamton' 'Fort Smith' 'Topeka'\n",
      " 'Macon' 'Barnstable Town' 'Daphne' 'Burlington' 'Lafayette' 'Medford'\n",
      " 'Charlottesville' 'Hilton Head Island' 'Athens' 'Lake Havasu City'\n",
      " 'Monroe' 'Johnson City' 'Bend' 'Saginaw' 'Warner Robins' 'Torrington'\n",
      " 'Punta Gorda' 'Redding' 'Kingston' 'Panama City' 'Jackson'\n",
      " 'Bowling Green' 'Muskegon' 'Auburn' 'Bloomington' 'Pueblo' 'Blacksburg'\n",
      " 'Kahului' 'Sebastian' 'Vineland' 'Idaho Falls' 'Grand Junction'\n",
      " 'Elizabethtown' 'Niles' 'Concord' 'Alexandria' 'Traverse City' 'Bangor'\n",
      " 'Homosassa Springs' 'London' 'Sioux City' 'Texarkana' 'Valdosta'\n",
      " 'Flagstaff' 'Rocky Mount' 'Dalton' 'Morristown' 'Winchester' 'Wheeling'\n",
      " 'Morgantown' 'Napa' 'Battle Creek' 'Jonesboro' 'Pittsfield'\n",
      " 'Mount Vernon' 'Jamestown' 'The Villages' 'Glens Falls' 'Lawton'\n",
      " 'Mansfield' 'Altoona' 'New Bern' 'Owensboro' 'Holland' 'Goldsboro'\n",
      " 'Watertown' 'Beckley' 'Williamsport' 'Brunswick' 'California'\n",
      " 'Cookeville' 'Roseburg' 'Lewiston' 'Ogdensburg' 'Bluefield' 'Show Low'\n",
      " 'Tullahoma' 'Ithaca' 'Decatur' 'LaGrange' 'Bay City' 'Gettysburg'\n",
      " 'Danville' 'Lima' 'Hot Springs' 'Adrian' 'Shelby' 'Paducah' 'Rome'\n",
      " 'Sevierville' 'Ashtabula' 'Cumberland' 'Ocean City' 'Corvallis' 'Corning'\n",
      " 'New Philadelphia' 'Clarksburg' 'Parkersburg' 'Pine Bluff' 'Grants Pass'\n",
      " 'Lufkin' 'Zanesville' 'Meadville' 'Elmira' 'Russellville' 'Midland'\n",
      " 'Bloomsburg' 'Stillwater' 'Manitowoc' 'Hinesville' 'DuBois' 'Warsaw'\n",
      " 'Plattsburgh' 'Glenwood Springs' 'Olean' 'Chillicothe' 'Searcy' 'Keene'\n",
      " 'Sandusky' 'Findlay' 'Frankfort' 'Kapaa' 'Shawnee' 'Greeneville'\n",
      " 'Greenwood' 'Lake City' 'Klamath Falls' 'Morehead City' 'Roanoke Rapids'\n",
      " 'Muskogee' 'Marquette' 'North Wilkesboro' 'Marinette' 'Dublin' 'Somerset'\n",
      " 'Forest City' 'Martinsville' 'Laconia' 'Sanford' 'Enid' 'Walla Walla'\n",
      " 'Hudson' 'Sturgis' 'Rutland' 'Crossville' 'Marietta' 'Barre' 'Fremont'\n",
      " 'Oneonta' 'Norwalk' 'Batavia' 'Ardmore' 'Carson City' 'Ontario'\n",
      " 'Waycross' 'Edwards' 'Tiffin' 'Batesville' 'Point Pleasant' 'Glasgow'\n",
      " 'St. Marys' 'Boone' 'Gloversville' 'Payson' 'Bartlesville' 'Douglas'\n",
      " 'Oil City' 'Newport' 'Shelbyville' 'Amsterdam' 'Gardnerville Ranchos'\n",
      " 'Ruston' 'Sidney' 'Malone' 'Nogales' 'Tahlequah' 'Montrose' 'Cortland'\n",
      " 'Mount Sterling' 'Bardstown' 'Plymouth' 'Durant' 'Moultrie' 'Thomasville'\n",
      " 'Paragould' 'Madisonville' 'Harrison' 'Coldwater' 'Ponca City'\n",
      " 'Lawrenceburg' 'McAlester' 'Duncan' 'Sedalia' 'Cedartown' 'Henderson'\n",
      " 'Mountain Home' 'Tifton' 'Blytheville' 'McMinnville' 'Okeechobee'\n",
      " 'Houghton' 'Clewiston' 'Selma' 'Urbana' 'Cambridge' 'Defiance' 'Safford'\n",
      " 'Ada' 'Easton' 'Murray' 'Bennington' 'Dyersburg' 'Pontiac' 'Vidalia'\n",
      " 'Laurinburg' 'Americus' 'Arcadia' 'Lewisburg' 'Seneca Falls' 'Malvern'\n",
      " 'Martin' 'Dayton' 'Paris' 'Berlin' 'Union City' 'Jesup' 'Ludington'\n",
      " 'Bainbridge' 'Alpena' 'Washington Court House' 'Van Wert' 'Weatherford'\n",
      " 'Macomb' 'Camden' 'Thomaston' 'Toccoa' 'Wauchula' 'Altus'\n",
      " 'Steamboat Springs' 'Summerville' 'Woodward' 'Prineville' 'Hood River'\n",
      " 'Forrest City' 'Brookings' 'Magnolia' 'Elk City' 'Sterling' 'Arkadelphia'\n",
      " 'Storm Lake' 'Cordele' 'Vineyard Haven' 'Fitzgerald' 'Craig' 'Jefferson'\n",
      " 'Cullman' 'Kill Devil Hills' 'Provo' 'Yakima' 'Poplar Bluff' 'Whitewater'\n",
      " 'Huntsville' 'Champaign' 'Talladega' 'Faribault' 'Red Wing' 'Bellingham'\n",
      " 'Boise City' 'Brownsville' 'Merced' 'Chico' 'El Centro' 'Hanford'\n",
      " 'Eureka' 'Truckee' 'Bellefontaine' 'North Vernon' 'Chambersburg'\n",
      " 'Wenatchee' 'Green Bay' 'Myrtle Beach' 'Dothan' 'Marion' 'Baton Rouge'\n",
      " 'Wichita' 'Peoria' 'Las Cruces' 'Yuma' 'Cheyenne' 'Santa Fe' 'La Crosse'\n",
      " 'Gadsden' 'Albuquerque' 'Lancaster' 'Madera' 'Ukiah' 'El Dorado'\n",
      " 'Spartanburg' 'Ozark' 'Wilmington' 'Breckenridge' 'Indianapolis'\n",
      " 'Mankato' 'Norfolk' 'Mayfield' 'Hastings' 'Fort Wayne' 'Astoria'\n",
      " 'St. Joseph' 'Ocala' 'Yuba City' 'Sebring' 'Palatka' 'Orangeburg'\n",
      " 'Rockingham' 'Mexico' 'Grand Island' 'Davenport' 'Fairmont' 'Hutchinson'\n",
      " 'Duluth' 'Lawrence' 'Corpus Christi' 'Roanoke' 'Johnstown' 'Beaumont'\n",
      " 'Elkhart' 'Logan' 'Missoula' 'Fairbanks' 'Juneau' 'Shreveport' 'Lebanon'\n",
      " 'Appleton' 'Twin Falls' 'Ketchikan' 'St. Cloud' 'Ottawa'\n",
      " 'East Stroudsburg' 'State College' 'Florence' 'Willmar' 'New Castle'\n",
      " 'Kerrville' 'Freeport' 'Dixon' 'Pullman' 'Beatrice' 'Oak Harbor'\n",
      " 'Beaver Dam' 'Sioux Falls' 'Kearney' 'Kinston' 'McAllen' 'Clearlake'\n",
      " 'North Platte' 'Susanville' 'Crescent City' 'Fernley' 'Waterloo' 'Jasper'\n",
      " 'Natchez' 'Great Falls' \"Coeur d'Alene\" 'South Bend' 'Hammond' 'Shelton'\n",
      " 'Port Angeles' 'Big Rapids' 'Coos Bay' 'Elizabeth City' 'Sierra Vista'\n",
      " 'Hillsdale' 'Joplin' 'Sheboygan' 'Pinehurst' 'Jefferson City'\n",
      " 'Carbondale' 'Brainerd' 'Rapid City' 'Weirton' 'Sumter' 'Cadillac'\n",
      " 'Racine' 'Centralia' 'Seymour' 'Killeen' 'Angola' 'Fond du Lac'\n",
      " 'Cornelia' 'St. George' 'Manhattan' 'Statesboro' 'Calhoun'\n",
      " 'Milledgeville' 'Waco' 'Amarillo' 'Laredo' 'College Station' 'Fargo'\n",
      " 'Tyler' 'Houma' 'Terre Haute' 'Billings' 'Abilene' 'Iowa City' 'Oshkosh'\n",
      " 'Eau Claire' 'Wausau' 'Odessa' 'Wichita Falls' 'Pottsville' 'Bismarck'\n",
      " 'Bozeman' 'Kankakee' 'Moses Lake' 'Albertville' 'Pocatello' 'Sunbury'\n",
      " 'Hermiston' 'Kokomo' 'Opelousas' 'Wilson' 'Quincy' 'Aberdeen'\n",
      " 'Wisconsin Rapids' 'Mount Airy' 'Baraboo' 'Roswell' 'Sayre' 'Cullowhee'\n",
      " 'Gaffney' 'Cedar City' 'Durango' 'Elko' 'Warrensburg' 'Rochelle'\n",
      " 'Galesburg' 'Pahrump' 'Menomonie' 'Ellensburg' 'Muscatine' 'Owatonna'\n",
      " 'Taylorville' 'Muncie' 'Michigan City' 'Dubuque' 'Cape Girardeau'\n",
      " 'Indiana' 'Helena' 'Heber' 'Nacogdoches' 'Gillette' 'Fort Madison'\n",
      " 'Eagle Pass' 'Branson' 'Mason City' 'Del Rio' 'Sandpoint' 'Bemidji'\n",
      " 'Shawano' 'Stephenville' 'Marshalltown' 'West Plains' 'Pittsburg'\n",
      " 'Brownwood' 'Lock Haven' 'Sault Ste. Marie' 'Effingham' 'Plainview'\n",
      " 'The Dalles' 'Fallon' 'Hailey' 'Spencer' 'Ames' 'Minot' 'Palestine'\n",
      " 'Ashland' 'Platteville' 'Corsicana' 'Alice' 'Clinton' 'Wapakoneta'\n",
      " 'Huntingdon' 'Garden City' 'Celina' 'Bradford' 'McComb' 'Big Stone Gap'\n",
      " 'Crawfordsville' 'Scottsbluff' 'Laramie' 'Campbellsville' 'Coshocton'\n",
      " 'Peru' 'Vernal' 'Ottumwa' 'Brevard' 'Kingsville' 'Mineral Wells'\n",
      " 'Oskaloosa' 'Levelland' 'Borger' 'Pierre' 'Evanston' 'Othello'\n",
      " 'Los Alamos' 'Spirit Lake' 'Snyder' 'Starkville' 'Burley' 'Moscow'\n",
      " 'Williston' 'Brenham' 'Wabash' 'Kennett' 'Fredericksburg' 'La Grande'\n",
      " 'Yankton' 'Kalispell' 'Rio Grande City' 'Mount Pleasant' 'El Campo'\n",
      " 'Port Lavaca' 'Andrews' 'Fairfield' 'Sweetwater' 'Staunton' 'Oxford'\n",
      " 'Hannibal' 'Uvalde' 'Vernon' 'Dover' 'Rexburg' 'Dickinson'\n",
      " 'Middlesborough' 'Wahpeton' 'Pampa' 'Newberry' 'Portales' 'Harrisonburg'\n",
      " 'Zapata' 'Farmington' 'Fort Leonard Wood' 'Riverton' 'Scottsboro'\n",
      " 'Portsmouth' 'Bogalusa' 'Stevens Point' 'Emporia' 'Coffeyville' 'Bedford'\n",
      " 'Connersville' 'Maysville' 'Gulfport' 'Casper' 'Seneca' 'Alma'\n",
      " 'Selinsgrove' 'Iron Mountain' 'Anniston' 'Fort Polk South' 'Marshall'\n",
      " 'Winona' 'Bucyrus' 'Lamesa' 'Escanaba' 'Hattiesburg' 'Janesville'\n",
      " 'Tupelo' 'Sherman' 'Meridian' 'Laurel' 'Gallup' 'Red Bluff' 'Salina'\n",
      " 'Fergus Falls' 'Picayune' 'Kendallville' 'Vicksburg' 'Rock Springs'\n",
      " 'Espa-¦ola' 'Logansport' 'Vincennes' 'Butte' 'Corinth' 'Big Spring'\n",
      " 'Taos' 'Beeville' 'Albert Lea' 'Sheridan' 'Kirksville' 'Fort Morgan'\n",
      " 'Greensburg' 'New Ulm' 'Deming' 'Moberly' 'Maryville' 'Dumas' 'Hereford'\n",
      " 'Atchison' 'DeRidder' 'Georgetown' 'Spearfish' 'Enterprise' 'Silver City'\n",
      " 'Raymondville' 'Lewistown' 'Hobbs' 'Grand Forks' 'Brookhaven' 'Blackfoot'\n",
      " 'Worthington' 'McPherson' 'Bennettsville' 'Mitchell' 'Natchitoches'\n",
      " 'San Angelo' 'Hilo' 'Winnemucca' 'Morgan City' 'Lake Charles' 'Lumberton'\n",
      " 'Victoria' 'Key West' 'Alamogordo' 'Albemarle' 'Carlsbad' 'Sonora'\n",
      " 'Ca-¦on City' 'Clovis' 'Rolla' 'Warren' 'Sikeston' 'Sulphur Springs'\n",
      " 'Dodge City' 'Troy' 'Hays' 'Elkins' 'Grants' 'Indianola' 'Great Bend'\n",
      " 'Liberal' 'Clarksdale' 'Grenada' 'Guymon' 'Huron' 'Parsons' 'Price'\n",
      " 'Vermillion' 'Pecos']\n",
      "Processing United States...\n",
      "Data shape for United States: (305, 7)\n",
      "Not enough data for United States. Need at least 2 non-NaN rows, but only have 0 rows.\n",
      "--------------------------------------------------\n",
      "Processing New York...\n",
      "Data shape for New York: (305, 7)\n",
      "Model and forecast saved for New York\n",
      "--------------------------------------------------\n",
      "Processing Los Angeles...\n",
      "Data shape for Los Angeles: (305, 7)\n"
     ]
    },
    {
     "name": "stderr",
     "output_type": "stream",
     "text": [
      "20:03:28 - cmdstanpy - INFO - Chain [1] done processing\n",
      "20:03:28 - cmdstanpy - INFO - Chain [1] start processing\n",
      "20:03:28 - cmdstanpy - INFO - Chain [1] done processing\n"
     ]
    },
    {
     "name": "stdout",
     "output_type": "stream",
     "text": [
      "Model and forecast saved for Los Angeles\n",
      "--------------------------------------------------\n",
      "Processing Chicago...\n",
      "Data shape for Chicago: (305, 7)\n",
      "Model and forecast saved for Chicago\n",
      "--------------------------------------------------\n",
      "Processing Dallas...\n",
      "Data shape for Dallas: (304, 7)\n"
     ]
    },
    {
     "name": "stderr",
     "output_type": "stream",
     "text": [
      "20:03:28 - cmdstanpy - INFO - Chain [1] start processing\n",
      "20:03:28 - cmdstanpy - INFO - Chain [1] done processing\n",
      "20:03:28 - cmdstanpy - INFO - Chain [1] start processing\n",
      "20:03:29 - cmdstanpy - INFO - Chain [1] done processing\n",
      "20:03:29 - cmdstanpy - INFO - Chain [1] start processing\n"
     ]
    },
    {
     "name": "stdout",
     "output_type": "stream",
     "text": [
      "Model and forecast saved for Dallas\n",
      "--------------------------------------------------\n",
      "Processing Houston...\n",
      "Data shape for Houston: (305, 7)\n",
      "Model and forecast saved for Houston\n",
      "--------------------------------------------------\n",
      "Processing Washington...\n",
      "Data shape for Washington: (768, 7)\n"
     ]
    },
    {
     "name": "stderr",
     "output_type": "stream",
     "text": [
      "20:03:29 - cmdstanpy - INFO - Chain [1] done processing\n",
      "20:03:29 - cmdstanpy - INFO - Chain [1] start processing\n",
      "20:03:29 - cmdstanpy - INFO - Chain [1] done processing\n"
     ]
    },
    {
     "name": "stdout",
     "output_type": "stream",
     "text": [
      "Model and forecast saved for Washington\n",
      "--------------------------------------------------\n",
      "Processing Philadelphia...\n",
      "Data shape for Philadelphia: (305, 7)\n",
      "Model and forecast saved for Philadelphia\n",
      "--------------------------------------------------\n",
      "Processing Miami...\n",
      "Data shape for Miami: (610, 7)\n"
     ]
    },
    {
     "name": "stderr",
     "output_type": "stream",
     "text": [
      "20:03:29 - cmdstanpy - INFO - Chain [1] start processing\n",
      "20:03:29 - cmdstanpy - INFO - Chain [1] done processing\n",
      "20:03:29 - cmdstanpy - INFO - Chain [1] start processing\n",
      "20:03:29 - cmdstanpy - INFO - Chain [1] done processing\n",
      "20:03:29 - cmdstanpy - INFO - Chain [1] start processing\n"
     ]
    },
    {
     "name": "stdout",
     "output_type": "stream",
     "text": [
      "Model and forecast saved for Miami\n",
      "--------------------------------------------------\n",
      "Processing Atlanta...\n",
      "Data shape for Atlanta: (305, 7)\n",
      "Model and forecast saved for Atlanta\n",
      "--------------------------------------------------\n",
      "Processing Boston...\n",
      "Data shape for Boston: (305, 7)\n"
     ]
    },
    {
     "name": "stderr",
     "output_type": "stream",
     "text": [
      "20:03:29 - cmdstanpy - INFO - Chain [1] done processing\n",
      "20:03:29 - cmdstanpy - INFO - Chain [1] start processing\n",
      "20:03:29 - cmdstanpy - INFO - Chain [1] done processing\n",
      "20:03:29 - cmdstanpy - INFO - Chain [1] start processing\n",
      "20:03:30 - cmdstanpy - INFO - Chain [1] done processing\n"
     ]
    },
    {
     "name": "stdout",
     "output_type": "stream",
     "text": [
      "Model and forecast saved for Boston\n",
      "--------------------------------------------------\n",
      "Processing Phoenix...\n",
      "Data shape for Phoenix: (303, 7)\n",
      "Model and forecast saved for Phoenix\n",
      "--------------------------------------------------\n",
      "Processing San Francisco...\n",
      "Data shape for San Francisco: (305, 7)\n"
     ]
    },
    {
     "name": "stderr",
     "output_type": "stream",
     "text": [
      "20:03:30 - cmdstanpy - INFO - Chain [1] start processing\n",
      "20:03:30 - cmdstanpy - INFO - Chain [1] done processing\n",
      "20:03:30 - cmdstanpy - INFO - Chain [1] start processing\n"
     ]
    },
    {
     "name": "stdout",
     "output_type": "stream",
     "text": [
      "Model and forecast saved for San Francisco\n",
      "--------------------------------------------------\n",
      "Processing Riverside...\n",
      "Data shape for Riverside: (305, 7)\n",
      "Model and forecast saved for Riverside\n",
      "--------------------------------------------------\n",
      "Processing Detroit...\n",
      "Data shape for Detroit: (305, 7)\n"
     ]
    },
    {
     "name": "stderr",
     "output_type": "stream",
     "text": [
      "20:03:30 - cmdstanpy - INFO - Chain [1] done processing\n",
      "20:03:30 - cmdstanpy - INFO - Chain [1] start processing\n",
      "20:03:30 - cmdstanpy - INFO - Chain [1] done processing\n",
      "20:03:30 - cmdstanpy - INFO - Chain [1] start processing\n"
     ]
    },
    {
     "name": "stdout",
     "output_type": "stream",
     "text": [
      "Model and forecast saved for Detroit\n",
      "--------------------------------------------------\n",
      "Processing Seattle...\n",
      "Data shape for Seattle: (305, 7)\n",
      "Model and forecast saved for Seattle\n",
      "--------------------------------------------------\n",
      "Processing Minneapolis...\n",
      "Data shape for Minneapolis: (305, 7)\n"
     ]
    },
    {
     "name": "stderr",
     "output_type": "stream",
     "text": [
      "20:03:30 - cmdstanpy - INFO - Chain [1] done processing\n",
      "20:03:30 - cmdstanpy - INFO - Chain [1] start processing\n",
      "20:03:30 - cmdstanpy - INFO - Chain [1] done processing\n",
      "20:03:30 - cmdstanpy - INFO - Chain [1] start processing\n"
     ]
    },
    {
     "name": "stdout",
     "output_type": "stream",
     "text": [
      "Model and forecast saved for Minneapolis\n",
      "--------------------------------------------------\n",
      "Processing San Diego...\n",
      "Data shape for San Diego: (305, 7)\n",
      "Model and forecast saved for San Diego\n",
      "--------------------------------------------------\n",
      "Processing Tampa...\n",
      "Data shape for Tampa: (305, 7)\n"
     ]
    },
    {
     "name": "stderr",
     "output_type": "stream",
     "text": [
      "20:03:30 - cmdstanpy - INFO - Chain [1] done processing\n",
      "20:03:30 - cmdstanpy - INFO - Chain [1] start processing\n",
      "20:03:30 - cmdstanpy - INFO - Chain [1] done processing\n",
      "20:03:31 - cmdstanpy - INFO - Chain [1] start processing\n"
     ]
    },
    {
     "name": "stdout",
     "output_type": "stream",
     "text": [
      "Model and forecast saved for Tampa\n",
      "--------------------------------------------------\n",
      "Processing Denver...\n",
      "Data shape for Denver: (305, 7)\n",
      "Model and forecast saved for Denver\n",
      "--------------------------------------------------\n",
      "Processing Baltimore...\n",
      "Data shape for Baltimore: (305, 7)\n"
     ]
    },
    {
     "name": "stderr",
     "output_type": "stream",
     "text": [
      "20:03:31 - cmdstanpy - INFO - Chain [1] done processing\n",
      "20:03:31 - cmdstanpy - INFO - Chain [1] start processing\n",
      "20:03:31 - cmdstanpy - INFO - Chain [1] done processing\n",
      "20:03:31 - cmdstanpy - INFO - Chain [1] start processing\n"
     ]
    },
    {
     "name": "stdout",
     "output_type": "stream",
     "text": [
      "Model and forecast saved for Baltimore\n",
      "--------------------------------------------------\n",
      "Processing St. Louis...\n",
      "Data shape for St. Louis: (305, 7)\n",
      "Model and forecast saved for St. Louis\n",
      "--------------------------------------------------\n",
      "Processing Orlando...\n",
      "Data shape for Orlando: (305, 7)\n"
     ]
    },
    {
     "name": "stderr",
     "output_type": "stream",
     "text": [
      "20:03:31 - cmdstanpy - INFO - Chain [1] done processing\n",
      "20:03:31 - cmdstanpy - INFO - Chain [1] start processing\n",
      "20:03:31 - cmdstanpy - INFO - Chain [1] done processing\n",
      "20:03:31 - cmdstanpy - INFO - Chain [1] start processing\n",
      "20:03:31 - cmdstanpy - INFO - Chain [1] done processing\n"
     ]
    },
    {
     "name": "stdout",
     "output_type": "stream",
     "text": [
      "Model and forecast saved for Orlando\n",
      "--------------------------------------------------\n",
      "Processing Charlotte...\n",
      "Data shape for Charlotte: (305, 7)\n",
      "Model and forecast saved for Charlotte\n",
      "--------------------------------------------------\n",
      "Processing San Antonio...\n",
      "Data shape for San Antonio: (305, 7)\n"
     ]
    },
    {
     "name": "stderr",
     "output_type": "stream",
     "text": [
      "20:03:31 - cmdstanpy - INFO - Chain [1] start processing\n",
      "20:03:31 - cmdstanpy - INFO - Chain [1] done processing\n",
      "20:03:31 - cmdstanpy - INFO - Chain [1] start processing\n"
     ]
    },
    {
     "name": "stdout",
     "output_type": "stream",
     "text": [
      "Model and forecast saved for San Antonio\n",
      "--------------------------------------------------\n",
      "Processing Portland...\n",
      "Data shape for Portland: (610, 7)\n",
      "Model and forecast saved for Portland\n",
      "--------------------------------------------------\n",
      "Processing Sacramento...\n",
      "Data shape for Sacramento: (305, 7)\n"
     ]
    },
    {
     "name": "stderr",
     "output_type": "stream",
     "text": [
      "20:03:31 - cmdstanpy - INFO - Chain [1] done processing\n",
      "20:03:32 - cmdstanpy - INFO - Chain [1] start processing\n",
      "20:03:32 - cmdstanpy - INFO - Chain [1] done processing\n",
      "20:03:32 - cmdstanpy - INFO - Chain [1] start processing\n"
     ]
    },
    {
     "name": "stdout",
     "output_type": "stream",
     "text": [
      "Model and forecast saved for Sacramento\n",
      "--------------------------------------------------\n",
      "Processing Pittsburgh...\n",
      "Data shape for Pittsburgh: (305, 7)\n",
      "Model and forecast saved for Pittsburgh\n",
      "--------------------------------------------------\n",
      "Processing Cincinnati...\n",
      "Data shape for Cincinnati: (305, 7)\n"
     ]
    },
    {
     "name": "stderr",
     "output_type": "stream",
     "text": [
      "20:03:32 - cmdstanpy - INFO - Chain [1] done processing\n",
      "20:03:32 - cmdstanpy - INFO - Chain [1] start processing\n",
      "20:03:32 - cmdstanpy - INFO - Chain [1] done processing\n",
      "20:03:32 - cmdstanpy - INFO - Chain [1] start processing\n",
      "20:03:32 - cmdstanpy - INFO - Chain [1] done processing\n"
     ]
    },
    {
     "name": "stdout",
     "output_type": "stream",
     "text": [
      "Model and forecast saved for Cincinnati\n",
      "--------------------------------------------------\n",
      "Processing Austin...\n",
      "Data shape for Austin: (610, 7)\n",
      "Model and forecast saved for Austin\n",
      "--------------------------------------------------\n",
      "Processing Las Vegas...\n",
      "Data shape for Las Vegas: (466, 7)\n"
     ]
    },
    {
     "name": "stderr",
     "output_type": "stream",
     "text": [
      "20:03:32 - cmdstanpy - INFO - Chain [1] start processing\n",
      "20:03:32 - cmdstanpy - INFO - Chain [1] done processing\n",
      "20:03:32 - cmdstanpy - INFO - Chain [1] start processing\n"
     ]
    },
    {
     "name": "stdout",
     "output_type": "stream",
     "text": [
      "Model and forecast saved for Las Vegas\n",
      "--------------------------------------------------\n",
      "Processing Kansas City...\n",
      "Data shape for Kansas City: (305, 7)\n",
      "Model and forecast saved for Kansas City\n",
      "--------------------------------------------------\n",
      "Processing Columbus...\n",
      "Data shape for Columbus: (1358, 7)\n"
     ]
    },
    {
     "name": "stderr",
     "output_type": "stream",
     "text": [
      "20:03:32 - cmdstanpy - INFO - Chain [1] done processing\n",
      "20:03:33 - cmdstanpy - INFO - Chain [1] start processing\n",
      "20:03:33 - cmdstanpy - INFO - Chain [1] done processing\n",
      "20:03:33 - cmdstanpy - INFO - Chain [1] start processing\n"
     ]
    },
    {
     "name": "stdout",
     "output_type": "stream",
     "text": [
      "Model and forecast saved for Columbus\n",
      "--------------------------------------------------\n",
      "Processing Cleveland...\n",
      "Data shape for Cleveland: (722, 7)\n",
      "Model and forecast saved for Cleveland\n",
      "--------------------------------------------------\n",
      "Processing San Jose...\n",
      "Data shape for San Jose: (304, 7)\n"
     ]
    },
    {
     "name": "stderr",
     "output_type": "stream",
     "text": [
      "20:03:33 - cmdstanpy - INFO - Chain [1] done processing\n",
      "20:03:33 - cmdstanpy - INFO - Chain [1] start processing\n",
      "20:03:33 - cmdstanpy - INFO - Chain [1] done processing\n",
      "20:03:33 - cmdstanpy - INFO - Chain [1] start processing\n"
     ]
    },
    {
     "name": "stdout",
     "output_type": "stream",
     "text": [
      "Model and forecast saved for San Jose\n",
      "--------------------------------------------------\n",
      "Processing Nashville...\n",
      "Data shape for Nashville: (305, 7)\n",
      "Model and forecast saved for Nashville\n",
      "--------------------------------------------------\n",
      "Processing Virginia Beach...\n",
      "Data shape for Virginia Beach: (305, 7)\n"
     ]
    },
    {
     "name": "stderr",
     "output_type": "stream",
     "text": [
      "20:03:33 - cmdstanpy - INFO - Chain [1] done processing\n",
      "20:03:33 - cmdstanpy - INFO - Chain [1] start processing\n",
      "20:03:33 - cmdstanpy - INFO - Chain [1] done processing\n"
     ]
    },
    {
     "name": "stdout",
     "output_type": "stream",
     "text": [
      "Model and forecast saved for Virginia Beach\n",
      "--------------------------------------------------\n",
      "Processing Providence...\n",
      "Data shape for Providence: (305, 7)\n",
      "Model and forecast saved for Providence\n",
      "--------------------------------------------------\n",
      "Processing Jacksonville...\n",
      "Data shape for Jacksonville: (981, 7)\n"
     ]
    },
    {
     "name": "stderr",
     "output_type": "stream",
     "text": [
      "20:03:33 - cmdstanpy - INFO - Chain [1] start processing\n",
      "20:03:33 - cmdstanpy - INFO - Chain [1] done processing\n",
      "20:03:33 - cmdstanpy - INFO - Chain [1] start processing\n",
      "20:03:34 - cmdstanpy - INFO - Chain [1] done processing\n"
     ]
    },
    {
     "name": "stdout",
     "output_type": "stream",
     "text": [
      "Model and forecast saved for Jacksonville\n",
      "--------------------------------------------------\n",
      "Processing Milwaukee...\n",
      "Data shape for Milwaukee: (305, 7)\n",
      "Model and forecast saved for Milwaukee\n",
      "--------------------------------------------------\n",
      "Processing Oklahoma City...\n",
      "Data shape for Oklahoma City: (305, 7)\n"
     ]
    },
    {
     "name": "stderr",
     "output_type": "stream",
     "text": [
      "20:03:34 - cmdstanpy - INFO - Chain [1] start processing\n",
      "20:03:34 - cmdstanpy - INFO - Chain [1] done processing\n",
      "20:03:34 - cmdstanpy - INFO - Chain [1] start processing\n",
      "20:03:34 - cmdstanpy - INFO - Chain [1] done processing\n",
      "20:03:34 - cmdstanpy - INFO - Chain [1] start processing\n",
      "20:03:34 - cmdstanpy - INFO - Chain [1] done processing\n"
     ]
    },
    {
     "name": "stdout",
     "output_type": "stream",
     "text": [
      "Model and forecast saved for Oklahoma City\n",
      "--------------------------------------------------\n",
      "Processing Raleigh...\n",
      "Data shape for Raleigh: (305, 7)\n",
      "Model and forecast saved for Raleigh\n",
      "--------------------------------------------------\n",
      "Processing Memphis...\n",
      "Data shape for Memphis: (305, 7)\n"
     ]
    },
    {
     "name": "stderr",
     "output_type": "stream",
     "text": [
      "20:03:34 - cmdstanpy - INFO - Chain [1] start processing\n",
      "20:03:34 - cmdstanpy - INFO - Chain [1] done processing\n",
      "20:03:34 - cmdstanpy - INFO - Chain [1] start processing\n"
     ]
    },
    {
     "name": "stdout",
     "output_type": "stream",
     "text": [
      "Model and forecast saved for Memphis\n",
      "--------------------------------------------------\n",
      "Processing Richmond...\n",
      "Data shape for Richmond: (804, 7)\n",
      "Model and forecast saved for Richmond\n",
      "--------------------------------------------------\n",
      "Processing Louisville...\n",
      "Data shape for Louisville: (305, 7)\n"
     ]
    },
    {
     "name": "stderr",
     "output_type": "stream",
     "text": [
      "20:03:34 - cmdstanpy - INFO - Chain [1] done processing\n",
      "20:03:34 - cmdstanpy - INFO - Chain [1] start processing\n",
      "20:03:34 - cmdstanpy - INFO - Chain [1] done processing\n",
      "20:03:34 - cmdstanpy - INFO - Chain [1] start processing\n",
      "20:03:35 - cmdstanpy - INFO - Chain [1] done processing\n"
     ]
    },
    {
     "name": "stdout",
     "output_type": "stream",
     "text": [
      "Model and forecast saved for Louisville\n",
      "--------------------------------------------------\n",
      "Processing New Orleans...\n",
      "Data shape for New Orleans: (305, 7)\n",
      "Model and forecast saved for New Orleans\n",
      "--------------------------------------------------\n",
      "Processing Salt Lake City...\n",
      "Data shape for Salt Lake City: (305, 7)\n"
     ]
    },
    {
     "name": "stderr",
     "output_type": "stream",
     "text": [
      "20:03:35 - cmdstanpy - INFO - Chain [1] start processing\n",
      "20:03:35 - cmdstanpy - INFO - Chain [1] done processing\n",
      "20:03:35 - cmdstanpy - INFO - Chain [1] start processing\n"
     ]
    },
    {
     "name": "stdout",
     "output_type": "stream",
     "text": [
      "Model and forecast saved for Salt Lake City\n",
      "--------------------------------------------------\n",
      "Processing Hartford...\n",
      "Data shape for Hartford: (305, 7)\n",
      "Model and forecast saved for Hartford\n",
      "--------------------------------------------------\n",
      "Processing Buffalo...\n",
      "Data shape for Buffalo: (305, 7)\n"
     ]
    },
    {
     "name": "stderr",
     "output_type": "stream",
     "text": [
      "20:03:35 - cmdstanpy - INFO - Chain [1] done processing\n",
      "20:03:35 - cmdstanpy - INFO - Chain [1] start processing\n",
      "20:03:35 - cmdstanpy - INFO - Chain [1] done processing\n",
      "20:03:35 - cmdstanpy - INFO - Chain [1] start processing\n"
     ]
    },
    {
     "name": "stdout",
     "output_type": "stream",
     "text": [
      "Model and forecast saved for Buffalo\n",
      "--------------------------------------------------\n",
      "Processing Birmingham...\n",
      "Data shape for Birmingham: (305, 7)\n",
      "Model and forecast saved for Birmingham\n",
      "--------------------------------------------------\n",
      "Processing Rochester...\n",
      "Data shape for Rochester: (610, 7)\n"
     ]
    },
    {
     "name": "stderr",
     "output_type": "stream",
     "text": [
      "20:03:35 - cmdstanpy - INFO - Chain [1] done processing\n",
      "20:03:35 - cmdstanpy - INFO - Chain [1] start processing\n",
      "20:03:35 - cmdstanpy - INFO - Chain [1] done processing\n",
      "20:03:35 - cmdstanpy - INFO - Chain [1] start processing\n"
     ]
    },
    {
     "name": "stdout",
     "output_type": "stream",
     "text": [
      "Model and forecast saved for Rochester\n",
      "--------------------------------------------------\n",
      "Processing Grand Rapids...\n",
      "Data shape for Grand Rapids: (305, 7)\n",
      "Model and forecast saved for Grand Rapids\n",
      "--------------------------------------------------\n",
      "Processing Tucson...\n",
      "Data shape for Tucson: (304, 7)\n"
     ]
    },
    {
     "name": "stderr",
     "output_type": "stream",
     "text": [
      "20:03:35 - cmdstanpy - INFO - Chain [1] done processing\n",
      "20:03:35 - cmdstanpy - INFO - Chain [1] start processing\n",
      "20:03:36 - cmdstanpy - INFO - Chain [1] done processing\n",
      "20:03:36 - cmdstanpy - INFO - Chain [1] start processing\n"
     ]
    },
    {
     "name": "stdout",
     "output_type": "stream",
     "text": [
      "Model and forecast saved for Tucson\n",
      "--------------------------------------------------\n",
      "Processing Urban Honolulu...\n",
      "Data shape for Urban Honolulu: (305, 7)\n",
      "Model and forecast saved for Urban Honolulu\n",
      "--------------------------------------------------\n",
      "Processing Tulsa...\n",
      "Data shape for Tulsa: (305, 7)\n"
     ]
    },
    {
     "name": "stderr",
     "output_type": "stream",
     "text": [
      "20:03:36 - cmdstanpy - INFO - Chain [1] done processing\n",
      "20:03:36 - cmdstanpy - INFO - Chain [1] start processing\n",
      "20:03:36 - cmdstanpy - INFO - Chain [1] done processing\n"
     ]
    },
    {
     "name": "stdout",
     "output_type": "stream",
     "text": [
      "Model and forecast saved for Tulsa\n",
      "--------------------------------------------------\n",
      "Processing Fresno...\n",
      "Data shape for Fresno: (305, 7)\n",
      "Model and forecast saved for Fresno\n",
      "--------------------------------------------------\n",
      "Processing Worcester...\n",
      "Data shape for Worcester: (305, 7)\n"
     ]
    },
    {
     "name": "stderr",
     "output_type": "stream",
     "text": [
      "20:03:36 - cmdstanpy - INFO - Chain [1] start processing\n",
      "20:03:36 - cmdstanpy - INFO - Chain [1] done processing\n",
      "20:03:36 - cmdstanpy - INFO - Chain [1] start processing\n",
      "20:03:36 - cmdstanpy - INFO - Chain [1] done processing\n",
      "20:03:36 - cmdstanpy - INFO - Chain [1] start processing\n"
     ]
    },
    {
     "name": "stdout",
     "output_type": "stream",
     "text": [
      "Model and forecast saved for Worcester\n",
      "--------------------------------------------------\n",
      "Processing Omaha...\n",
      "Data shape for Omaha: (305, 7)\n",
      "Model and forecast saved for Omaha\n",
      "--------------------------------------------------\n",
      "Processing Bridgeport...\n",
      "Data shape for Bridgeport: (305, 7)\n"
     ]
    },
    {
     "name": "stderr",
     "output_type": "stream",
     "text": [
      "20:03:36 - cmdstanpy - INFO - Chain [1] done processing\n",
      "20:03:37 - cmdstanpy - INFO - Chain [1] start processing\n",
      "20:03:37 - cmdstanpy - INFO - Chain [1] done processing\n",
      "20:03:37 - cmdstanpy - INFO - Chain [1] start processing\n"
     ]
    },
    {
     "name": "stdout",
     "output_type": "stream",
     "text": [
      "Model and forecast saved for Bridgeport\n",
      "--------------------------------------------------\n",
      "Processing Greenville...\n",
      "Data shape for Greenville: (887, 7)\n",
      "Model and forecast saved for Greenville\n",
      "--------------------------------------------------\n",
      "Processing Bakersfield...\n",
      "Data shape for Bakersfield: (305, 7)\n"
     ]
    },
    {
     "name": "stderr",
     "output_type": "stream",
     "text": [
      "20:03:37 - cmdstanpy - INFO - Chain [1] done processing\n",
      "20:03:37 - cmdstanpy - INFO - Chain [1] start processing\n",
      "20:03:37 - cmdstanpy - INFO - Chain [1] done processing\n",
      "20:03:37 - cmdstanpy - INFO - Chain [1] start processing\n"
     ]
    },
    {
     "name": "stdout",
     "output_type": "stream",
     "text": [
      "Model and forecast saved for Bakersfield\n",
      "--------------------------------------------------\n",
      "Processing Albany...\n",
      "Data shape for Albany: (818, 7)\n",
      "Model and forecast saved for Albany\n",
      "--------------------------------------------------\n",
      "Processing Knoxville...\n",
      "Data shape for Knoxville: (305, 7)\n"
     ]
    },
    {
     "name": "stderr",
     "output_type": "stream",
     "text": [
      "20:03:37 - cmdstanpy - INFO - Chain [1] done processing\n",
      "20:03:37 - cmdstanpy - INFO - Chain [1] start processing\n",
      "20:03:37 - cmdstanpy - INFO - Chain [1] done processing\n",
      "20:03:37 - cmdstanpy - INFO - Chain [1] start processing\n"
     ]
    },
    {
     "name": "stdout",
     "output_type": "stream",
     "text": [
      "Model and forecast saved for Knoxville\n",
      "--------------------------------------------------\n",
      "Processing New Haven...\n",
      "Data shape for New Haven: (305, 7)\n",
      "Model and forecast saved for New Haven\n",
      "--------------------------------------------------\n",
      "Processing El Paso...\n",
      "Data shape for El Paso: (305, 7)\n"
     ]
    },
    {
     "name": "stderr",
     "output_type": "stream",
     "text": [
      "20:03:37 - cmdstanpy - INFO - Chain [1] done processing\n",
      "20:03:37 - cmdstanpy - INFO - Chain [1] start processing\n",
      "20:03:37 - cmdstanpy - INFO - Chain [1] done processing\n",
      "20:03:38 - cmdstanpy - INFO - Chain [1] start processing\n"
     ]
    },
    {
     "name": "stdout",
     "output_type": "stream",
     "text": [
      "Model and forecast saved for El Paso\n",
      "--------------------------------------------------\n",
      "Processing Allentown...\n",
      "Data shape for Allentown: (305, 7)\n",
      "Model and forecast saved for Allentown\n",
      "--------------------------------------------------\n",
      "Processing Oxnard...\n",
      "Data shape for Oxnard: (305, 7)\n"
     ]
    },
    {
     "name": "stderr",
     "output_type": "stream",
     "text": [
      "20:03:38 - cmdstanpy - INFO - Chain [1] done processing\n",
      "20:03:38 - cmdstanpy - INFO - Chain [1] start processing\n",
      "20:03:38 - cmdstanpy - INFO - Chain [1] done processing\n",
      "20:03:38 - cmdstanpy - INFO - Chain [1] start processing\n",
      "20:03:38 - cmdstanpy - INFO - Chain [1] done processing\n"
     ]
    },
    {
     "name": "stdout",
     "output_type": "stream",
     "text": [
      "Model and forecast saved for Oxnard\n",
      "--------------------------------------------------\n",
      "Processing Columbia...\n",
      "Data shape for Columbia: (542, 7)\n",
      "Model and forecast saved for Columbia\n",
      "--------------------------------------------------\n",
      "Processing North Port...\n",
      "Data shape for North Port: (305, 7)\n"
     ]
    },
    {
     "name": "stderr",
     "output_type": "stream",
     "text": [
      "20:03:38 - cmdstanpy - INFO - Chain [1] start processing\n",
      "20:03:38 - cmdstanpy - INFO - Chain [1] done processing\n",
      "20:03:38 - cmdstanpy - INFO - Chain [1] start processing\n"
     ]
    },
    {
     "name": "stdout",
     "output_type": "stream",
     "text": [
      "Model and forecast saved for North Port\n",
      "--------------------------------------------------\n",
      "Processing Charleston...\n",
      "Data shape for Charleston: (805, 7)\n",
      "Model and forecast saved for Charleston\n",
      "--------------------------------------------------\n",
      "Processing Greensboro...\n",
      "Data shape for Greensboro: (305, 7)\n"
     ]
    },
    {
     "name": "stderr",
     "output_type": "stream",
     "text": [
      "20:03:38 - cmdstanpy - INFO - Chain [1] done processing\n",
      "20:03:38 - cmdstanpy - INFO - Chain [1] start processing\n",
      "20:03:38 - cmdstanpy - INFO - Chain [1] done processing\n",
      "20:03:38 - cmdstanpy - INFO - Chain [1] start processing\n",
      "20:03:38 - cmdstanpy - INFO - Chain [1] done processing\n"
     ]
    },
    {
     "name": "stdout",
     "output_type": "stream",
     "text": [
      "Model and forecast saved for Greensboro\n",
      "--------------------------------------------------\n",
      "Processing Stockton...\n",
      "Data shape for Stockton: (305, 7)\n",
      "Model and forecast saved for Stockton\n",
      "--------------------------------------------------\n",
      "Processing Cape Coral...\n",
      "Data shape for Cape Coral: (305, 7)\n"
     ]
    },
    {
     "name": "stderr",
     "output_type": "stream",
     "text": [
      "20:03:39 - cmdstanpy - INFO - Chain [1] start processing\n",
      "20:03:39 - cmdstanpy - INFO - Chain [1] done processing\n",
      "20:03:39 - cmdstanpy - INFO - Chain [1] start processing\n",
      "20:03:39 - cmdstanpy - INFO - Chain [1] done processing\n"
     ]
    },
    {
     "name": "stdout",
     "output_type": "stream",
     "text": [
      "Model and forecast saved for Cape Coral\n",
      "--------------------------------------------------\n",
      "Processing Colorado Springs...\n",
      "Data shape for Colorado Springs: (305, 7)\n",
      "Model and forecast saved for Colorado Springs\n",
      "--------------------------------------------------\n",
      "Processing Little Rock...\n",
      "Data shape for Little Rock: (304, 7)\n"
     ]
    },
    {
     "name": "stderr",
     "output_type": "stream",
     "text": [
      "20:03:39 - cmdstanpy - INFO - Chain [1] start processing\n",
      "20:03:39 - cmdstanpy - INFO - Chain [1] done processing\n",
      "20:03:39 - cmdstanpy - INFO - Chain [1] start processing\n"
     ]
    },
    {
     "name": "stdout",
     "output_type": "stream",
     "text": [
      "Model and forecast saved for Little Rock\n",
      "--------------------------------------------------\n",
      "Processing Lakeland...\n",
      "Data shape for Lakeland: (304, 7)\n",
      "Model and forecast saved for Lakeland\n",
      "--------------------------------------------------\n",
      "Processing Akron...\n",
      "Data shape for Akron: (305, 7)\n"
     ]
    },
    {
     "name": "stderr",
     "output_type": "stream",
     "text": [
      "20:03:39 - cmdstanpy - INFO - Chain [1] done processing\n",
      "20:03:39 - cmdstanpy - INFO - Chain [1] start processing\n",
      "20:03:39 - cmdstanpy - INFO - Chain [1] done processing\n",
      "20:03:39 - cmdstanpy - INFO - Chain [1] start processing\n"
     ]
    },
    {
     "name": "stdout",
     "output_type": "stream",
     "text": [
      "Model and forecast saved for Akron\n",
      "--------------------------------------------------\n",
      "Processing Des Moines...\n",
      "Data shape for Des Moines: (305, 7)\n",
      "Model and forecast saved for Des Moines\n",
      "--------------------------------------------------\n",
      "Processing Springfield...\n",
      "Data shape for Springfield: (1051, 7)\n"
     ]
    },
    {
     "name": "stderr",
     "output_type": "stream",
     "text": [
      "20:03:39 - cmdstanpy - INFO - Chain [1] done processing\n",
      "20:03:39 - cmdstanpy - INFO - Chain [1] start processing\n",
      "20:03:39 - cmdstanpy - INFO - Chain [1] done processing\n",
      "20:03:40 - cmdstanpy - INFO - Chain [1] start processing\n",
      "20:03:40 - cmdstanpy - INFO - Chain [1] done processing\n"
     ]
    },
    {
     "name": "stdout",
     "output_type": "stream",
     "text": [
      "Model and forecast saved for Springfield\n",
      "--------------------------------------------------\n",
      "Processing Ogden...\n",
      "Data shape for Ogden: (305, 7)\n",
      "Model and forecast saved for Ogden\n",
      "--------------------------------------------------\n",
      "Processing Madison...\n",
      "Data shape for Madison: (466, 7)\n"
     ]
    },
    {
     "name": "stderr",
     "output_type": "stream",
     "text": [
      "20:03:40 - cmdstanpy - INFO - Chain [1] start processing\n",
      "20:03:40 - cmdstanpy - INFO - Chain [1] done processing\n",
      "20:03:40 - cmdstanpy - INFO - Chain [1] start processing\n"
     ]
    },
    {
     "name": "stdout",
     "output_type": "stream",
     "text": [
      "Model and forecast saved for Madison\n",
      "--------------------------------------------------\n",
      "Processing Winston...\n",
      "Data shape for Winston: (305, 7)\n",
      "Model and forecast saved for Winston\n",
      "--------------------------------------------------\n",
      "Processing Deltona...\n",
      "Data shape for Deltona: (305, 7)\n"
     ]
    },
    {
     "name": "stderr",
     "output_type": "stream",
     "text": [
      "20:03:40 - cmdstanpy - INFO - Chain [1] done processing\n",
      "20:03:40 - cmdstanpy - INFO - Chain [1] start processing\n",
      "20:03:40 - cmdstanpy - INFO - Chain [1] done processing\n",
      "20:03:40 - cmdstanpy - INFO - Chain [1] start processing\n"
     ]
    },
    {
     "name": "stdout",
     "output_type": "stream",
     "text": [
      "Model and forecast saved for Deltona\n",
      "--------------------------------------------------\n",
      "Processing Syracuse...\n",
      "Data shape for Syracuse: (305, 7)\n",
      "Model and forecast saved for Syracuse\n",
      "--------------------------------------------------\n",
      "Processing Toledo...\n",
      "Data shape for Toledo: (305, 7)\n"
     ]
    },
    {
     "name": "stderr",
     "output_type": "stream",
     "text": [
      "20:03:40 - cmdstanpy - INFO - Chain [1] done processing\n",
      "20:03:40 - cmdstanpy - INFO - Chain [1] start processing\n",
      "20:03:40 - cmdstanpy - INFO - Chain [1] done processing\n",
      "20:03:41 - cmdstanpy - INFO - Chain [1] start processing\n"
     ]
    },
    {
     "name": "stdout",
     "output_type": "stream",
     "text": [
      "Model and forecast saved for Toledo\n",
      "--------------------------------------------------\n",
      "Processing Durham...\n",
      "Data shape for Durham: (304, 7)\n",
      "Model and forecast saved for Durham\n",
      "--------------------------------------------------\n",
      "Processing Augusta...\n",
      "Data shape for Augusta: (610, 7)\n"
     ]
    },
    {
     "name": "stderr",
     "output_type": "stream",
     "text": [
      "20:03:41 - cmdstanpy - INFO - Chain [1] done processing\n",
      "20:03:41 - cmdstanpy - INFO - Chain [1] start processing\n",
      "20:03:41 - cmdstanpy - INFO - Chain [1] done processing\n",
      "20:03:41 - cmdstanpy - INFO - Chain [1] start processing\n"
     ]
    },
    {
     "name": "stdout",
     "output_type": "stream",
     "text": [
      "Model and forecast saved for Augusta\n",
      "--------------------------------------------------\n",
      "Processing Palm Bay...\n",
      "Data shape for Palm Bay: (305, 7)\n",
      "Model and forecast saved for Palm Bay\n",
      "--------------------------------------------------\n",
      "Processing Harrisburg...\n",
      "Data shape for Harrisburg: (305, 7)\n"
     ]
    },
    {
     "name": "stderr",
     "output_type": "stream",
     "text": [
      "20:03:41 - cmdstanpy - INFO - Chain [1] done processing\n",
      "20:03:41 - cmdstanpy - INFO - Chain [1] start processing\n",
      "20:03:41 - cmdstanpy - INFO - Chain [1] done processing\n",
      "20:03:41 - cmdstanpy - INFO - Chain [1] start processing\n"
     ]
    },
    {
     "name": "stdout",
     "output_type": "stream",
     "text": [
      "Model and forecast saved for Harrisburg\n",
      "--------------------------------------------------\n",
      "Processing Spokane...\n",
      "Data shape for Spokane: (305, 7)\n",
      "Model and forecast saved for Spokane\n",
      "--------------------------------------------------\n",
      "Processing Scranton...\n",
      "Data shape for Scranton: (305, 7)\n"
     ]
    },
    {
     "name": "stderr",
     "output_type": "stream",
     "text": [
      "20:03:41 - cmdstanpy - INFO - Chain [1] done processing\n",
      "20:03:41 - cmdstanpy - INFO - Chain [1] start processing\n",
      "20:03:41 - cmdstanpy - INFO - Chain [1] done processing\n",
      "20:03:41 - cmdstanpy - INFO - Chain [1] start processing\n"
     ]
    },
    {
     "name": "stdout",
     "output_type": "stream",
     "text": [
      "Model and forecast saved for Scranton\n",
      "--------------------------------------------------\n",
      "Processing Chattanooga...\n",
      "Data shape for Chattanooga: (305, 7)\n",
      "Model and forecast saved for Chattanooga\n",
      "--------------------------------------------------\n",
      "Processing Modesto...\n",
      "Data shape for Modesto: (305, 7)\n"
     ]
    },
    {
     "name": "stderr",
     "output_type": "stream",
     "text": [
      "20:03:42 - cmdstanpy - INFO - Chain [1] done processing\n",
      "20:03:42 - cmdstanpy - INFO - Chain [1] start processing\n",
      "20:03:42 - cmdstanpy - INFO - Chain [1] done processing\n",
      "20:03:42 - cmdstanpy - INFO - Chain [1] start processing\n"
     ]
    },
    {
     "name": "stdout",
     "output_type": "stream",
     "text": [
      "Model and forecast saved for Modesto\n",
      "--------------------------------------------------\n",
      "Processing Youngstown...\n",
      "Data shape for Youngstown: (305, 7)\n",
      "Model and forecast saved for Youngstown\n",
      "--------------------------------------------------\n",
      "Processing Lansing...\n",
      "Data shape for Lansing: (305, 7)\n"
     ]
    },
    {
     "name": "stderr",
     "output_type": "stream",
     "text": [
      "20:03:42 - cmdstanpy - INFO - Chain [1] done processing\n",
      "20:03:42 - cmdstanpy - INFO - Chain [1] start processing\n",
      "20:03:42 - cmdstanpy - INFO - Chain [1] done processing\n",
      "20:03:42 - cmdstanpy - INFO - Chain [1] start processing\n"
     ]
    },
    {
     "name": "stdout",
     "output_type": "stream",
     "text": [
      "Model and forecast saved for Lansing\n",
      "--------------------------------------------------\n",
      "Processing Fayetteville...\n",
      "Data shape for Fayetteville: (606, 7)\n",
      "Model and forecast saved for Fayetteville\n",
      "--------------------------------------------------\n",
      "Processing Lexington...\n",
      "Data shape for Lexington: (512, 7)\n"
     ]
    },
    {
     "name": "stderr",
     "output_type": "stream",
     "text": [
      "20:03:42 - cmdstanpy - INFO - Chain [1] done processing\n",
      "20:03:42 - cmdstanpy - INFO - Chain [1] start processing\n",
      "20:03:42 - cmdstanpy - INFO - Chain [1] done processing\n",
      "20:03:42 - cmdstanpy - INFO - Chain [1] start processing\n"
     ]
    },
    {
     "name": "stdout",
     "output_type": "stream",
     "text": [
      "Model and forecast saved for Lexington\n",
      "--------------------------------------------------\n",
      "Processing Pensacola...\n",
      "Data shape for Pensacola: (305, 7)\n",
      "Model and forecast saved for Pensacola\n",
      "--------------------------------------------------\n",
      "Processing Santa Rosa...\n",
      "Data shape for Santa Rosa: (305, 7)\n"
     ]
    },
    {
     "name": "stderr",
     "output_type": "stream",
     "text": [
      "20:03:42 - cmdstanpy - INFO - Chain [1] done processing\n",
      "20:03:43 - cmdstanpy - INFO - Chain [1] start processing\n",
      "20:03:43 - cmdstanpy - INFO - Chain [1] done processing\n",
      "20:03:43 - cmdstanpy - INFO - Chain [1] start processing\n",
      "20:03:43 - cmdstanpy - INFO - Chain [1] done processing\n"
     ]
    },
    {
     "name": "stdout",
     "output_type": "stream",
     "text": [
      "Model and forecast saved for Santa Rosa\n",
      "--------------------------------------------------\n",
      "Processing Reno...\n",
      "Data shape for Reno: (305, 7)\n",
      "Model and forecast saved for Reno\n",
      "--------------------------------------------------\n",
      "Processing Port St. Lucie...\n",
      "Data shape for Port St. Lucie: (305, 7)\n"
     ]
    },
    {
     "name": "stderr",
     "output_type": "stream",
     "text": [
      "20:03:43 - cmdstanpy - INFO - Chain [1] start processing\n",
      "20:03:43 - cmdstanpy - INFO - Chain [1] done processing\n",
      "20:03:43 - cmdstanpy - INFO - Chain [1] start processing\n"
     ]
    },
    {
     "name": "stdout",
     "output_type": "stream",
     "text": [
      "Model and forecast saved for Port St. Lucie\n",
      "--------------------------------------------------\n",
      "Processing Visalia...\n",
      "Data shape for Visalia: (305, 7)\n",
      "Model and forecast saved for Visalia\n",
      "--------------------------------------------------\n",
      "Processing Asheville...\n",
      "Data shape for Asheville: (305, 7)\n"
     ]
    },
    {
     "name": "stderr",
     "output_type": "stream",
     "text": [
      "20:03:43 - cmdstanpy - INFO - Chain [1] done processing\n",
      "20:03:43 - cmdstanpy - INFO - Chain [1] start processing\n",
      "20:03:43 - cmdstanpy - INFO - Chain [1] done processing\n",
      "20:03:43 - cmdstanpy - INFO - Chain [1] start processing\n"
     ]
    },
    {
     "name": "stdout",
     "output_type": "stream",
     "text": [
      "Model and forecast saved for Asheville\n",
      "--------------------------------------------------\n",
      "Processing York...\n",
      "Data shape for York: (304, 7)\n",
      "Model and forecast saved for York\n",
      "--------------------------------------------------\n",
      "Processing Vallejo...\n",
      "Data shape for Vallejo: (305, 7)\n"
     ]
    },
    {
     "name": "stderr",
     "output_type": "stream",
     "text": [
      "20:03:43 - cmdstanpy - INFO - Chain [1] done processing\n",
      "20:03:43 - cmdstanpy - INFO - Chain [1] start processing\n",
      "20:03:43 - cmdstanpy - INFO - Chain [1] done processing\n",
      "20:03:44 - cmdstanpy - INFO - Chain [1] start processing\n"
     ]
    },
    {
     "name": "stdout",
     "output_type": "stream",
     "text": [
      "Model and forecast saved for Vallejo\n",
      "--------------------------------------------------\n",
      "Processing Santa Maria...\n",
      "Data shape for Santa Maria: (305, 7)\n",
      "Model and forecast saved for Santa Maria\n",
      "--------------------------------------------------\n",
      "Processing Salinas...\n",
      "Data shape for Salinas: (305, 7)\n"
     ]
    },
    {
     "name": "stderr",
     "output_type": "stream",
     "text": [
      "20:03:44 - cmdstanpy - INFO - Chain [1] done processing\n",
      "20:03:44 - cmdstanpy - INFO - Chain [1] start processing\n",
      "20:03:44 - cmdstanpy - INFO - Chain [1] done processing\n",
      "20:03:44 - cmdstanpy - INFO - Chain [1] start processing\n"
     ]
    },
    {
     "name": "stdout",
     "output_type": "stream",
     "text": [
      "Model and forecast saved for Salinas\n",
      "--------------------------------------------------\n",
      "Processing Salem...\n",
      "Data shape for Salem: (608, 7)\n",
      "Model and forecast saved for Salem\n",
      "--------------------------------------------------\n",
      "Processing Mobile...\n",
      "Data shape for Mobile: (305, 7)\n"
     ]
    },
    {
     "name": "stderr",
     "output_type": "stream",
     "text": [
      "20:03:44 - cmdstanpy - INFO - Chain [1] done processing\n",
      "20:03:44 - cmdstanpy - INFO - Chain [1] start processing\n",
      "20:03:44 - cmdstanpy - INFO - Chain [1] done processing\n"
     ]
    },
    {
     "name": "stdout",
     "output_type": "stream",
     "text": [
      "Model and forecast saved for Mobile\n",
      "--------------------------------------------------\n",
      "Processing Reading...\n",
      "Data shape for Reading: (305, 7)\n"
     ]
    },
    {
     "name": "stderr",
     "output_type": "stream",
     "text": [
      "20:03:44 - cmdstanpy - INFO - Chain [1] start processing\n",
      "20:03:44 - cmdstanpy - INFO - Chain [1] done processing\n",
      "20:03:44 - cmdstanpy - INFO - Chain [1] start processing\n"
     ]
    },
    {
     "name": "stdout",
     "output_type": "stream",
     "text": [
      "Model and forecast saved for Reading\n",
      "--------------------------------------------------\n",
      "Processing Manchester...\n",
      "Data shape for Manchester: (305, 7)\n",
      "Model and forecast saved for Manchester\n",
      "--------------------------------------------------\n",
      "Processing Salisbury...\n",
      "Data shape for Salisbury: (305, 7)\n"
     ]
    },
    {
     "name": "stderr",
     "output_type": "stream",
     "text": [
      "20:03:44 - cmdstanpy - INFO - Chain [1] done processing\n",
      "20:03:45 - cmdstanpy - INFO - Chain [1] start processing\n",
      "20:03:45 - cmdstanpy - INFO - Chain [1] done processing\n"
     ]
    },
    {
     "name": "stdout",
     "output_type": "stream",
     "text": [
      "Model and forecast saved for Salisbury\n",
      "--------------------------------------------------\n",
      "Processing Flint...\n",
      "Data shape for Flint: (304, 7)\n",
      "Model and forecast saved for Flint\n",
      "--------------------------------------------------\n",
      "Processing Canton...\n",
      "Data shape for Canton: (305, 7)\n"
     ]
    },
    {
     "name": "stderr",
     "output_type": "stream",
     "text": [
      "20:03:45 - cmdstanpy - INFO - Chain [1] start processing\n",
      "20:03:45 - cmdstanpy - INFO - Chain [1] done processing\n",
      "20:03:45 - cmdstanpy - INFO - Chain [1] start processing\n",
      "20:03:45 - cmdstanpy - INFO - Chain [1] done processing\n",
      "20:03:45 - cmdstanpy - INFO - Chain [1] start processing\n"
     ]
    },
    {
     "name": "stdout",
     "output_type": "stream",
     "text": [
      "Model and forecast saved for Canton\n",
      "--------------------------------------------------\n",
      "Processing Savannah...\n",
      "Data shape for Savannah: (305, 7)\n",
      "Model and forecast saved for Savannah\n",
      "--------------------------------------------------\n",
      "Processing Anchorage...\n",
      "Data shape for Anchorage: (303, 7)\n"
     ]
    },
    {
     "name": "stderr",
     "output_type": "stream",
     "text": [
      "20:03:45 - cmdstanpy - INFO - Chain [1] done processing\n",
      "20:03:45 - cmdstanpy - INFO - Chain [1] start processing\n",
      "20:03:45 - cmdstanpy - INFO - Chain [1] done processing\n",
      "20:03:45 - cmdstanpy - INFO - Chain [1] start processing\n"
     ]
    },
    {
     "name": "stdout",
     "output_type": "stream",
     "text": [
      "Model and forecast saved for Anchorage\n",
      "--------------------------------------------------\n",
      "Processing Trenton...\n",
      "Data shape for Trenton: (305, 7)\n",
      "Model and forecast saved for Trenton\n",
      "--------------------------------------------------\n",
      "Processing Montgomery...\n",
      "Data shape for Montgomery: (305, 7)\n"
     ]
    },
    {
     "name": "stderr",
     "output_type": "stream",
     "text": [
      "20:03:45 - cmdstanpy - INFO - Chain [1] done processing\n",
      "20:03:46 - cmdstanpy - INFO - Chain [1] start processing\n",
      "20:03:46 - cmdstanpy - INFO - Chain [1] done processing\n",
      "20:03:46 - cmdstanpy - INFO - Chain [1] start processing\n"
     ]
    },
    {
     "name": "stdout",
     "output_type": "stream",
     "text": [
      "Model and forecast saved for Montgomery\n",
      "--------------------------------------------------\n",
      "Processing Tallahassee...\n",
      "Data shape for Tallahassee: (305, 7)\n",
      "Model and forecast saved for Tallahassee\n",
      "--------------------------------------------------\n",
      "Processing Eugene...\n",
      "Data shape for Eugene: (305, 7)\n"
     ]
    },
    {
     "name": "stderr",
     "output_type": "stream",
     "text": [
      "20:03:46 - cmdstanpy - INFO - Chain [1] done processing\n",
      "20:03:46 - cmdstanpy - INFO - Chain [1] start processing\n",
      "20:03:46 - cmdstanpy - INFO - Chain [1] done processing\n",
      "20:03:46 - cmdstanpy - INFO - Chain [1] start processing\n"
     ]
    },
    {
     "name": "stdout",
     "output_type": "stream",
     "text": [
      "Model and forecast saved for Eugene\n",
      "--------------------------------------------------\n",
      "Processing Naples...\n",
      "Data shape for Naples: (304, 7)\n",
      "Model and forecast saved for Naples\n",
      "--------------------------------------------------\n",
      "Processing Ann Arbor...\n",
      "Data shape for Ann Arbor: (305, 7)\n"
     ]
    },
    {
     "name": "stderr",
     "output_type": "stream",
     "text": [
      "20:03:46 - cmdstanpy - INFO - Chain [1] done processing\n",
      "20:03:46 - cmdstanpy - INFO - Chain [1] start processing\n",
      "20:03:46 - cmdstanpy - INFO - Chain [1] done processing\n",
      "20:03:46 - cmdstanpy - INFO - Chain [1] start processing\n"
     ]
    },
    {
     "name": "stdout",
     "output_type": "stream",
     "text": [
      "Model and forecast saved for Ann Arbor\n",
      "--------------------------------------------------\n",
      "Processing Hickory...\n",
      "Data shape for Hickory: (305, 7)\n",
      "Model and forecast saved for Hickory\n",
      "--------------------------------------------------\n",
      "Processing Huntington...\n",
      "Data shape for Huntington: (497, 7)\n"
     ]
    },
    {
     "name": "stderr",
     "output_type": "stream",
     "text": [
      "20:03:46 - cmdstanpy - INFO - Chain [1] done processing\n",
      "20:03:46 - cmdstanpy - INFO - Chain [1] start processing\n",
      "20:03:46 - cmdstanpy - INFO - Chain [1] done processing\n",
      "20:03:47 - cmdstanpy - INFO - Chain [1] start processing\n"
     ]
    },
    {
     "name": "stdout",
     "output_type": "stream",
     "text": [
      "Model and forecast saved for Huntington\n",
      "--------------------------------------------------\n",
      "Processing Fort Collins...\n",
      "Data shape for Fort Collins: (305, 7)\n",
      "Model and forecast saved for Fort Collins\n",
      "--------------------------------------------------\n",
      "Processing Rockford...\n",
      "Data shape for Rockford: (305, 7)\n"
     ]
    },
    {
     "name": "stderr",
     "output_type": "stream",
     "text": [
      "20:03:47 - cmdstanpy - INFO - Chain [1] done processing\n",
      "20:03:47 - cmdstanpy - INFO - Chain [1] start processing\n",
      "20:03:47 - cmdstanpy - INFO - Chain [1] done processing\n",
      "20:03:47 - cmdstanpy - INFO - Chain [1] start processing\n"
     ]
    },
    {
     "name": "stdout",
     "output_type": "stream",
     "text": [
      "Model and forecast saved for Rockford\n",
      "--------------------------------------------------\n",
      "Processing Lincoln...\n",
      "Data shape for Lincoln: (442, 7)\n",
      "Model and forecast saved for Lincoln\n",
      "--------------------------------------------------\n",
      "Processing Gainesville...\n",
      "Data shape for Gainesville: (805, 7)\n"
     ]
    },
    {
     "name": "stderr",
     "output_type": "stream",
     "text": [
      "20:03:47 - cmdstanpy - INFO - Chain [1] done processing\n",
      "20:03:47 - cmdstanpy - INFO - Chain [1] start processing\n",
      "20:03:47 - cmdstanpy - INFO - Chain [1] done processing\n",
      "20:03:47 - cmdstanpy - INFO - Chain [1] start processing\n",
      "20:03:47 - cmdstanpy - INFO - Chain [1] done processing\n"
     ]
    },
    {
     "name": "stdout",
     "output_type": "stream",
     "text": [
      "Model and forecast saved for Gainesville\n",
      "--------------------------------------------------\n",
      "Processing Boulder...\n",
      "Data shape for Boulder: (305, 7)\n",
      "Model and forecast saved for Boulder\n",
      "--------------------------------------------------\n",
      "Processing Greeley...\n",
      "Data shape for Greeley: (305, 7)\n"
     ]
    },
    {
     "name": "stderr",
     "output_type": "stream",
     "text": [
      "20:03:47 - cmdstanpy - INFO - Chain [1] start processing\n",
      "20:03:47 - cmdstanpy - INFO - Chain [1] done processing\n",
      "20:03:47 - cmdstanpy - INFO - Chain [1] start processing\n",
      "20:03:47 - cmdstanpy - INFO - Chain [1] done processing\n"
     ]
    },
    {
     "name": "stdout",
     "output_type": "stream",
     "text": [
      "Model and forecast saved for Greeley\n",
      "--------------------------------------------------\n",
      "Processing Lubbock...\n",
      "Data shape for Lubbock: (303, 7)\n",
      "Model and forecast saved for Lubbock\n",
      "--------------------------------------------------\n",
      "Processing Clarksville...\n",
      "Data shape for Clarksville: (305, 7)\n"
     ]
    },
    {
     "name": "stderr",
     "output_type": "stream",
     "text": [
      "20:03:48 - cmdstanpy - INFO - Chain [1] start processing\n",
      "20:03:48 - cmdstanpy - INFO - Chain [1] done processing\n"
     ]
    },
    {
     "name": "stdout",
     "output_type": "stream",
     "text": [
      "Model and forecast saved for Clarksville\n",
      "--------------------------------------------------\n",
      "Processing Evansville...\n",
      "Data shape for Evansville: (305, 7)\n",
      "Model and forecast saved for Evansville\n",
      "--------------------------------------------------\n",
      "Processing Kingsport...\n",
      "Data shape for Kingsport: (305, 7)\n"
     ]
    },
    {
     "name": "stderr",
     "output_type": "stream",
     "text": [
      "20:03:48 - cmdstanpy - INFO - Chain [1] start processing\n",
      "20:03:48 - cmdstanpy - INFO - Chain [1] done processing\n",
      "20:03:48 - cmdstanpy - INFO - Chain [1] start processing\n",
      "20:03:48 - cmdstanpy - INFO - Chain [1] done processing\n",
      "20:03:48 - cmdstanpy - INFO - Chain [1] start processing\n"
     ]
    },
    {
     "name": "stdout",
     "output_type": "stream",
     "text": [
      "Model and forecast saved for Kingsport\n",
      "--------------------------------------------------\n",
      "Processing Kennewick...\n",
      "Data shape for Kennewick: (301, 7)\n",
      "Model and forecast saved for Kennewick\n",
      "--------------------------------------------------\n",
      "Processing Utica...\n",
      "Data shape for Utica: (305, 7)\n"
     ]
    },
    {
     "name": "stderr",
     "output_type": "stream",
     "text": [
      "20:03:48 - cmdstanpy - INFO - Chain [1] done processing\n",
      "20:03:48 - cmdstanpy - INFO - Chain [1] start processing\n",
      "20:03:48 - cmdstanpy - INFO - Chain [1] done processing\n",
      "20:03:48 - cmdstanpy - INFO - Chain [1] start processing\n"
     ]
    },
    {
     "name": "stdout",
     "output_type": "stream",
     "text": [
      "Model and forecast saved for Utica\n",
      "--------------------------------------------------\n",
      "Processing Hagerstown...\n",
      "Data shape for Hagerstown: (305, 7)\n",
      "Model and forecast saved for Hagerstown\n",
      "--------------------------------------------------\n",
      "Processing Olympia...\n",
      "Data shape for Olympia: (304, 7)\n"
     ]
    },
    {
     "name": "stderr",
     "output_type": "stream",
     "text": [
      "20:03:48 - cmdstanpy - INFO - Chain [1] done processing\n",
      "20:03:49 - cmdstanpy - INFO - Chain [1] start processing\n",
      "20:03:49 - cmdstanpy - INFO - Chain [1] done processing\n",
      "20:03:49 - cmdstanpy - INFO - Chain [1] start processing\n",
      "20:03:49 - cmdstanpy - INFO - Chain [1] done processing\n"
     ]
    },
    {
     "name": "stdout",
     "output_type": "stream",
     "text": [
      "Model and forecast saved for Olympia\n",
      "--------------------------------------------------\n",
      "Processing Longview...\n",
      "Data shape for Longview: (501, 7)\n",
      "Model and forecast saved for Longview\n",
      "--------------------------------------------------\n",
      "Processing San Luis Obispo...\n",
      "Data shape for San Luis Obispo: (305, 7)\n"
     ]
    },
    {
     "name": "stderr",
     "output_type": "stream",
     "text": [
      "20:03:49 - cmdstanpy - INFO - Chain [1] start processing\n",
      "20:03:49 - cmdstanpy - INFO - Chain [1] done processing\n",
      "20:03:49 - cmdstanpy - INFO - Chain [1] start processing\n"
     ]
    },
    {
     "name": "stdout",
     "output_type": "stream",
     "text": [
      "Model and forecast saved for San Luis Obispo\n",
      "--------------------------------------------------\n",
      "Processing Crestview...\n",
      "Data shape for Crestview: (305, 7)\n",
      "Model and forecast saved for Crestview\n",
      "--------------------------------------------------\n",
      "Processing Cedar Rapids...\n",
      "Data shape for Cedar Rapids: (305, 7)\n"
     ]
    },
    {
     "name": "stderr",
     "output_type": "stream",
     "text": [
      "20:03:49 - cmdstanpy - INFO - Chain [1] done processing\n",
      "20:03:49 - cmdstanpy - INFO - Chain [1] start processing\n",
      "20:03:49 - cmdstanpy - INFO - Chain [1] done processing\n",
      "20:03:49 - cmdstanpy - INFO - Chain [1] start processing\n"
     ]
    },
    {
     "name": "stdout",
     "output_type": "stream",
     "text": [
      "Model and forecast saved for Cedar Rapids\n",
      "--------------------------------------------------\n",
      "Processing Atlantic City...\n",
      "Data shape for Atlantic City: (305, 7)\n",
      "Model and forecast saved for Atlantic City\n",
      "--------------------------------------------------\n",
      "Processing Bremerton...\n",
      "Data shape for Bremerton: (305, 7)\n"
     ]
    },
    {
     "name": "stderr",
     "output_type": "stream",
     "text": [
      "20:03:49 - cmdstanpy - INFO - Chain [1] done processing\n",
      "20:03:49 - cmdstanpy - INFO - Chain [1] start processing\n",
      "20:03:49 - cmdstanpy - INFO - Chain [1] done processing\n",
      "20:03:49 - cmdstanpy - INFO - Chain [1] start processing\n"
     ]
    },
    {
     "name": "stdout",
     "output_type": "stream",
     "text": [
      "Model and forecast saved for Bremerton\n",
      "--------------------------------------------------\n",
      "Processing Santa Cruz...\n",
      "Data shape for Santa Cruz: (305, 7)\n",
      "Model and forecast saved for Santa Cruz\n",
      "--------------------------------------------------\n",
      "Processing Erie...\n",
      "Data shape for Erie: (305, 7)\n"
     ]
    },
    {
     "name": "stderr",
     "output_type": "stream",
     "text": [
      "20:03:50 - cmdstanpy - INFO - Chain [1] done processing\n",
      "20:03:50 - cmdstanpy - INFO - Chain [1] start processing\n",
      "20:03:50 - cmdstanpy - INFO - Chain [1] done processing\n",
      "20:03:50 - cmdstanpy - INFO - Chain [1] start processing\n"
     ]
    },
    {
     "name": "stdout",
     "output_type": "stream",
     "text": [
      "Model and forecast saved for Erie\n",
      "--------------------------------------------------\n",
      "Processing Norwich...\n",
      "Data shape for Norwich: (305, 7)\n",
      "Model and forecast saved for Norwich\n",
      "--------------------------------------------------\n",
      "Processing Tuscaloosa...\n",
      "Data shape for Tuscaloosa: (305, 7)\n"
     ]
    },
    {
     "name": "stderr",
     "output_type": "stream",
     "text": [
      "20:03:50 - cmdstanpy - INFO - Chain [1] done processing\n",
      "20:03:50 - cmdstanpy - INFO - Chain [1] start processing\n",
      "20:03:50 - cmdstanpy - INFO - Chain [1] done processing\n",
      "20:03:50 - cmdstanpy - INFO - Chain [1] start processing\n"
     ]
    },
    {
     "name": "stdout",
     "output_type": "stream",
     "text": [
      "Model and forecast saved for Tuscaloosa\n",
      "--------------------------------------------------\n",
      "Processing Kalamazoo...\n",
      "Data shape for Kalamazoo: (305, 7)\n",
      "Model and forecast saved for Kalamazoo\n",
      "--------------------------------------------------\n",
      "Processing Lynchburg...\n",
      "Data shape for Lynchburg: (305, 7)\n"
     ]
    },
    {
     "name": "stderr",
     "output_type": "stream",
     "text": [
      "20:03:50 - cmdstanpy - INFO - Chain [1] done processing\n",
      "20:03:50 - cmdstanpy - INFO - Chain [1] start processing\n",
      "20:03:50 - cmdstanpy - INFO - Chain [1] done processing\n"
     ]
    },
    {
     "name": "stdout",
     "output_type": "stream",
     "text": [
      "Model and forecast saved for Lynchburg\n",
      "--------------------------------------------------\n",
      "Processing Binghamton...\n",
      "Data shape for Binghamton: (305, 7)\n",
      "Model and forecast saved for Binghamton\n",
      "--------------------------------------------------\n",
      "Processing Fort Smith...\n",
      "Data shape for Fort Smith: (305, 7)\n"
     ]
    },
    {
     "name": "stderr",
     "output_type": "stream",
     "text": [
      "20:03:50 - cmdstanpy - INFO - Chain [1] start processing\n",
      "20:03:50 - cmdstanpy - INFO - Chain [1] done processing\n",
      "20:03:51 - cmdstanpy - INFO - Chain [1] start processing\n",
      "20:03:51 - cmdstanpy - INFO - Chain [1] done processing\n",
      "20:03:51 - cmdstanpy - INFO - Chain [1] start processing\n"
     ]
    },
    {
     "name": "stdout",
     "output_type": "stream",
     "text": [
      "Model and forecast saved for Fort Smith\n",
      "--------------------------------------------------\n",
      "Processing Topeka...\n",
      "Data shape for Topeka: (305, 7)\n",
      "Model and forecast saved for Topeka\n",
      "--------------------------------------------------\n",
      "Processing Macon...\n",
      "Data shape for Macon: (305, 7)\n"
     ]
    },
    {
     "name": "stderr",
     "output_type": "stream",
     "text": [
      "20:03:51 - cmdstanpy - INFO - Chain [1] done processing\n",
      "20:03:51 - cmdstanpy - INFO - Chain [1] start processing\n",
      "20:03:51 - cmdstanpy - INFO - Chain [1] done processing\n",
      "20:03:51 - cmdstanpy - INFO - Chain [1] start processing\n"
     ]
    },
    {
     "name": "stdout",
     "output_type": "stream",
     "text": [
      "Model and forecast saved for Macon\n",
      "--------------------------------------------------\n",
      "Processing Barnstable Town...\n",
      "Data shape for Barnstable Town: (305, 7)\n",
      "Model and forecast saved for Barnstable Town\n",
      "--------------------------------------------------\n",
      "Processing Daphne...\n",
      "Data shape for Daphne: (305, 7)\n"
     ]
    },
    {
     "name": "stderr",
     "output_type": "stream",
     "text": [
      "20:03:51 - cmdstanpy - INFO - Chain [1] done processing\n",
      "20:03:51 - cmdstanpy - INFO - Chain [1] start processing\n",
      "20:03:51 - cmdstanpy - INFO - Chain [1] done processing\n",
      "20:03:51 - cmdstanpy - INFO - Chain [1] start processing\n"
     ]
    },
    {
     "name": "stdout",
     "output_type": "stream",
     "text": [
      "Model and forecast saved for Daphne\n",
      "--------------------------------------------------\n",
      "Processing Burlington...\n",
      "Data shape for Burlington: (613, 7)\n",
      "Model and forecast saved for Burlington\n",
      "--------------------------------------------------\n",
      "Processing Lafayette...\n",
      "Data shape for Lafayette: (566, 7)\n"
     ]
    },
    {
     "name": "stderr",
     "output_type": "stream",
     "text": [
      "20:03:51 - cmdstanpy - INFO - Chain [1] done processing\n",
      "20:03:51 - cmdstanpy - INFO - Chain [1] start processing\n",
      "20:03:51 - cmdstanpy - INFO - Chain [1] done processing\n",
      "20:03:52 - cmdstanpy - INFO - Chain [1] start processing\n"
     ]
    },
    {
     "name": "stdout",
     "output_type": "stream",
     "text": [
      "Model and forecast saved for Lafayette\n",
      "--------------------------------------------------\n",
      "Processing Medford...\n",
      "Data shape for Medford: (305, 7)\n",
      "Model and forecast saved for Medford\n",
      "--------------------------------------------------\n",
      "Processing Charlottesville...\n",
      "Data shape for Charlottesville: (303, 7)\n"
     ]
    },
    {
     "name": "stderr",
     "output_type": "stream",
     "text": [
      "20:03:52 - cmdstanpy - INFO - Chain [1] done processing\n",
      "20:03:52 - cmdstanpy - INFO - Chain [1] start processing\n",
      "20:03:52 - cmdstanpy - INFO - Chain [1] done processing\n",
      "20:03:52 - cmdstanpy - INFO - Chain [1] start processing\n"
     ]
    },
    {
     "name": "stdout",
     "output_type": "stream",
     "text": [
      "Model and forecast saved for Charlottesville\n",
      "--------------------------------------------------\n",
      "Processing Hilton Head Island...\n",
      "Data shape for Hilton Head Island: (305, 7)\n",
      "Model and forecast saved for Hilton Head Island\n",
      "--------------------------------------------------\n",
      "Processing Athens...\n",
      "Data shape for Athens: (863, 7)\n"
     ]
    },
    {
     "name": "stderr",
     "output_type": "stream",
     "text": [
      "20:03:52 - cmdstanpy - INFO - Chain [1] done processing\n",
      "20:03:52 - cmdstanpy - INFO - Chain [1] start processing\n",
      "20:03:52 - cmdstanpy - INFO - Chain [1] done processing\n",
      "20:03:52 - cmdstanpy - INFO - Chain [1] start processing\n"
     ]
    },
    {
     "name": "stdout",
     "output_type": "stream",
     "text": [
      "Model and forecast saved for Athens\n",
      "--------------------------------------------------\n",
      "Processing Lake Havasu City...\n",
      "Data shape for Lake Havasu City: (305, 7)\n",
      "Model and forecast saved for Lake Havasu City\n",
      "--------------------------------------------------\n",
      "Processing Monroe...\n",
      "Data shape for Monroe: (608, 7)\n"
     ]
    },
    {
     "name": "stderr",
     "output_type": "stream",
     "text": [
      "20:03:52 - cmdstanpy - INFO - Chain [1] done processing\n",
      "20:03:52 - cmdstanpy - INFO - Chain [1] start processing\n",
      "20:03:52 - cmdstanpy - INFO - Chain [1] done processing\n"
     ]
    },
    {
     "name": "stdout",
     "output_type": "stream",
     "text": [
      "Model and forecast saved for Monroe\n",
      "--------------------------------------------------\n",
      "Processing Johnson City...\n",
      "Data shape for Johnson City: (305, 7)\n"
     ]
    },
    {
     "name": "stderr",
     "output_type": "stream",
     "text": [
      "20:03:53 - cmdstanpy - INFO - Chain [1] start processing\n",
      "20:03:53 - cmdstanpy - INFO - Chain [1] done processing\n",
      "20:03:53 - cmdstanpy - INFO - Chain [1] start processing\n"
     ]
    },
    {
     "name": "stdout",
     "output_type": "stream",
     "text": [
      "Model and forecast saved for Johnson City\n",
      "--------------------------------------------------\n",
      "Processing Bend...\n",
      "Data shape for Bend: (302, 7)\n",
      "Model and forecast saved for Bend\n",
      "--------------------------------------------------\n",
      "Processing Saginaw...\n",
      "Data shape for Saginaw: (305, 7)\n"
     ]
    },
    {
     "name": "stderr",
     "output_type": "stream",
     "text": [
      "20:03:53 - cmdstanpy - INFO - Chain [1] done processing\n",
      "20:03:53 - cmdstanpy - INFO - Chain [1] start processing\n",
      "20:03:53 - cmdstanpy - INFO - Chain [1] done processing\n",
      "20:03:53 - cmdstanpy - INFO - Chain [1] start processing\n"
     ]
    },
    {
     "name": "stdout",
     "output_type": "stream",
     "text": [
      "Model and forecast saved for Saginaw\n",
      "--------------------------------------------------\n",
      "Processing Warner Robins...\n",
      "Data shape for Warner Robins: (305, 7)\n",
      "Model and forecast saved for Warner Robins\n",
      "--------------------------------------------------\n",
      "Processing Torrington...\n",
      "Data shape for Torrington: (305, 7)\n"
     ]
    },
    {
     "name": "stderr",
     "output_type": "stream",
     "text": [
      "20:03:53 - cmdstanpy - INFO - Chain [1] done processing\n",
      "20:03:53 - cmdstanpy - INFO - Chain [1] start processing\n",
      "20:03:53 - cmdstanpy - INFO - Chain [1] done processing\n",
      "20:03:53 - cmdstanpy - INFO - Chain [1] start processing\n"
     ]
    },
    {
     "name": "stdout",
     "output_type": "stream",
     "text": [
      "Model and forecast saved for Torrington\n",
      "--------------------------------------------------\n",
      "Processing Punta Gorda...\n",
      "Data shape for Punta Gorda: (305, 7)\n",
      "Model and forecast saved for Punta Gorda\n",
      "--------------------------------------------------\n",
      "Processing Redding...\n",
      "Data shape for Redding: (305, 7)\n"
     ]
    },
    {
     "name": "stderr",
     "output_type": "stream",
     "text": [
      "20:03:53 - cmdstanpy - INFO - Chain [1] done processing\n",
      "20:03:54 - cmdstanpy - INFO - Chain [1] start processing\n",
      "20:03:54 - cmdstanpy - INFO - Chain [1] done processing\n",
      "20:03:54 - cmdstanpy - INFO - Chain [1] start processing\n",
      "20:03:54 - cmdstanpy - INFO - Chain [1] done processing\n"
     ]
    },
    {
     "name": "stdout",
     "output_type": "stream",
     "text": [
      "Model and forecast saved for Redding\n",
      "--------------------------------------------------\n",
      "Processing Kingston...\n",
      "Data shape for Kingston: (305, 7)\n",
      "Model and forecast saved for Kingston\n",
      "--------------------------------------------------\n",
      "Processing Panama City...\n",
      "Data shape for Panama City: (305, 7)\n"
     ]
    },
    {
     "name": "stderr",
     "output_type": "stream",
     "text": [
      "20:03:54 - cmdstanpy - INFO - Chain [1] start processing\n",
      "20:03:54 - cmdstanpy - INFO - Chain [1] done processing\n"
     ]
    },
    {
     "name": "stdout",
     "output_type": "stream",
     "text": [
      "Model and forecast saved for Panama City\n",
      "--------------------------------------------------\n",
      "Processing Jackson...\n",
      "Data shape for Jackson: (1337, 7)\n"
     ]
    },
    {
     "name": "stderr",
     "output_type": "stream",
     "text": [
      "20:03:54 - cmdstanpy - INFO - Chain [1] start processing\n",
      "20:03:54 - cmdstanpy - INFO - Chain [1] done processing\n",
      "20:03:54 - cmdstanpy - INFO - Chain [1] start processing\n"
     ]
    },
    {
     "name": "stdout",
     "output_type": "stream",
     "text": [
      "Model and forecast saved for Jackson\n",
      "--------------------------------------------------\n",
      "Processing Bowling Green...\n",
      "Data shape for Bowling Green: (305, 7)\n",
      "Model and forecast saved for Bowling Green\n",
      "--------------------------------------------------\n",
      "Processing Muskegon...\n",
      "Data shape for Muskegon: (305, 7)\n"
     ]
    },
    {
     "name": "stderr",
     "output_type": "stream",
     "text": [
      "20:03:54 - cmdstanpy - INFO - Chain [1] done processing\n",
      "20:03:54 - cmdstanpy - INFO - Chain [1] start processing\n",
      "20:03:54 - cmdstanpy - INFO - Chain [1] done processing\n",
      "20:03:54 - cmdstanpy - INFO - Chain [1] start processing\n"
     ]
    },
    {
     "name": "stdout",
     "output_type": "stream",
     "text": [
      "Model and forecast saved for Muskegon\n",
      "--------------------------------------------------\n",
      "Processing Auburn...\n",
      "Data shape for Auburn: (804, 7)\n",
      "Model and forecast saved for Auburn\n",
      "--------------------------------------------------\n",
      "Processing Bloomington...\n",
      "Data shape for Bloomington: (567, 7)\n"
     ]
    },
    {
     "name": "stderr",
     "output_type": "stream",
     "text": [
      "20:03:54 - cmdstanpy - INFO - Chain [1] done processing\n",
      "20:03:55 - cmdstanpy - INFO - Chain [1] start processing\n",
      "20:03:55 - cmdstanpy - INFO - Chain [1] done processing\n",
      "20:03:55 - cmdstanpy - INFO - Chain [1] start processing\n"
     ]
    },
    {
     "name": "stdout",
     "output_type": "stream",
     "text": [
      "Model and forecast saved for Bloomington\n",
      "--------------------------------------------------\n",
      "Processing Pueblo...\n",
      "Data shape for Pueblo: (305, 7)\n",
      "Model and forecast saved for Pueblo\n",
      "--------------------------------------------------\n",
      "Processing Blacksburg...\n",
      "Data shape for Blacksburg: (305, 7)\n"
     ]
    },
    {
     "name": "stderr",
     "output_type": "stream",
     "text": [
      "20:03:55 - cmdstanpy - INFO - Chain [1] done processing\n",
      "20:03:55 - cmdstanpy - INFO - Chain [1] start processing\n",
      "20:03:55 - cmdstanpy - INFO - Chain [1] done processing\n",
      "20:03:55 - cmdstanpy - INFO - Chain [1] start processing\n"
     ]
    },
    {
     "name": "stdout",
     "output_type": "stream",
     "text": [
      "Model and forecast saved for Blacksburg\n",
      "--------------------------------------------------\n",
      "Processing Kahului...\n",
      "Data shape for Kahului: (305, 7)\n",
      "Model and forecast saved for Kahului\n",
      "--------------------------------------------------\n",
      "Processing Sebastian...\n",
      "Data shape for Sebastian: (305, 7)\n"
     ]
    },
    {
     "name": "stderr",
     "output_type": "stream",
     "text": [
      "20:03:55 - cmdstanpy - INFO - Chain [1] done processing\n",
      "20:03:55 - cmdstanpy - INFO - Chain [1] start processing\n",
      "20:03:55 - cmdstanpy - INFO - Chain [1] done processing\n",
      "20:03:55 - cmdstanpy - INFO - Chain [1] start processing\n",
      "20:03:55 - cmdstanpy - INFO - Chain [1] done processing\n"
     ]
    },
    {
     "name": "stdout",
     "output_type": "stream",
     "text": [
      "Model and forecast saved for Sebastian\n",
      "--------------------------------------------------\n",
      "Processing Vineland...\n",
      "Data shape for Vineland: (305, 7)\n",
      "Model and forecast saved for Vineland\n",
      "--------------------------------------------------\n",
      "Processing Idaho Falls...\n",
      "Data shape for Idaho Falls: (305, 7)\n"
     ]
    },
    {
     "name": "stderr",
     "output_type": "stream",
     "text": [
      "20:03:55 - cmdstanpy - INFO - Chain [1] start processing\n",
      "20:03:55 - cmdstanpy - INFO - Chain [1] done processing\n",
      "20:03:56 - cmdstanpy - INFO - Chain [1] start processing\n"
     ]
    },
    {
     "name": "stdout",
     "output_type": "stream",
     "text": [
      "Model and forecast saved for Idaho Falls\n",
      "--------------------------------------------------\n",
      "Processing Grand Junction...\n",
      "Data shape for Grand Junction: (305, 7)\n",
      "Model and forecast saved for Grand Junction\n",
      "--------------------------------------------------\n",
      "Processing Elizabethtown...\n",
      "Data shape for Elizabethtown: (303, 7)\n"
     ]
    },
    {
     "name": "stderr",
     "output_type": "stream",
     "text": [
      "20:03:56 - cmdstanpy - INFO - Chain [1] done processing\n",
      "20:03:56 - cmdstanpy - INFO - Chain [1] start processing\n",
      "20:03:56 - cmdstanpy - INFO - Chain [1] done processing\n",
      "20:03:56 - cmdstanpy - INFO - Chain [1] start processing\n",
      "20:03:56 - cmdstanpy - INFO - Chain [1] done processing\n"
     ]
    },
    {
     "name": "stdout",
     "output_type": "stream",
     "text": [
      "Model and forecast saved for Elizabethtown\n",
      "--------------------------------------------------\n",
      "Processing Niles...\n",
      "Data shape for Niles: (305, 7)\n",
      "Model and forecast saved for Niles\n",
      "--------------------------------------------------\n",
      "Processing Concord...\n",
      "Data shape for Concord: (305, 7)\n"
     ]
    },
    {
     "name": "stderr",
     "output_type": "stream",
     "text": [
      "20:03:56 - cmdstanpy - INFO - Chain [1] start processing\n",
      "20:03:56 - cmdstanpy - INFO - Chain [1] done processing\n",
      "20:03:56 - cmdstanpy - INFO - Chain [1] start processing\n",
      "20:03:56 - cmdstanpy - INFO - Chain [1] done processing\n"
     ]
    },
    {
     "name": "stdout",
     "output_type": "stream",
     "text": [
      "Model and forecast saved for Concord\n",
      "--------------------------------------------------\n",
      "Processing Alexandria...\n",
      "Data shape for Alexandria: (558, 7)\n",
      "Model and forecast saved for Alexandria\n",
      "--------------------------------------------------\n",
      "Processing Traverse City...\n",
      "Data shape for Traverse City: (305, 7)\n"
     ]
    },
    {
     "name": "stderr",
     "output_type": "stream",
     "text": [
      "20:03:56 - cmdstanpy - INFO - Chain [1] start processing\n",
      "20:03:56 - cmdstanpy - INFO - Chain [1] done processing\n",
      "20:03:56 - cmdstanpy - INFO - Chain [1] start processing\n",
      "20:03:56 - cmdstanpy - INFO - Chain [1] done processing\n"
     ]
    },
    {
     "name": "stdout",
     "output_type": "stream",
     "text": [
      "Model and forecast saved for Traverse City\n",
      "--------------------------------------------------\n",
      "Processing Bangor...\n",
      "Data shape for Bangor: (305, 7)\n",
      "Model and forecast saved for Bangor\n",
      "--------------------------------------------------\n",
      "Processing Homosassa Springs...\n",
      "Data shape for Homosassa Springs: (305, 7)\n"
     ]
    },
    {
     "name": "stderr",
     "output_type": "stream",
     "text": [
      "20:03:56 - cmdstanpy - INFO - Chain [1] start processing\n",
      "20:03:56 - cmdstanpy - INFO - Chain [1] done processing\n",
      "20:03:57 - cmdstanpy - INFO - Chain [1] start processing\n",
      "20:03:57 - cmdstanpy - INFO - Chain [1] done processing\n"
     ]
    },
    {
     "name": "stdout",
     "output_type": "stream",
     "text": [
      "Model and forecast saved for Homosassa Springs\n",
      "--------------------------------------------------\n",
      "Processing London...\n",
      "Data shape for London: (305, 7)\n",
      "Model and forecast saved for London\n",
      "--------------------------------------------------\n",
      "Processing Sioux City...\n",
      "Data shape for Sioux City: (304, 7)\n"
     ]
    },
    {
     "name": "stderr",
     "output_type": "stream",
     "text": [
      "20:03:57 - cmdstanpy - INFO - Chain [1] start processing\n",
      "20:03:57 - cmdstanpy - INFO - Chain [1] done processing\n",
      "20:03:57 - cmdstanpy - INFO - Chain [1] start processing\n",
      "20:03:57 - cmdstanpy - INFO - Chain [1] done processing\n"
     ]
    },
    {
     "name": "stdout",
     "output_type": "stream",
     "text": [
      "Model and forecast saved for Sioux City\n",
      "--------------------------------------------------\n",
      "Processing Texarkana...\n",
      "Data shape for Texarkana: (304, 7)\n",
      "Model and forecast saved for Texarkana\n",
      "--------------------------------------------------\n",
      "Processing Valdosta...\n",
      "Data shape for Valdosta: (302, 7)\n"
     ]
    },
    {
     "name": "stderr",
     "output_type": "stream",
     "text": [
      "20:03:57 - cmdstanpy - INFO - Chain [1] start processing\n",
      "20:03:57 - cmdstanpy - INFO - Chain [1] done processing\n",
      "20:03:57 - cmdstanpy - INFO - Chain [1] start processing\n",
      "20:03:57 - cmdstanpy - INFO - Chain [1] done processing\n"
     ]
    },
    {
     "name": "stdout",
     "output_type": "stream",
     "text": [
      "Model and forecast saved for Valdosta\n",
      "--------------------------------------------------\n",
      "Processing Flagstaff...\n",
      "Data shape for Flagstaff: (305, 7)\n",
      "Model and forecast saved for Flagstaff\n",
      "--------------------------------------------------\n",
      "Processing Rocky Mount...\n",
      "Data shape for Rocky Mount: (305, 7)\n"
     ]
    },
    {
     "name": "stderr",
     "output_type": "stream",
     "text": [
      "20:03:57 - cmdstanpy - INFO - Chain [1] start processing\n",
      "20:03:57 - cmdstanpy - INFO - Chain [1] done processing\n",
      "20:03:57 - cmdstanpy - INFO - Chain [1] start processing\n"
     ]
    },
    {
     "name": "stdout",
     "output_type": "stream",
     "text": [
      "Model and forecast saved for Rocky Mount\n",
      "--------------------------------------------------\n",
      "Processing Dalton...\n",
      "Data shape for Dalton: (304, 7)\n",
      "Model and forecast saved for Dalton\n",
      "--------------------------------------------------\n",
      "Processing Morristown...\n",
      "Data shape for Morristown: (302, 7)\n"
     ]
    },
    {
     "name": "stderr",
     "output_type": "stream",
     "text": [
      "20:03:57 - cmdstanpy - INFO - Chain [1] done processing\n",
      "20:03:58 - cmdstanpy - INFO - Chain [1] start processing\n",
      "20:03:58 - cmdstanpy - INFO - Chain [1] done processing\n",
      "20:03:58 - cmdstanpy - INFO - Chain [1] start processing\n"
     ]
    },
    {
     "name": "stdout",
     "output_type": "stream",
     "text": [
      "Model and forecast saved for Morristown\n",
      "--------------------------------------------------\n",
      "Processing Winchester...\n",
      "Data shape for Winchester: (305, 7)\n",
      "Model and forecast saved for Winchester\n",
      "--------------------------------------------------\n",
      "Processing Wheeling...\n",
      "Data shape for Wheeling: (305, 7)\n"
     ]
    },
    {
     "name": "stderr",
     "output_type": "stream",
     "text": [
      "20:03:58 - cmdstanpy - INFO - Chain [1] done processing\n",
      "20:03:58 - cmdstanpy - INFO - Chain [1] start processing\n",
      "20:03:58 - cmdstanpy - INFO - Chain [1] done processing\n",
      "20:03:58 - cmdstanpy - INFO - Chain [1] start processing\n"
     ]
    },
    {
     "name": "stdout",
     "output_type": "stream",
     "text": [
      "Model and forecast saved for Wheeling\n",
      "--------------------------------------------------\n",
      "Processing Morgantown...\n",
      "Data shape for Morgantown: (302, 7)\n",
      "Model and forecast saved for Morgantown\n",
      "--------------------------------------------------\n",
      "Processing Napa...\n",
      "Data shape for Napa: (305, 7)\n"
     ]
    },
    {
     "name": "stderr",
     "output_type": "stream",
     "text": [
      "20:03:58 - cmdstanpy - INFO - Chain [1] done processing\n",
      "20:03:58 - cmdstanpy - INFO - Chain [1] start processing\n",
      "20:03:58 - cmdstanpy - INFO - Chain [1] done processing\n",
      "20:03:58 - cmdstanpy - INFO - Chain [1] start processing\n"
     ]
    },
    {
     "name": "stdout",
     "output_type": "stream",
     "text": [
      "Model and forecast saved for Napa\n",
      "--------------------------------------------------\n",
      "Processing Battle Creek...\n",
      "Data shape for Battle Creek: (305, 7)\n",
      "Model and forecast saved for Battle Creek\n",
      "--------------------------------------------------\n",
      "Processing Jonesboro...\n",
      "Data shape for Jonesboro: (305, 7)\n"
     ]
    },
    {
     "name": "stderr",
     "output_type": "stream",
     "text": [
      "20:03:58 - cmdstanpy - INFO - Chain [1] done processing\n",
      "20:03:58 - cmdstanpy - INFO - Chain [1] start processing\n",
      "20:03:58 - cmdstanpy - INFO - Chain [1] done processing\n",
      "20:03:59 - cmdstanpy - INFO - Chain [1] start processing\n",
      "20:03:59 - cmdstanpy - INFO - Chain [1] done processing\n"
     ]
    },
    {
     "name": "stdout",
     "output_type": "stream",
     "text": [
      "Model and forecast saved for Jonesboro\n",
      "--------------------------------------------------\n",
      "Processing Pittsfield...\n",
      "Data shape for Pittsfield: (305, 7)\n",
      "Model and forecast saved for Pittsfield\n",
      "--------------------------------------------------\n",
      "Processing Mount Vernon...\n",
      "Data shape for Mount Vernon: (697, 7)\n"
     ]
    },
    {
     "name": "stderr",
     "output_type": "stream",
     "text": [
      "20:03:59 - cmdstanpy - INFO - Chain [1] start processing\n",
      "20:03:59 - cmdstanpy - INFO - Chain [1] done processing\n",
      "20:03:59 - cmdstanpy - INFO - Chain [1] start processing\n",
      "20:03:59 - cmdstanpy - INFO - Chain [1] done processing\n"
     ]
    },
    {
     "name": "stdout",
     "output_type": "stream",
     "text": [
      "Model and forecast saved for Mount Vernon\n",
      "--------------------------------------------------\n",
      "Processing Jamestown...\n",
      "Data shape for Jamestown: (418, 7)\n",
      "Model and forecast saved for Jamestown\n",
      "--------------------------------------------------\n",
      "Processing The Villages...\n",
      "Data shape for The Villages: (302, 7)\n"
     ]
    },
    {
     "name": "stderr",
     "output_type": "stream",
     "text": [
      "20:03:59 - cmdstanpy - INFO - Chain [1] start processing\n",
      "20:03:59 - cmdstanpy - INFO - Chain [1] done processing\n",
      "20:03:59 - cmdstanpy - INFO - Chain [1] start processing\n"
     ]
    },
    {
     "name": "stdout",
     "output_type": "stream",
     "text": [
      "Model and forecast saved for The Villages\n",
      "--------------------------------------------------\n",
      "Processing Glens Falls...\n",
      "Data shape for Glens Falls: (304, 7)\n",
      "Model and forecast saved for Glens Falls\n",
      "--------------------------------------------------\n",
      "Processing Lawton...\n",
      "Data shape for Lawton: (300, 7)\n"
     ]
    },
    {
     "name": "stderr",
     "output_type": "stream",
     "text": [
      "20:03:59 - cmdstanpy - INFO - Chain [1] done processing\n",
      "20:03:59 - cmdstanpy - INFO - Chain [1] start processing\n",
      "20:03:59 - cmdstanpy - INFO - Chain [1] done processing\n",
      "20:03:59 - cmdstanpy - INFO - Chain [1] start processing\n"
     ]
    },
    {
     "name": "stdout",
     "output_type": "stream",
     "text": [
      "Model and forecast saved for Lawton\n",
      "--------------------------------------------------\n",
      "Processing Mansfield...\n",
      "Data shape for Mansfield: (301, 7)\n",
      "Model and forecast saved for Mansfield\n",
      "--------------------------------------------------\n",
      "Processing Altoona...\n",
      "Data shape for Altoona: (305, 7)\n"
     ]
    },
    {
     "name": "stderr",
     "output_type": "stream",
     "text": [
      "20:03:59 - cmdstanpy - INFO - Chain [1] done processing\n",
      "20:04:00 - cmdstanpy - INFO - Chain [1] start processing\n",
      "20:04:00 - cmdstanpy - INFO - Chain [1] done processing\n",
      "20:04:00 - cmdstanpy - INFO - Chain [1] start processing\n"
     ]
    },
    {
     "name": "stdout",
     "output_type": "stream",
     "text": [
      "Model and forecast saved for Altoona\n",
      "--------------------------------------------------\n",
      "Processing New Bern...\n",
      "Data shape for New Bern: (305, 7)\n",
      "Model and forecast saved for New Bern\n",
      "--------------------------------------------------\n",
      "Processing Owensboro...\n",
      "Data shape for Owensboro: (303, 7)\n"
     ]
    },
    {
     "name": "stderr",
     "output_type": "stream",
     "text": [
      "20:04:00 - cmdstanpy - INFO - Chain [1] done processing\n",
      "20:04:00 - cmdstanpy - INFO - Chain [1] start processing\n",
      "20:04:00 - cmdstanpy - INFO - Chain [1] done processing\n",
      "20:04:00 - cmdstanpy - INFO - Chain [1] start processing\n"
     ]
    },
    {
     "name": "stdout",
     "output_type": "stream",
     "text": [
      "Model and forecast saved for Owensboro\n",
      "--------------------------------------------------\n",
      "Processing Holland...\n",
      "Data shape for Holland: (304, 7)\n",
      "Model and forecast saved for Holland\n",
      "--------------------------------------------------\n",
      "Processing Goldsboro...\n",
      "Data shape for Goldsboro: (305, 7)\n"
     ]
    },
    {
     "name": "stderr",
     "output_type": "stream",
     "text": [
      "20:04:00 - cmdstanpy - INFO - Chain [1] done processing\n",
      "20:04:00 - cmdstanpy - INFO - Chain [1] start processing\n",
      "20:04:00 - cmdstanpy - INFO - Chain [1] done processing\n",
      "20:04:00 - cmdstanpy - INFO - Chain [1] start processing\n"
     ]
    },
    {
     "name": "stdout",
     "output_type": "stream",
     "text": [
      "Model and forecast saved for Goldsboro\n",
      "--------------------------------------------------\n",
      "Processing Watertown...\n",
      "Data shape for Watertown: (658, 7)\n",
      "Model and forecast saved for Watertown\n",
      "--------------------------------------------------\n",
      "Processing Beckley...\n",
      "Data shape for Beckley: (302, 7)\n"
     ]
    },
    {
     "name": "stderr",
     "output_type": "stream",
     "text": [
      "20:04:00 - cmdstanpy - INFO - Chain [1] done processing\n",
      "20:04:00 - cmdstanpy - INFO - Chain [1] start processing\n",
      "20:04:00 - cmdstanpy - INFO - Chain [1] done processing\n",
      "20:04:01 - cmdstanpy - INFO - Chain [1] start processing\n"
     ]
    },
    {
     "name": "stdout",
     "output_type": "stream",
     "text": [
      "Model and forecast saved for Beckley\n",
      "--------------------------------------------------\n",
      "Processing Williamsport...\n",
      "Data shape for Williamsport: (302, 7)\n",
      "Model and forecast saved for Williamsport\n",
      "--------------------------------------------------\n",
      "Processing Brunswick...\n",
      "Data shape for Brunswick: (305, 7)\n"
     ]
    },
    {
     "name": "stderr",
     "output_type": "stream",
     "text": [
      "20:04:01 - cmdstanpy - INFO - Chain [1] done processing\n",
      "20:04:01 - cmdstanpy - INFO - Chain [1] start processing\n",
      "20:04:01 - cmdstanpy - INFO - Chain [1] done processing\n",
      "20:04:01 - cmdstanpy - INFO - Chain [1] start processing\n"
     ]
    },
    {
     "name": "stdout",
     "output_type": "stream",
     "text": [
      "Model and forecast saved for Brunswick\n",
      "--------------------------------------------------\n",
      "Processing California...\n",
      "Data shape for California: (305, 7)\n",
      "Model and forecast saved for California\n",
      "--------------------------------------------------\n",
      "Processing Cookeville...\n",
      "Data shape for Cookeville: (305, 7)\n"
     ]
    },
    {
     "name": "stderr",
     "output_type": "stream",
     "text": [
      "20:04:01 - cmdstanpy - INFO - Chain [1] done processing\n",
      "20:04:01 - cmdstanpy - INFO - Chain [1] start processing\n",
      "20:04:01 - cmdstanpy - INFO - Chain [1] done processing\n",
      "20:04:01 - cmdstanpy - INFO - Chain [1] start processing\n",
      "20:04:01 - cmdstanpy - INFO - Chain [1] done processing\n"
     ]
    },
    {
     "name": "stdout",
     "output_type": "stream",
     "text": [
      "Model and forecast saved for Cookeville\n",
      "--------------------------------------------------\n",
      "Processing Roseburg...\n",
      "Data shape for Roseburg: (305, 7)\n",
      "Model and forecast saved for Roseburg\n",
      "--------------------------------------------------\n",
      "Processing Lewiston...\n",
      "Data shape for Lewiston: (500, 7)\n"
     ]
    },
    {
     "name": "stderr",
     "output_type": "stream",
     "text": [
      "20:04:01 - cmdstanpy - INFO - Chain [1] start processing\n",
      "20:04:01 - cmdstanpy - INFO - Chain [1] done processing\n",
      "20:04:01 - cmdstanpy - INFO - Chain [1] start processing\n",
      "20:04:01 - cmdstanpy - INFO - Chain [1] done processing\n"
     ]
    },
    {
     "name": "stdout",
     "output_type": "stream",
     "text": [
      "Model and forecast saved for Lewiston\n",
      "--------------------------------------------------\n",
      "Processing Ogdensburg...\n",
      "Data shape for Ogdensburg: (305, 7)\n",
      "Model and forecast saved for Ogdensburg\n",
      "--------------------------------------------------\n",
      "Processing Bluefield...\n",
      "Data shape for Bluefield: (305, 7)\n"
     ]
    },
    {
     "name": "stderr",
     "output_type": "stream",
     "text": [
      "20:04:01 - cmdstanpy - INFO - Chain [1] start processing\n",
      "20:04:01 - cmdstanpy - INFO - Chain [1] done processing\n",
      "20:04:02 - cmdstanpy - INFO - Chain [1] start processing\n",
      "20:04:02 - cmdstanpy - INFO - Chain [1] done processing\n"
     ]
    },
    {
     "name": "stdout",
     "output_type": "stream",
     "text": [
      "Model and forecast saved for Bluefield\n",
      "--------------------------------------------------\n",
      "Processing Show Low...\n",
      "Data shape for Show Low: (305, 7)\n",
      "Model and forecast saved for Show Low\n",
      "--------------------------------------------------\n",
      "Processing Tullahoma...\n",
      "Data shape for Tullahoma: (305, 7)\n"
     ]
    },
    {
     "name": "stderr",
     "output_type": "stream",
     "text": [
      "20:04:02 - cmdstanpy - INFO - Chain [1] start processing\n",
      "20:04:02 - cmdstanpy - INFO - Chain [1] done processing\n",
      "20:04:02 - cmdstanpy - INFO - Chain [1] start processing\n"
     ]
    },
    {
     "name": "stdout",
     "output_type": "stream",
     "text": [
      "Model and forecast saved for Tullahoma\n",
      "--------------------------------------------------\n",
      "Processing Ithaca...\n",
      "Data shape for Ithaca: (305, 7)\n",
      "Model and forecast saved for Ithaca\n",
      "--------------------------------------------------\n",
      "Processing Decatur...\n",
      "Data shape for Decatur: (722, 7)\n"
     ]
    },
    {
     "name": "stderr",
     "output_type": "stream",
     "text": [
      "20:04:02 - cmdstanpy - INFO - Chain [1] done processing\n",
      "20:04:02 - cmdstanpy - INFO - Chain [1] start processing\n",
      "20:04:02 - cmdstanpy - INFO - Chain [1] done processing\n",
      "20:04:02 - cmdstanpy - INFO - Chain [1] start processing\n"
     ]
    },
    {
     "name": "stdout",
     "output_type": "stream",
     "text": [
      "Model and forecast saved for Decatur\n",
      "--------------------------------------------------\n",
      "Processing LaGrange...\n",
      "Data shape for LaGrange: (301, 7)\n",
      "Model and forecast saved for LaGrange\n",
      "--------------------------------------------------\n",
      "Processing Bay City...\n",
      "Data shape for Bay City: (499, 7)\n"
     ]
    },
    {
     "name": "stderr",
     "output_type": "stream",
     "text": [
      "20:04:02 - cmdstanpy - INFO - Chain [1] done processing\n",
      "20:04:02 - cmdstanpy - INFO - Chain [1] start processing\n",
      "20:04:02 - cmdstanpy - INFO - Chain [1] done processing\n"
     ]
    },
    {
     "name": "stdout",
     "output_type": "stream",
     "text": [
      "Model and forecast saved for Bay City\n",
      "--------------------------------------------------\n",
      "Processing Gettysburg...\n",
      "Data shape for Gettysburg: (303, 7)\n",
      "Model and forecast saved for Gettysburg\n",
      "--------------------------------------------------\n",
      "Processing Danville...\n"
     ]
    },
    {
     "name": "stderr",
     "output_type": "stream",
     "text": [
      "20:04:03 - cmdstanpy - INFO - Chain [1] start processing\n",
      "20:04:03 - cmdstanpy - INFO - Chain [1] done processing\n",
      "20:04:03 - cmdstanpy - INFO - Chain [1] start processing\n"
     ]
    },
    {
     "name": "stdout",
     "output_type": "stream",
     "text": [
      "Data shape for Danville: (915, 7)\n",
      "Model and forecast saved for Danville\n",
      "--------------------------------------------------\n",
      "Processing Lima...\n",
      "Data shape for Lima: (303, 7)\n"
     ]
    },
    {
     "name": "stderr",
     "output_type": "stream",
     "text": [
      "20:04:03 - cmdstanpy - INFO - Chain [1] done processing\n",
      "20:04:03 - cmdstanpy - INFO - Chain [1] start processing\n",
      "20:04:03 - cmdstanpy - INFO - Chain [1] done processing\n",
      "20:04:03 - cmdstanpy - INFO - Chain [1] start processing\n"
     ]
    },
    {
     "name": "stdout",
     "output_type": "stream",
     "text": [
      "Model and forecast saved for Lima\n",
      "--------------------------------------------------\n",
      "Processing Hot Springs...\n",
      "Data shape for Hot Springs: (305, 7)\n",
      "Model and forecast saved for Hot Springs\n",
      "--------------------------------------------------\n",
      "Processing Adrian...\n",
      "Data shape for Adrian: (305, 7)\n"
     ]
    },
    {
     "name": "stderr",
     "output_type": "stream",
     "text": [
      "20:04:03 - cmdstanpy - INFO - Chain [1] done processing\n",
      "20:04:03 - cmdstanpy - INFO - Chain [1] start processing\n",
      "20:04:03 - cmdstanpy - INFO - Chain [1] done processing\n",
      "20:04:03 - cmdstanpy - INFO - Chain [1] start processing\n",
      "20:04:03 - cmdstanpy - INFO - Chain [1] done processing\n"
     ]
    },
    {
     "name": "stdout",
     "output_type": "stream",
     "text": [
      "Model and forecast saved for Adrian\n",
      "--------------------------------------------------\n",
      "Processing Shelby...\n",
      "Data shape for Shelby: (301, 7)\n",
      "Model and forecast saved for Shelby\n",
      "--------------------------------------------------\n",
      "Processing Paducah...\n",
      "Data shape for Paducah: (301, 7)\n"
     ]
    },
    {
     "name": "stderr",
     "output_type": "stream",
     "text": [
      "20:04:03 - cmdstanpy - INFO - Chain [1] start processing\n",
      "20:04:03 - cmdstanpy - INFO - Chain [1] done processing\n",
      "20:04:03 - cmdstanpy - INFO - Chain [1] start processing\n",
      "20:04:04 - cmdstanpy - INFO - Chain [1] done processing\n"
     ]
    },
    {
     "name": "stdout",
     "output_type": "stream",
     "text": [
      "Model and forecast saved for Paducah\n",
      "--------------------------------------------------\n",
      "Processing Rome...\n",
      "Data shape for Rome: (303, 7)\n",
      "Model and forecast saved for Rome\n",
      "--------------------------------------------------\n",
      "Processing Sevierville...\n",
      "Data shape for Sevierville: (305, 7)\n"
     ]
    },
    {
     "name": "stderr",
     "output_type": "stream",
     "text": [
      "20:04:04 - cmdstanpy - INFO - Chain [1] start processing\n",
      "20:04:04 - cmdstanpy - INFO - Chain [1] done processing\n",
      "20:04:04 - cmdstanpy - INFO - Chain [1] start processing\n"
     ]
    },
    {
     "name": "stdout",
     "output_type": "stream",
     "text": [
      "Model and forecast saved for Sevierville\n",
      "--------------------------------------------------\n",
      "Processing Ashtabula...\n",
      "Data shape for Ashtabula: (305, 7)\n",
      "Model and forecast saved for Ashtabula\n",
      "--------------------------------------------------\n",
      "Processing Cumberland...\n",
      "Data shape for Cumberland: (296, 7)\n"
     ]
    },
    {
     "name": "stderr",
     "output_type": "stream",
     "text": [
      "20:04:04 - cmdstanpy - INFO - Chain [1] done processing\n",
      "20:04:04 - cmdstanpy - INFO - Chain [1] start processing\n",
      "20:04:04 - cmdstanpy - INFO - Chain [1] done processing\n",
      "20:04:04 - cmdstanpy - INFO - Chain [1] start processing\n"
     ]
    },
    {
     "name": "stdout",
     "output_type": "stream",
     "text": [
      "Model and forecast saved for Cumberland\n",
      "--------------------------------------------------\n",
      "Processing Ocean City...\n",
      "Data shape for Ocean City: (305, 7)\n",
      "Model and forecast saved for Ocean City\n",
      "--------------------------------------------------\n",
      "Processing Corvallis...\n",
      "Data shape for Corvallis: (304, 7)\n"
     ]
    },
    {
     "name": "stderr",
     "output_type": "stream",
     "text": [
      "20:04:04 - cmdstanpy - INFO - Chain [1] done processing\n",
      "20:04:04 - cmdstanpy - INFO - Chain [1] start processing\n",
      "20:04:04 - cmdstanpy - INFO - Chain [1] done processing\n",
      "20:04:04 - cmdstanpy - INFO - Chain [1] start processing\n",
      "20:04:04 - cmdstanpy - INFO - Chain [1] done processing\n"
     ]
    },
    {
     "name": "stdout",
     "output_type": "stream",
     "text": [
      "Model and forecast saved for Corvallis\n",
      "--------------------------------------------------\n",
      "Processing Corning...\n",
      "Data shape for Corning: (305, 7)\n",
      "Model and forecast saved for Corning\n",
      "--------------------------------------------------\n",
      "Processing New Philadelphia...\n",
      "Data shape for New Philadelphia: (301, 7)\n"
     ]
    },
    {
     "name": "stderr",
     "output_type": "stream",
     "text": [
      "20:04:04 - cmdstanpy - INFO - Chain [1] start processing\n",
      "20:04:04 - cmdstanpy - INFO - Chain [1] done processing\n",
      "20:04:05 - cmdstanpy - INFO - Chain [1] start processing\n"
     ]
    },
    {
     "name": "stdout",
     "output_type": "stream",
     "text": [
      "Model and forecast saved for New Philadelphia\n",
      "--------------------------------------------------\n",
      "Processing Clarksburg...\n",
      "Data shape for Clarksburg: (305, 7)\n",
      "Model and forecast saved for Clarksburg\n",
      "--------------------------------------------------\n",
      "Processing Parkersburg...\n",
      "Data shape for Parkersburg: (303, 7)\n"
     ]
    },
    {
     "name": "stderr",
     "output_type": "stream",
     "text": [
      "20:04:05 - cmdstanpy - INFO - Chain [1] done processing\n",
      "20:04:05 - cmdstanpy - INFO - Chain [1] start processing\n",
      "20:04:05 - cmdstanpy - INFO - Chain [1] done processing\n",
      "20:04:05 - cmdstanpy - INFO - Chain [1] start processing\n"
     ]
    },
    {
     "name": "stdout",
     "output_type": "stream",
     "text": [
      "Model and forecast saved for Parkersburg\n",
      "--------------------------------------------------\n",
      "Processing Pine Bluff...\n",
      "Data shape for Pine Bluff: (305, 7)\n",
      "Model and forecast saved for Pine Bluff\n",
      "--------------------------------------------------\n",
      "Processing Grants Pass...\n",
      "Data shape for Grants Pass: (304, 7)\n"
     ]
    },
    {
     "name": "stderr",
     "output_type": "stream",
     "text": [
      "20:04:05 - cmdstanpy - INFO - Chain [1] done processing\n",
      "20:04:05 - cmdstanpy - INFO - Chain [1] start processing\n",
      "20:04:05 - cmdstanpy - INFO - Chain [1] done processing\n",
      "20:04:05 - cmdstanpy - INFO - Chain [1] start processing\n"
     ]
    },
    {
     "name": "stdout",
     "output_type": "stream",
     "text": [
      "Model and forecast saved for Grants Pass\n",
      "--------------------------------------------------\n",
      "Processing Lufkin...\n",
      "Data shape for Lufkin: (305, 7)\n",
      "Model and forecast saved for Lufkin\n",
      "--------------------------------------------------\n",
      "Processing Zanesville...\n",
      "Data shape for Zanesville: (305, 7)\n"
     ]
    },
    {
     "name": "stderr",
     "output_type": "stream",
     "text": [
      "20:04:05 - cmdstanpy - INFO - Chain [1] done processing\n",
      "20:04:05 - cmdstanpy - INFO - Chain [1] start processing\n",
      "20:04:05 - cmdstanpy - INFO - Chain [1] done processing\n",
      "20:04:05 - cmdstanpy - INFO - Chain [1] start processing\n",
      "20:04:05 - cmdstanpy - INFO - Chain [1] done processing\n"
     ]
    },
    {
     "name": "stdout",
     "output_type": "stream",
     "text": [
      "Model and forecast saved for Zanesville\n",
      "--------------------------------------------------\n",
      "Processing Meadville...\n",
      "Data shape for Meadville: (305, 7)\n",
      "Model and forecast saved for Meadville\n",
      "--------------------------------------------------\n",
      "Processing Elmira...\n",
      "Data shape for Elmira: (302, 7)\n"
     ]
    },
    {
     "name": "stderr",
     "output_type": "stream",
     "text": [
      "20:04:06 - cmdstanpy - INFO - Chain [1] start processing\n",
      "20:04:06 - cmdstanpy - INFO - Chain [1] done processing\n",
      "20:04:06 - cmdstanpy - INFO - Chain [1] start processing\n"
     ]
    },
    {
     "name": "stdout",
     "output_type": "stream",
     "text": [
      "Model and forecast saved for Elmira\n",
      "--------------------------------------------------\n",
      "Processing Russellville...\n",
      "Data shape for Russellville: (305, 7)\n",
      "Model and forecast saved for Russellville\n",
      "--------------------------------------------------\n",
      "Processing Midland...\n",
      "Data shape for Midland: (502, 7)\n"
     ]
    },
    {
     "name": "stderr",
     "output_type": "stream",
     "text": [
      "20:04:06 - cmdstanpy - INFO - Chain [1] done processing\n",
      "20:04:06 - cmdstanpy - INFO - Chain [1] start processing\n",
      "20:04:06 - cmdstanpy - INFO - Chain [1] done processing\n",
      "20:04:06 - cmdstanpy - INFO - Chain [1] start processing\n"
     ]
    },
    {
     "name": "stdout",
     "output_type": "stream",
     "text": [
      "Model and forecast saved for Midland\n",
      "--------------------------------------------------\n",
      "Processing Bloomsburg...\n",
      "Data shape for Bloomsburg: (305, 7)\n",
      "Model and forecast saved for Bloomsburg\n",
      "--------------------------------------------------\n",
      "Processing Stillwater...\n",
      "Data shape for Stillwater: (305, 7)\n"
     ]
    },
    {
     "name": "stderr",
     "output_type": "stream",
     "text": [
      "20:04:06 - cmdstanpy - INFO - Chain [1] done processing\n",
      "20:04:06 - cmdstanpy - INFO - Chain [1] start processing\n",
      "20:04:06 - cmdstanpy - INFO - Chain [1] done processing\n",
      "20:04:06 - cmdstanpy - INFO - Chain [1] start processing\n"
     ]
    },
    {
     "name": "stdout",
     "output_type": "stream",
     "text": [
      "Model and forecast saved for Stillwater\n",
      "--------------------------------------------------\n",
      "Processing Manitowoc...\n",
      "Data shape for Manitowoc: (301, 7)\n",
      "Model and forecast saved for Manitowoc\n",
      "--------------------------------------------------\n",
      "Processing Hinesville...\n",
      "Data shape for Hinesville: (301, 7)\n"
     ]
    },
    {
     "name": "stderr",
     "output_type": "stream",
     "text": [
      "20:04:06 - cmdstanpy - INFO - Chain [1] done processing\n",
      "20:04:06 - cmdstanpy - INFO - Chain [1] start processing\n",
      "20:04:06 - cmdstanpy - INFO - Chain [1] done processing\n",
      "20:04:07 - cmdstanpy - INFO - Chain [1] start processing\n",
      "20:04:07 - cmdstanpy - INFO - Chain [1] done processing\n"
     ]
    },
    {
     "name": "stdout",
     "output_type": "stream",
     "text": [
      "Model and forecast saved for Hinesville\n",
      "--------------------------------------------------\n",
      "Processing DuBois...\n",
      "Data shape for DuBois: (305, 7)\n",
      "Model and forecast saved for DuBois\n",
      "--------------------------------------------------\n",
      "Processing Warsaw...\n",
      "Data shape for Warsaw: (300, 7)\n"
     ]
    },
    {
     "name": "stderr",
     "output_type": "stream",
     "text": [
      "20:04:07 - cmdstanpy - INFO - Chain [1] start processing\n",
      "20:04:07 - cmdstanpy - INFO - Chain [1] done processing\n",
      "20:04:07 - cmdstanpy - INFO - Chain [1] start processing\n"
     ]
    },
    {
     "name": "stdout",
     "output_type": "stream",
     "text": [
      "Model and forecast saved for Warsaw\n",
      "--------------------------------------------------\n",
      "Processing Plattsburgh...\n",
      "Data shape for Plattsburgh: (302, 7)\n",
      "Model and forecast saved for Plattsburgh\n",
      "--------------------------------------------------\n",
      "Processing Glenwood Springs...\n",
      "Data shape for Glenwood Springs: (305, 7)\n"
     ]
    },
    {
     "name": "stderr",
     "output_type": "stream",
     "text": [
      "20:04:07 - cmdstanpy - INFO - Chain [1] done processing\n",
      "20:04:07 - cmdstanpy - INFO - Chain [1] start processing\n",
      "20:04:07 - cmdstanpy - INFO - Chain [1] done processing\n",
      "20:04:07 - cmdstanpy - INFO - Chain [1] start processing\n"
     ]
    },
    {
     "name": "stdout",
     "output_type": "stream",
     "text": [
      "Model and forecast saved for Glenwood Springs\n",
      "--------------------------------------------------\n",
      "Processing Olean...\n",
      "Data shape for Olean: (302, 7)\n",
      "Model and forecast saved for Olean\n",
      "--------------------------------------------------\n",
      "Processing Chillicothe...\n",
      "Data shape for Chillicothe: (305, 7)\n"
     ]
    },
    {
     "name": "stderr",
     "output_type": "stream",
     "text": [
      "20:04:07 - cmdstanpy - INFO - Chain [1] done processing\n",
      "20:04:07 - cmdstanpy - INFO - Chain [1] start processing\n",
      "20:04:07 - cmdstanpy - INFO - Chain [1] done processing\n"
     ]
    },
    {
     "name": "stdout",
     "output_type": "stream",
     "text": [
      "Model and forecast saved for Chillicothe\n",
      "--------------------------------------------------\n",
      "Processing Searcy...\n",
      "Data shape for Searcy: (301, 7)\n",
      "Model and forecast saved for Searcy\n",
      "--------------------------------------------------\n",
      "Processing Keene...\n"
     ]
    },
    {
     "name": "stderr",
     "output_type": "stream",
     "text": [
      "20:04:07 - cmdstanpy - INFO - Chain [1] start processing\n",
      "20:04:08 - cmdstanpy - INFO - Chain [1] done processing\n",
      "20:04:08 - cmdstanpy - INFO - Chain [1] start processing\n"
     ]
    },
    {
     "name": "stdout",
     "output_type": "stream",
     "text": [
      "Data shape for Keene: (305, 7)\n",
      "Model and forecast saved for Keene\n",
      "--------------------------------------------------\n",
      "Processing Sandusky...\n",
      "Data shape for Sandusky: (304, 7)\n"
     ]
    },
    {
     "name": "stderr",
     "output_type": "stream",
     "text": [
      "20:04:08 - cmdstanpy - INFO - Chain [1] done processing\n",
      "20:04:08 - cmdstanpy - INFO - Chain [1] start processing\n",
      "20:04:08 - cmdstanpy - INFO - Chain [1] done processing\n",
      "20:04:08 - cmdstanpy - INFO - Chain [1] start processing\n"
     ]
    },
    {
     "name": "stdout",
     "output_type": "stream",
     "text": [
      "Model and forecast saved for Sandusky\n",
      "--------------------------------------------------\n",
      "Processing Findlay...\n",
      "Data shape for Findlay: (305, 7)\n",
      "Model and forecast saved for Findlay\n",
      "--------------------------------------------------\n",
      "Processing Frankfort...\n",
      "Data shape for Frankfort: (608, 7)\n"
     ]
    },
    {
     "name": "stderr",
     "output_type": "stream",
     "text": [
      "20:04:08 - cmdstanpy - INFO - Chain [1] done processing\n",
      "20:04:08 - cmdstanpy - INFO - Chain [1] start processing\n",
      "20:04:08 - cmdstanpy - INFO - Chain [1] done processing\n",
      "20:04:08 - cmdstanpy - INFO - Chain [1] start processing\n",
      "20:04:08 - cmdstanpy - INFO - Chain [1] done processing\n"
     ]
    },
    {
     "name": "stdout",
     "output_type": "stream",
     "text": [
      "Model and forecast saved for Frankfort\n",
      "--------------------------------------------------\n",
      "Processing Kapaa...\n",
      "Data shape for Kapaa: (305, 7)\n",
      "Model and forecast saved for Kapaa\n",
      "--------------------------------------------------\n",
      "Processing Shawnee...\n",
      "Data shape for Shawnee: (305, 7)\n"
     ]
    },
    {
     "name": "stderr",
     "output_type": "stream",
     "text": [
      "20:04:08 - cmdstanpy - INFO - Chain [1] start processing\n",
      "20:04:08 - cmdstanpy - INFO - Chain [1] done processing\n",
      "20:04:08 - cmdstanpy - INFO - Chain [1] start processing\n",
      "20:04:09 - cmdstanpy - INFO - Chain [1] done processing\n"
     ]
    },
    {
     "name": "stdout",
     "output_type": "stream",
     "text": [
      "Model and forecast saved for Shawnee\n",
      "--------------------------------------------------\n",
      "Processing Greeneville...\n",
      "Data shape for Greeneville: (305, 7)\n",
      "Model and forecast saved for Greeneville\n",
      "--------------------------------------------------\n",
      "Processing Greenwood...\n",
      "Data shape for Greenwood: (463, 7)\n"
     ]
    },
    {
     "name": "stderr",
     "output_type": "stream",
     "text": [
      "20:04:09 - cmdstanpy - INFO - Chain [1] start processing\n",
      "20:04:09 - cmdstanpy - INFO - Chain [1] done processing\n",
      "20:04:09 - cmdstanpy - INFO - Chain [1] start processing\n"
     ]
    },
    {
     "name": "stdout",
     "output_type": "stream",
     "text": [
      "Model and forecast saved for Greenwood\n",
      "--------------------------------------------------\n",
      "Processing Lake City...\n",
      "Data shape for Lake City: (302, 7)\n",
      "Model and forecast saved for Lake City\n",
      "--------------------------------------------------\n",
      "Processing Klamath Falls...\n",
      "Data shape for Klamath Falls: (305, 7)\n"
     ]
    },
    {
     "name": "stderr",
     "output_type": "stream",
     "text": [
      "20:04:09 - cmdstanpy - INFO - Chain [1] done processing\n",
      "20:04:09 - cmdstanpy - INFO - Chain [1] start processing\n",
      "20:04:09 - cmdstanpy - INFO - Chain [1] done processing\n",
      "20:04:09 - cmdstanpy - INFO - Chain [1] start processing\n"
     ]
    },
    {
     "name": "stdout",
     "output_type": "stream",
     "text": [
      "Model and forecast saved for Klamath Falls\n",
      "--------------------------------------------------\n",
      "Processing Morehead City...\n",
      "Data shape for Morehead City: (305, 7)\n",
      "Model and forecast saved for Morehead City\n",
      "--------------------------------------------------\n",
      "Processing Roanoke Rapids...\n",
      "Data shape for Roanoke Rapids: (305, 7)\n"
     ]
    },
    {
     "name": "stderr",
     "output_type": "stream",
     "text": [
      "20:04:09 - cmdstanpy - INFO - Chain [1] done processing\n",
      "20:04:09 - cmdstanpy - INFO - Chain [1] start processing\n",
      "20:04:09 - cmdstanpy - INFO - Chain [1] done processing\n",
      "20:04:09 - cmdstanpy - INFO - Chain [1] start processing\n",
      "20:04:09 - cmdstanpy - INFO - Chain [1] done processing\n"
     ]
    },
    {
     "name": "stdout",
     "output_type": "stream",
     "text": [
      "Model and forecast saved for Roanoke Rapids\n",
      "--------------------------------------------------\n",
      "Processing Muskogee...\n",
      "Data shape for Muskogee: (301, 7)\n",
      "Model and forecast saved for Muskogee\n",
      "--------------------------------------------------\n",
      "Processing Marquette...\n",
      "Data shape for Marquette: (303, 7)\n"
     ]
    },
    {
     "name": "stderr",
     "output_type": "stream",
     "text": [
      "20:04:09 - cmdstanpy - INFO - Chain [1] start processing\n",
      "20:04:09 - cmdstanpy - INFO - Chain [1] done processing\n",
      "20:04:10 - cmdstanpy - INFO - Chain [1] start processing\n"
     ]
    },
    {
     "name": "stdout",
     "output_type": "stream",
     "text": [
      "Model and forecast saved for Marquette\n",
      "--------------------------------------------------\n",
      "Processing North Wilkesboro...\n",
      "Data shape for North Wilkesboro: (305, 7)\n",
      "Model and forecast saved for North Wilkesboro\n",
      "--------------------------------------------------\n",
      "Processing Marinette...\n",
      "Data shape for Marinette: (305, 7)\n"
     ]
    },
    {
     "name": "stderr",
     "output_type": "stream",
     "text": [
      "20:04:10 - cmdstanpy - INFO - Chain [1] done processing\n",
      "20:04:10 - cmdstanpy - INFO - Chain [1] start processing\n",
      "20:04:10 - cmdstanpy - INFO - Chain [1] done processing\n",
      "20:04:10 - cmdstanpy - INFO - Chain [1] start processing\n"
     ]
    },
    {
     "name": "stdout",
     "output_type": "stream",
     "text": [
      "Model and forecast saved for Marinette\n",
      "--------------------------------------------------\n",
      "Processing Dublin...\n",
      "Data shape for Dublin: (305, 7)\n",
      "Model and forecast saved for Dublin\n",
      "--------------------------------------------------\n",
      "Processing Somerset...\n",
      "Data shape for Somerset: (502, 7)\n"
     ]
    },
    {
     "name": "stderr",
     "output_type": "stream",
     "text": [
      "20:04:10 - cmdstanpy - INFO - Chain [1] done processing\n",
      "20:04:10 - cmdstanpy - INFO - Chain [1] start processing\n",
      "20:04:10 - cmdstanpy - INFO - Chain [1] done processing\n",
      "20:04:10 - cmdstanpy - INFO - Chain [1] start processing\n"
     ]
    },
    {
     "name": "stdout",
     "output_type": "stream",
     "text": [
      "Model and forecast saved for Somerset\n",
      "--------------------------------------------------\n",
      "Processing Forest City...\n",
      "Data shape for Forest City: (301, 7)\n",
      "Model and forecast saved for Forest City\n",
      "--------------------------------------------------\n",
      "Processing Martinsville...\n",
      "Data shape for Martinsville: (302, 7)\n"
     ]
    },
    {
     "name": "stderr",
     "output_type": "stream",
     "text": [
      "20:04:10 - cmdstanpy - INFO - Chain [1] done processing\n",
      "20:04:10 - cmdstanpy - INFO - Chain [1] start processing\n",
      "20:04:10 - cmdstanpy - INFO - Chain [1] done processing\n",
      "20:04:10 - cmdstanpy - INFO - Chain [1] start processing\n",
      "20:04:10 - cmdstanpy - INFO - Chain [1] done processing\n"
     ]
    },
    {
     "name": "stdout",
     "output_type": "stream",
     "text": [
      "Model and forecast saved for Martinsville\n",
      "--------------------------------------------------\n",
      "Processing Laconia...\n",
      "Data shape for Laconia: (305, 7)\n",
      "Model and forecast saved for Laconia\n",
      "--------------------------------------------------\n",
      "Processing Sanford...\n",
      "Data shape for Sanford: (301, 7)\n"
     ]
    },
    {
     "name": "stderr",
     "output_type": "stream",
     "text": [
      "20:04:11 - cmdstanpy - INFO - Chain [1] start processing\n",
      "20:04:11 - cmdstanpy - INFO - Chain [1] done processing\n",
      "20:04:11 - cmdstanpy - INFO - Chain [1] start processing\n"
     ]
    },
    {
     "name": "stdout",
     "output_type": "stream",
     "text": [
      "Model and forecast saved for Sanford\n",
      "--------------------------------------------------\n",
      "Processing Enid...\n",
      "Data shape for Enid: (298, 7)\n",
      "Model and forecast saved for Enid\n",
      "--------------------------------------------------\n",
      "Processing Walla Walla...\n",
      "Data shape for Walla Walla: (303, 7)\n"
     ]
    },
    {
     "name": "stderr",
     "output_type": "stream",
     "text": [
      "20:04:11 - cmdstanpy - INFO - Chain [1] done processing\n",
      "20:04:11 - cmdstanpy - INFO - Chain [1] start processing\n",
      "20:04:11 - cmdstanpy - INFO - Chain [1] done processing\n",
      "20:04:11 - cmdstanpy - INFO - Chain [1] start processing\n",
      "20:04:11 - cmdstanpy - INFO - Chain [1] done processing\n"
     ]
    },
    {
     "name": "stdout",
     "output_type": "stream",
     "text": [
      "Model and forecast saved for Walla Walla\n",
      "--------------------------------------------------\n",
      "Processing Hudson...\n",
      "Data shape for Hudson: (305, 7)\n",
      "Model and forecast saved for Hudson\n",
      "--------------------------------------------------\n",
      "Processing Sturgis...\n",
      "Data shape for Sturgis: (301, 7)\n"
     ]
    },
    {
     "name": "stderr",
     "output_type": "stream",
     "text": [
      "20:04:11 - cmdstanpy - INFO - Chain [1] start processing\n",
      "20:04:11 - cmdstanpy - INFO - Chain [1] done processing\n",
      "20:04:11 - cmdstanpy - INFO - Chain [1] start processing\n",
      "20:04:11 - cmdstanpy - INFO - Chain [1] done processing\n"
     ]
    },
    {
     "name": "stdout",
     "output_type": "stream",
     "text": [
      "Model and forecast saved for Sturgis\n",
      "--------------------------------------------------\n",
      "Processing Rutland...\n",
      "Data shape for Rutland: (302, 7)\n",
      "Model and forecast saved for Rutland\n",
      "--------------------------------------------------\n",
      "Processing Crossville...\n",
      "Data shape for Crossville: (302, 7)\n"
     ]
    },
    {
     "name": "stderr",
     "output_type": "stream",
     "text": [
      "20:04:11 - cmdstanpy - INFO - Chain [1] start processing\n",
      "20:04:12 - cmdstanpy - INFO - Chain [1] done processing\n",
      "20:04:12 - cmdstanpy - INFO - Chain [1] start processing\n"
     ]
    },
    {
     "name": "stdout",
     "output_type": "stream",
     "text": [
      "Model and forecast saved for Crossville\n",
      "--------------------------------------------------\n",
      "Processing Marietta...\n",
      "Data shape for Marietta: (305, 7)\n",
      "Model and forecast saved for Marietta\n",
      "--------------------------------------------------\n",
      "Processing Barre...\n",
      "Data shape for Barre: (304, 7)\n"
     ]
    },
    {
     "name": "stderr",
     "output_type": "stream",
     "text": [
      "20:04:12 - cmdstanpy - INFO - Chain [1] done processing\n",
      "20:04:12 - cmdstanpy - INFO - Chain [1] start processing\n",
      "20:04:12 - cmdstanpy - INFO - Chain [1] done processing\n",
      "20:04:12 - cmdstanpy - INFO - Chain [1] start processing\n"
     ]
    },
    {
     "name": "stdout",
     "output_type": "stream",
     "text": [
      "Model and forecast saved for Barre\n",
      "--------------------------------------------------\n",
      "Processing Fremont...\n",
      "Data shape for Fremont: (502, 7)\n",
      "Model and forecast saved for Fremont\n",
      "--------------------------------------------------\n",
      "Processing Oneonta...\n",
      "Data shape for Oneonta: (305, 7)\n"
     ]
    },
    {
     "name": "stderr",
     "output_type": "stream",
     "text": [
      "20:04:12 - cmdstanpy - INFO - Chain [1] done processing\n",
      "20:04:12 - cmdstanpy - INFO - Chain [1] start processing\n",
      "20:04:12 - cmdstanpy - INFO - Chain [1] done processing\n",
      "20:04:12 - cmdstanpy - INFO - Chain [1] start processing\n"
     ]
    },
    {
     "name": "stdout",
     "output_type": "stream",
     "text": [
      "Model and forecast saved for Oneonta\n",
      "--------------------------------------------------\n",
      "Processing Norwalk...\n",
      "Data shape for Norwalk: (302, 7)\n",
      "Model and forecast saved for Norwalk\n",
      "--------------------------------------------------\n",
      "Processing Batavia...\n",
      "Data shape for Batavia: (305, 7)\n"
     ]
    },
    {
     "name": "stderr",
     "output_type": "stream",
     "text": [
      "20:04:12 - cmdstanpy - INFO - Chain [1] done processing\n",
      "20:04:12 - cmdstanpy - INFO - Chain [1] start processing\n",
      "20:04:12 - cmdstanpy - INFO - Chain [1] done processing\n",
      "20:04:12 - cmdstanpy - INFO - Chain [1] start processing\n"
     ]
    },
    {
     "name": "stdout",
     "output_type": "stream",
     "text": [
      "Model and forecast saved for Batavia\n",
      "--------------------------------------------------\n",
      "Processing Ardmore...\n",
      "Data shape for Ardmore: (305, 7)\n",
      "Model and forecast saved for Ardmore\n",
      "--------------------------------------------------\n",
      "Processing Carson City...\n",
      "Data shape for Carson City: (305, 7)\n"
     ]
    },
    {
     "name": "stderr",
     "output_type": "stream",
     "text": [
      "20:04:12 - cmdstanpy - INFO - Chain [1] done processing\n",
      "20:04:13 - cmdstanpy - INFO - Chain [1] start processing\n",
      "20:04:13 - cmdstanpy - INFO - Chain [1] done processing\n",
      "20:04:13 - cmdstanpy - INFO - Chain [1] start processing\n",
      "20:04:13 - cmdstanpy - INFO - Chain [1] done processing\n"
     ]
    },
    {
     "name": "stdout",
     "output_type": "stream",
     "text": [
      "Model and forecast saved for Carson City\n",
      "--------------------------------------------------\n",
      "Processing Ontario...\n",
      "Data shape for Ontario: (305, 7)\n",
      "Model and forecast saved for Ontario\n",
      "--------------------------------------------------\n",
      "Processing Waycross...\n",
      "Data shape for Waycross: (305, 7)\n"
     ]
    },
    {
     "name": "stderr",
     "output_type": "stream",
     "text": [
      "20:04:13 - cmdstanpy - INFO - Chain [1] start processing\n",
      "20:04:13 - cmdstanpy - INFO - Chain [1] done processing\n",
      "20:04:13 - cmdstanpy - INFO - Chain [1] start processing\n"
     ]
    },
    {
     "name": "stdout",
     "output_type": "stream",
     "text": [
      "Model and forecast saved for Waycross\n",
      "--------------------------------------------------\n",
      "Processing Edwards...\n",
      "Data shape for Edwards: (302, 7)\n",
      "Model and forecast saved for Edwards\n",
      "--------------------------------------------------\n",
      "Processing Tiffin...\n",
      "Data shape for Tiffin: (305, 7)\n"
     ]
    },
    {
     "name": "stderr",
     "output_type": "stream",
     "text": [
      "20:04:13 - cmdstanpy - INFO - Chain [1] done processing\n",
      "20:04:13 - cmdstanpy - INFO - Chain [1] start processing\n",
      "20:04:13 - cmdstanpy - INFO - Chain [1] done processing\n",
      "20:04:13 - cmdstanpy - INFO - Chain [1] start processing\n",
      "20:04:13 - cmdstanpy - INFO - Chain [1] done processing\n"
     ]
    },
    {
     "name": "stdout",
     "output_type": "stream",
     "text": [
      "Model and forecast saved for Tiffin\n",
      "--------------------------------------------------\n",
      "Processing Batesville...\n",
      "Data shape for Batesville: (305, 7)\n",
      "Model and forecast saved for Batesville\n",
      "--------------------------------------------------\n",
      "Processing Point Pleasant...\n",
      "Data shape for Point Pleasant: (302, 7)\n"
     ]
    },
    {
     "name": "stderr",
     "output_type": "stream",
     "text": [
      "20:04:13 - cmdstanpy - INFO - Chain [1] start processing\n",
      "20:04:13 - cmdstanpy - INFO - Chain [1] done processing\n",
      "20:04:13 - cmdstanpy - INFO - Chain [1] start processing\n"
     ]
    },
    {
     "name": "stdout",
     "output_type": "stream",
     "text": [
      "Model and forecast saved for Point Pleasant\n",
      "--------------------------------------------------\n",
      "Processing Glasgow...\n",
      "Data shape for Glasgow: (301, 7)\n",
      "Model and forecast saved for Glasgow\n",
      "--------------------------------------------------\n",
      "Processing St. Marys...\n",
      "Data shape for St. Marys: (303, 7)\n"
     ]
    },
    {
     "name": "stderr",
     "output_type": "stream",
     "text": [
      "20:04:14 - cmdstanpy - INFO - Chain [1] done processing\n",
      "20:04:14 - cmdstanpy - INFO - Chain [1] start processing\n",
      "20:04:14 - cmdstanpy - INFO - Chain [1] done processing\n",
      "20:04:14 - cmdstanpy - INFO - Chain [1] start processing\n"
     ]
    },
    {
     "name": "stdout",
     "output_type": "stream",
     "text": [
      "Model and forecast saved for St. Marys\n",
      "--------------------------------------------------\n",
      "Processing Boone...\n",
      "Data shape for Boone: (303, 7)\n",
      "Model and forecast saved for Boone\n",
      "--------------------------------------------------\n",
      "Processing Gloversville...\n",
      "Data shape for Gloversville: (305, 7)\n"
     ]
    },
    {
     "name": "stderr",
     "output_type": "stream",
     "text": [
      "20:04:14 - cmdstanpy - INFO - Chain [1] done processing\n",
      "20:04:14 - cmdstanpy - INFO - Chain [1] start processing\n",
      "20:04:14 - cmdstanpy - INFO - Chain [1] done processing\n",
      "20:04:14 - cmdstanpy - INFO - Chain [1] start processing\n",
      "20:04:14 - cmdstanpy - INFO - Chain [1] done processing\n"
     ]
    },
    {
     "name": "stdout",
     "output_type": "stream",
     "text": [
      "Model and forecast saved for Gloversville\n",
      "--------------------------------------------------\n",
      "Processing Payson...\n",
      "Data shape for Payson: (305, 7)\n",
      "Model and forecast saved for Payson\n",
      "--------------------------------------------------\n",
      "Processing Bartlesville...\n",
      "Data shape for Bartlesville: (305, 7)\n"
     ]
    },
    {
     "name": "stderr",
     "output_type": "stream",
     "text": [
      "20:04:14 - cmdstanpy - INFO - Chain [1] start processing\n",
      "20:04:14 - cmdstanpy - INFO - Chain [1] done processing\n",
      "20:04:14 - cmdstanpy - INFO - Chain [1] start processing\n"
     ]
    },
    {
     "name": "stdout",
     "output_type": "stream",
     "text": [
      "Model and forecast saved for Bartlesville\n",
      "--------------------------------------------------\n",
      "Processing Douglas...\n",
      "Data shape for Douglas: (303, 7)\n",
      "Model and forecast saved for Douglas\n",
      "--------------------------------------------------\n",
      "Processing Oil City...\n",
      "Data shape for Oil City: (305, 7)\n"
     ]
    },
    {
     "name": "stderr",
     "output_type": "stream",
     "text": [
      "20:04:14 - cmdstanpy - INFO - Chain [1] done processing\n",
      "20:04:15 - cmdstanpy - INFO - Chain [1] start processing\n",
      "20:04:15 - cmdstanpy - INFO - Chain [1] done processing\n",
      "20:04:15 - cmdstanpy - INFO - Chain [1] start processing\n",
      "20:04:15 - cmdstanpy - INFO - Chain [1] done processing\n"
     ]
    },
    {
     "name": "stdout",
     "output_type": "stream",
     "text": [
      "Model and forecast saved for Oil City\n",
      "--------------------------------------------------\n",
      "Processing Newport...\n",
      "Data shape for Newport: (607, 7)\n",
      "Model and forecast saved for Newport\n",
      "--------------------------------------------------\n",
      "Processing Shelbyville...\n",
      "Data shape for Shelbyville: (305, 7)\n"
     ]
    },
    {
     "name": "stderr",
     "output_type": "stream",
     "text": [
      "20:04:15 - cmdstanpy - INFO - Chain [1] start processing\n",
      "20:04:15 - cmdstanpy - INFO - Chain [1] done processing\n",
      "20:04:15 - cmdstanpy - INFO - Chain [1] start processing\n"
     ]
    },
    {
     "name": "stdout",
     "output_type": "stream",
     "text": [
      "Model and forecast saved for Shelbyville\n",
      "--------------------------------------------------\n",
      "Processing Amsterdam...\n",
      "Data shape for Amsterdam: (304, 7)\n",
      "Model and forecast saved for Amsterdam\n",
      "--------------------------------------------------\n",
      "Processing Gardnerville Ranchos...\n",
      "Data shape for Gardnerville Ranchos: (304, 7)\n"
     ]
    },
    {
     "name": "stderr",
     "output_type": "stream",
     "text": [
      "20:04:15 - cmdstanpy - INFO - Chain [1] done processing\n",
      "20:04:15 - cmdstanpy - INFO - Chain [1] start processing\n",
      "20:04:15 - cmdstanpy - INFO - Chain [1] done processing\n",
      "20:04:15 - cmdstanpy - INFO - Chain [1] start processing\n"
     ]
    },
    {
     "name": "stdout",
     "output_type": "stream",
     "text": [
      "Model and forecast saved for Gardnerville Ranchos\n",
      "--------------------------------------------------\n",
      "Processing Ruston...\n",
      "Data shape for Ruston: (301, 7)\n",
      "Model and forecast saved for Ruston\n",
      "--------------------------------------------------\n",
      "Processing Sidney...\n",
      "Data shape for Sidney: (301, 7)\n"
     ]
    },
    {
     "name": "stderr",
     "output_type": "stream",
     "text": [
      "20:04:15 - cmdstanpy - INFO - Chain [1] done processing\n",
      "20:04:15 - cmdstanpy - INFO - Chain [1] start processing\n",
      "20:04:15 - cmdstanpy - INFO - Chain [1] done processing\n",
      "20:04:15 - cmdstanpy - INFO - Chain [1] start processing\n",
      "20:04:16 - cmdstanpy - INFO - Chain [1] done processing\n"
     ]
    },
    {
     "name": "stdout",
     "output_type": "stream",
     "text": [
      "Model and forecast saved for Sidney\n",
      "--------------------------------------------------\n",
      "Processing Malone...\n",
      "Data shape for Malone: (305, 7)\n",
      "Model and forecast saved for Malone\n",
      "--------------------------------------------------\n",
      "Processing Nogales...\n",
      "Data shape for Nogales: (305, 7)\n"
     ]
    },
    {
     "name": "stderr",
     "output_type": "stream",
     "text": [
      "20:04:16 - cmdstanpy - INFO - Chain [1] start processing\n",
      "20:04:16 - cmdstanpy - INFO - Chain [1] done processing\n",
      "20:04:16 - cmdstanpy - INFO - Chain [1] start processing\n"
     ]
    },
    {
     "name": "stdout",
     "output_type": "stream",
     "text": [
      "Model and forecast saved for Nogales\n",
      "--------------------------------------------------\n",
      "Processing Tahlequah...\n",
      "Data shape for Tahlequah: (304, 7)\n",
      "Model and forecast saved for Tahlequah\n",
      "--------------------------------------------------\n",
      "Processing Montrose...\n",
      "Data shape for Montrose: (301, 7)\n"
     ]
    },
    {
     "name": "stderr",
     "output_type": "stream",
     "text": [
      "20:04:16 - cmdstanpy - INFO - Chain [1] done processing\n",
      "20:04:16 - cmdstanpy - INFO - Chain [1] start processing\n",
      "20:04:16 - cmdstanpy - INFO - Chain [1] done processing\n",
      "20:04:16 - cmdstanpy - INFO - Chain [1] start processing\n"
     ]
    },
    {
     "name": "stdout",
     "output_type": "stream",
     "text": [
      "Model and forecast saved for Montrose\n",
      "--------------------------------------------------\n",
      "Processing Cortland...\n",
      "Data shape for Cortland: (305, 7)\n",
      "Model and forecast saved for Cortland\n",
      "--------------------------------------------------\n",
      "Processing Mount Sterling...\n",
      "Data shape for Mount Sterling: (305, 7)\n"
     ]
    },
    {
     "name": "stderr",
     "output_type": "stream",
     "text": [
      "20:04:16 - cmdstanpy - INFO - Chain [1] done processing\n",
      "20:04:16 - cmdstanpy - INFO - Chain [1] start processing\n",
      "20:04:16 - cmdstanpy - INFO - Chain [1] done processing\n",
      "20:04:16 - cmdstanpy - INFO - Chain [1] start processing\n"
     ]
    },
    {
     "name": "stdout",
     "output_type": "stream",
     "text": [
      "Model and forecast saved for Mount Sterling\n",
      "--------------------------------------------------\n",
      "Processing Bardstown...\n",
      "Data shape for Bardstown: (301, 7)\n",
      "Model and forecast saved for Bardstown\n",
      "--------------------------------------------------\n",
      "Processing Plymouth...\n",
      "Data shape for Plymouth: (305, 7)\n"
     ]
    },
    {
     "name": "stderr",
     "output_type": "stream",
     "text": [
      "20:04:16 - cmdstanpy - INFO - Chain [1] done processing\n",
      "20:04:16 - cmdstanpy - INFO - Chain [1] start processing\n",
      "20:04:16 - cmdstanpy - INFO - Chain [1] done processing\n",
      "20:04:17 - cmdstanpy - INFO - Chain [1] start processing\n",
      "20:04:17 - cmdstanpy - INFO - Chain [1] done processing\n"
     ]
    },
    {
     "name": "stdout",
     "output_type": "stream",
     "text": [
      "Model and forecast saved for Plymouth\n",
      "--------------------------------------------------\n",
      "Processing Durant...\n",
      "Data shape for Durant: (301, 7)\n",
      "Model and forecast saved for Durant\n",
      "--------------------------------------------------\n",
      "Processing Moultrie...\n",
      "Data shape for Moultrie: (305, 7)\n"
     ]
    },
    {
     "name": "stderr",
     "output_type": "stream",
     "text": [
      "20:04:17 - cmdstanpy - INFO - Chain [1] start processing\n",
      "20:04:17 - cmdstanpy - INFO - Chain [1] done processing\n",
      "20:04:17 - cmdstanpy - INFO - Chain [1] start processing\n"
     ]
    },
    {
     "name": "stdout",
     "output_type": "stream",
     "text": [
      "Model and forecast saved for Moultrie\n",
      "--------------------------------------------------\n",
      "Processing Thomasville...\n",
      "Data shape for Thomasville: (304, 7)\n",
      "Model and forecast saved for Thomasville\n",
      "--------------------------------------------------\n",
      "Processing Paragould...\n",
      "Data shape for Paragould: (301, 7)\n"
     ]
    },
    {
     "name": "stderr",
     "output_type": "stream",
     "text": [
      "20:04:17 - cmdstanpy - INFO - Chain [1] done processing\n",
      "20:04:17 - cmdstanpy - INFO - Chain [1] start processing\n",
      "20:04:17 - cmdstanpy - INFO - Chain [1] done processing\n",
      "20:04:17 - cmdstanpy - INFO - Chain [1] start processing\n"
     ]
    },
    {
     "name": "stdout",
     "output_type": "stream",
     "text": [
      "Model and forecast saved for Paragould\n",
      "--------------------------------------------------\n",
      "Processing Madisonville...\n",
      "Data shape for Madisonville: (301, 7)\n",
      "Model and forecast saved for Madisonville\n",
      "--------------------------------------------------\n",
      "Processing Harrison...\n",
      "Data shape for Harrison: (302, 7)\n"
     ]
    },
    {
     "name": "stderr",
     "output_type": "stream",
     "text": [
      "20:04:17 - cmdstanpy - INFO - Chain [1] done processing\n",
      "20:04:17 - cmdstanpy - INFO - Chain [1] start processing\n",
      "20:04:17 - cmdstanpy - INFO - Chain [1] done processing\n"
     ]
    },
    {
     "name": "stdout",
     "output_type": "stream",
     "text": [
      "Model and forecast saved for Harrison\n",
      "--------------------------------------------------\n",
      "Processing Coldwater...\n",
      "Data shape for Coldwater: (305, 7)\n",
      "Model and forecast saved for Coldwater\n",
      "--------------------------------------------------\n",
      "Processing Ponca City...\n"
     ]
    },
    {
     "name": "stderr",
     "output_type": "stream",
     "text": [
      "20:04:17 - cmdstanpy - INFO - Chain [1] start processing\n",
      "20:04:18 - cmdstanpy - INFO - Chain [1] done processing\n",
      "20:04:18 - cmdstanpy - INFO - Chain [1] start processing\n"
     ]
    },
    {
     "name": "stdout",
     "output_type": "stream",
     "text": [
      "Data shape for Ponca City: (298, 7)\n",
      "Model and forecast saved for Ponca City\n",
      "--------------------------------------------------\n",
      "Processing Lawrenceburg...\n",
      "Data shape for Lawrenceburg: (303, 7)\n"
     ]
    },
    {
     "name": "stderr",
     "output_type": "stream",
     "text": [
      "20:04:18 - cmdstanpy - INFO - Chain [1] done processing\n",
      "20:04:18 - cmdstanpy - INFO - Chain [1] start processing\n",
      "20:04:18 - cmdstanpy - INFO - Chain [1] done processing\n",
      "20:04:18 - cmdstanpy - INFO - Chain [1] start processing\n"
     ]
    },
    {
     "name": "stdout",
     "output_type": "stream",
     "text": [
      "Model and forecast saved for Lawrenceburg\n",
      "--------------------------------------------------\n",
      "Processing McAlester...\n",
      "Data shape for McAlester: (305, 7)\n",
      "Model and forecast saved for McAlester\n",
      "--------------------------------------------------\n",
      "Processing Duncan...\n",
      "Data shape for Duncan: (303, 7)\n"
     ]
    },
    {
     "name": "stderr",
     "output_type": "stream",
     "text": [
      "20:04:18 - cmdstanpy - INFO - Chain [1] done processing\n",
      "20:04:18 - cmdstanpy - INFO - Chain [1] start processing\n",
      "20:04:18 - cmdstanpy - INFO - Chain [1] done processing\n",
      "20:04:18 - cmdstanpy - INFO - Chain [1] start processing\n",
      "20:04:18 - cmdstanpy - INFO - Chain [1] done processing\n"
     ]
    },
    {
     "name": "stdout",
     "output_type": "stream",
     "text": [
      "Model and forecast saved for Duncan\n",
      "--------------------------------------------------\n",
      "Processing Sedalia...\n",
      "Data shape for Sedalia: (305, 7)\n",
      "Model and forecast saved for Sedalia\n",
      "--------------------------------------------------\n",
      "Processing Cedartown...\n",
      "Data shape for Cedartown: (301, 7)\n"
     ]
    },
    {
     "name": "stderr",
     "output_type": "stream",
     "text": [
      "20:04:18 - cmdstanpy - INFO - Chain [1] start processing\n",
      "20:04:18 - cmdstanpy - INFO - Chain [1] done processing\n",
      "20:04:18 - cmdstanpy - INFO - Chain [1] start processing\n"
     ]
    },
    {
     "name": "stdout",
     "output_type": "stream",
     "text": [
      "Model and forecast saved for Cedartown\n",
      "--------------------------------------------------\n",
      "Processing Henderson...\n",
      "Data shape for Henderson: (300, 7)\n",
      "Model and forecast saved for Henderson\n",
      "--------------------------------------------------\n",
      "Processing Mountain Home...\n",
      "Data shape for Mountain Home: (532, 7)\n"
     ]
    },
    {
     "name": "stderr",
     "output_type": "stream",
     "text": [
      "20:04:19 - cmdstanpy - INFO - Chain [1] done processing\n",
      "20:04:19 - cmdstanpy - INFO - Chain [1] start processing\n",
      "20:04:19 - cmdstanpy - INFO - Chain [1] done processing\n",
      "20:04:19 - cmdstanpy - INFO - Chain [1] start processing\n",
      "20:04:19 - cmdstanpy - INFO - Chain [1] done processing\n"
     ]
    },
    {
     "name": "stdout",
     "output_type": "stream",
     "text": [
      "Model and forecast saved for Mountain Home\n",
      "--------------------------------------------------\n",
      "Processing Tifton...\n",
      "Data shape for Tifton: (305, 7)\n",
      "Model and forecast saved for Tifton\n",
      "--------------------------------------------------\n",
      "Processing Blytheville...\n",
      "Data shape for Blytheville: (303, 7)\n"
     ]
    },
    {
     "name": "stderr",
     "output_type": "stream",
     "text": [
      "20:04:19 - cmdstanpy - INFO - Chain [1] start processing\n",
      "20:04:19 - cmdstanpy - INFO - Chain [1] done processing\n",
      "20:04:19 - cmdstanpy - INFO - Chain [1] start processing\n"
     ]
    },
    {
     "name": "stdout",
     "output_type": "stream",
     "text": [
      "Model and forecast saved for Blytheville\n",
      "--------------------------------------------------\n",
      "Processing McMinnville...\n",
      "Data shape for McMinnville: (303, 7)\n",
      "Model and forecast saved for McMinnville\n",
      "--------------------------------------------------\n",
      "Processing Okeechobee...\n",
      "Data shape for Okeechobee: (305, 7)\n"
     ]
    },
    {
     "name": "stderr",
     "output_type": "stream",
     "text": [
      "20:04:19 - cmdstanpy - INFO - Chain [1] done processing\n",
      "20:04:19 - cmdstanpy - INFO - Chain [1] start processing\n",
      "20:04:19 - cmdstanpy - INFO - Chain [1] done processing\n",
      "20:04:19 - cmdstanpy - INFO - Chain [1] start processing\n"
     ]
    },
    {
     "name": "stdout",
     "output_type": "stream",
     "text": [
      "Model and forecast saved for Okeechobee\n",
      "--------------------------------------------------\n",
      "Processing Houghton...\n",
      "Data shape for Houghton: (305, 7)\n",
      "Model and forecast saved for Houghton\n",
      "--------------------------------------------------\n",
      "Processing Clewiston...\n",
      "Data shape for Clewiston: (305, 7)\n"
     ]
    },
    {
     "name": "stderr",
     "output_type": "stream",
     "text": [
      "20:04:19 - cmdstanpy - INFO - Chain [1] done processing\n",
      "20:04:19 - cmdstanpy - INFO - Chain [1] start processing\n",
      "20:04:19 - cmdstanpy - INFO - Chain [1] done processing\n",
      "20:04:20 - cmdstanpy - INFO - Chain [1] start processing\n"
     ]
    },
    {
     "name": "stdout",
     "output_type": "stream",
     "text": [
      "Model and forecast saved for Clewiston\n",
      "--------------------------------------------------\n",
      "Processing Selma...\n",
      "Data shape for Selma: (304, 7)\n",
      "Model and forecast saved for Selma\n",
      "--------------------------------------------------\n",
      "Processing Urbana...\n",
      "Data shape for Urbana: (305, 7)\n"
     ]
    },
    {
     "name": "stderr",
     "output_type": "stream",
     "text": [
      "20:04:20 - cmdstanpy - INFO - Chain [1] done processing\n",
      "20:04:20 - cmdstanpy - INFO - Chain [1] start processing\n",
      "20:04:20 - cmdstanpy - INFO - Chain [1] done processing\n",
      "20:04:20 - cmdstanpy - INFO - Chain [1] start processing\n",
      "20:04:20 - cmdstanpy - INFO - Chain [1] done processing\n"
     ]
    },
    {
     "name": "stdout",
     "output_type": "stream",
     "text": [
      "Model and forecast saved for Urbana\n",
      "--------------------------------------------------\n",
      "Processing Cambridge...\n",
      "Data shape for Cambridge: (602, 7)\n",
      "Model and forecast saved for Cambridge\n",
      "--------------------------------------------------\n",
      "Processing Defiance...\n",
      "Data shape for Defiance: (305, 7)\n"
     ]
    },
    {
     "name": "stderr",
     "output_type": "stream",
     "text": [
      "20:04:20 - cmdstanpy - INFO - Chain [1] start processing\n",
      "20:04:20 - cmdstanpy - INFO - Chain [1] done processing\n",
      "20:04:20 - cmdstanpy - INFO - Chain [1] start processing\n"
     ]
    },
    {
     "name": "stdout",
     "output_type": "stream",
     "text": [
      "Model and forecast saved for Defiance\n",
      "--------------------------------------------------\n",
      "Processing Safford...\n",
      "Data shape for Safford: (305, 7)\n",
      "Model and forecast saved for Safford\n",
      "--------------------------------------------------\n",
      "Processing Ada...\n",
      "Data shape for Ada: (301, 7)\n"
     ]
    },
    {
     "name": "stderr",
     "output_type": "stream",
     "text": [
      "20:04:20 - cmdstanpy - INFO - Chain [1] done processing\n",
      "20:04:20 - cmdstanpy - INFO - Chain [1] start processing\n",
      "20:04:20 - cmdstanpy - INFO - Chain [1] done processing\n",
      "20:04:20 - cmdstanpy - INFO - Chain [1] start processing\n",
      "20:04:20 - cmdstanpy - INFO - Chain [1] done processing\n"
     ]
    },
    {
     "name": "stdout",
     "output_type": "stream",
     "text": [
      "Model and forecast saved for Ada\n",
      "--------------------------------------------------\n",
      "Processing Easton...\n",
      "Data shape for Easton: (301, 7)\n",
      "Model and forecast saved for Easton\n",
      "--------------------------------------------------\n",
      "Processing Murray...\n",
      "Data shape for Murray: (305, 7)\n"
     ]
    },
    {
     "name": "stderr",
     "output_type": "stream",
     "text": [
      "20:04:21 - cmdstanpy - INFO - Chain [1] start processing\n",
      "20:04:21 - cmdstanpy - INFO - Chain [1] done processing\n",
      "20:04:21 - cmdstanpy - INFO - Chain [1] start processing\n"
     ]
    },
    {
     "name": "stdout",
     "output_type": "stream",
     "text": [
      "Model and forecast saved for Murray\n",
      "--------------------------------------------------\n",
      "Processing Bennington...\n",
      "Data shape for Bennington: (305, 7)\n",
      "Model and forecast saved for Bennington\n",
      "--------------------------------------------------\n",
      "Processing Dyersburg...\n",
      "Data shape for Dyersburg: (301, 7)\n"
     ]
    },
    {
     "name": "stderr",
     "output_type": "stream",
     "text": [
      "20:04:21 - cmdstanpy - INFO - Chain [1] done processing\n",
      "20:04:21 - cmdstanpy - INFO - Chain [1] start processing\n",
      "20:04:21 - cmdstanpy - INFO - Chain [1] done processing\n",
      "20:04:21 - cmdstanpy - INFO - Chain [1] start processing\n"
     ]
    },
    {
     "name": "stdout",
     "output_type": "stream",
     "text": [
      "Model and forecast saved for Dyersburg\n",
      "--------------------------------------------------\n",
      "Processing Pontiac...\n",
      "Data shape for Pontiac: (305, 7)\n",
      "Model and forecast saved for Pontiac\n",
      "--------------------------------------------------\n",
      "Processing Vidalia...\n",
      "Data shape for Vidalia: (301, 7)\n"
     ]
    },
    {
     "name": "stderr",
     "output_type": "stream",
     "text": [
      "20:04:21 - cmdstanpy - INFO - Chain [1] done processing\n",
      "20:04:21 - cmdstanpy - INFO - Chain [1] start processing\n",
      "20:04:21 - cmdstanpy - INFO - Chain [1] done processing\n",
      "20:04:21 - cmdstanpy - INFO - Chain [1] start processing\n",
      "20:04:21 - cmdstanpy - INFO - Chain [1] done processing\n"
     ]
    },
    {
     "name": "stdout",
     "output_type": "stream",
     "text": [
      "Model and forecast saved for Vidalia\n",
      "--------------------------------------------------\n",
      "Processing Laurinburg...\n",
      "Data shape for Laurinburg: (304, 7)\n",
      "Model and forecast saved for Laurinburg\n",
      "--------------------------------------------------\n",
      "Processing Americus...\n",
      "Data shape for Americus: (301, 7)\n"
     ]
    },
    {
     "name": "stderr",
     "output_type": "stream",
     "text": [
      "20:04:21 - cmdstanpy - INFO - Chain [1] start processing\n",
      "20:04:21 - cmdstanpy - INFO - Chain [1] done processing\n",
      "20:04:21 - cmdstanpy - INFO - Chain [1] start processing\n",
      "20:04:22 - cmdstanpy - INFO - Chain [1] done processing\n"
     ]
    },
    {
     "name": "stdout",
     "output_type": "stream",
     "text": [
      "Model and forecast saved for Americus\n",
      "--------------------------------------------------\n",
      "Processing Arcadia...\n",
      "Data shape for Arcadia: (305, 7)\n",
      "Model and forecast saved for Arcadia\n",
      "--------------------------------------------------\n",
      "Processing Lewisburg...\n",
      "Data shape for Lewisburg: (462, 7)\n"
     ]
    },
    {
     "name": "stderr",
     "output_type": "stream",
     "text": [
      "20:04:22 - cmdstanpy - INFO - Chain [1] start processing\n",
      "20:04:22 - cmdstanpy - INFO - Chain [1] done processing\n",
      "20:04:22 - cmdstanpy - INFO - Chain [1] start processing\n"
     ]
    },
    {
     "name": "stdout",
     "output_type": "stream",
     "text": [
      "Model and forecast saved for Lewisburg\n",
      "--------------------------------------------------\n",
      "Processing Seneca Falls...\n",
      "Data shape for Seneca Falls: (305, 7)\n",
      "Model and forecast saved for Seneca Falls\n",
      "--------------------------------------------------\n",
      "Processing Malvern...\n",
      "Data shape for Malvern: (305, 7)\n"
     ]
    },
    {
     "name": "stderr",
     "output_type": "stream",
     "text": [
      "20:04:22 - cmdstanpy - INFO - Chain [1] done processing\n",
      "20:04:22 - cmdstanpy - INFO - Chain [1] start processing\n",
      "20:04:22 - cmdstanpy - INFO - Chain [1] done processing\n",
      "20:04:22 - cmdstanpy - INFO - Chain [1] start processing\n"
     ]
    },
    {
     "name": "stdout",
     "output_type": "stream",
     "text": [
      "Model and forecast saved for Malvern\n",
      "--------------------------------------------------\n",
      "Processing Martin...\n",
      "Data shape for Martin: (304, 7)\n",
      "Model and forecast saved for Martin\n",
      "--------------------------------------------------\n",
      "Processing Dayton...\n",
      "Data shape for Dayton: (305, 7)\n"
     ]
    },
    {
     "name": "stderr",
     "output_type": "stream",
     "text": [
      "20:04:22 - cmdstanpy - INFO - Chain [1] done processing\n",
      "20:04:22 - cmdstanpy - INFO - Chain [1] start processing\n",
      "20:04:22 - cmdstanpy - INFO - Chain [1] done processing\n",
      "20:04:22 - cmdstanpy - INFO - Chain [1] start processing\n",
      "20:04:22 - cmdstanpy - INFO - Chain [1] done processing\n"
     ]
    },
    {
     "name": "stdout",
     "output_type": "stream",
     "text": [
      "Model and forecast saved for Dayton\n",
      "--------------------------------------------------\n",
      "Processing Paris...\n",
      "Data shape for Paris: (496, 7)\n",
      "Model and forecast saved for Paris\n",
      "--------------------------------------------------\n",
      "Processing Berlin...\n",
      "Data shape for Berlin: (305, 7)\n"
     ]
    },
    {
     "name": "stderr",
     "output_type": "stream",
     "text": [
      "20:04:23 - cmdstanpy - INFO - Chain [1] start processing\n",
      "20:04:23 - cmdstanpy - INFO - Chain [1] done processing\n",
      "20:04:23 - cmdstanpy - INFO - Chain [1] start processing\n",
      "20:04:23 - cmdstanpy - INFO - Chain [1] done processing\n"
     ]
    },
    {
     "name": "stdout",
     "output_type": "stream",
     "text": [
      "Model and forecast saved for Berlin\n",
      "--------------------------------------------------\n",
      "Processing Union City...\n",
      "Data shape for Union City: (301, 7)\n",
      "Model and forecast saved for Union City\n",
      "--------------------------------------------------\n",
      "Processing Jesup...\n",
      "Data shape for Jesup: (305, 7)\n"
     ]
    },
    {
     "name": "stderr",
     "output_type": "stream",
     "text": [
      "20:04:23 - cmdstanpy - INFO - Chain [1] start processing\n",
      "20:04:23 - cmdstanpy - INFO - Chain [1] done processing\n",
      "20:04:23 - cmdstanpy - INFO - Chain [1] start processing\n",
      "20:04:23 - cmdstanpy - INFO - Chain [1] done processing\n"
     ]
    },
    {
     "name": "stdout",
     "output_type": "stream",
     "text": [
      "Model and forecast saved for Jesup\n",
      "--------------------------------------------------\n",
      "Processing Ludington...\n",
      "Data shape for Ludington: (304, 7)\n",
      "Model and forecast saved for Ludington\n",
      "--------------------------------------------------\n",
      "Processing Bainbridge...\n",
      "Data shape for Bainbridge: (301, 7)\n"
     ]
    },
    {
     "name": "stderr",
     "output_type": "stream",
     "text": [
      "20:04:23 - cmdstanpy - INFO - Chain [1] start processing\n",
      "20:04:23 - cmdstanpy - INFO - Chain [1] done processing\n",
      "20:04:23 - cmdstanpy - INFO - Chain [1] start processing\n"
     ]
    },
    {
     "name": "stdout",
     "output_type": "stream",
     "text": [
      "Model and forecast saved for Bainbridge\n",
      "--------------------------------------------------\n",
      "Processing Alpena...\n",
      "Data shape for Alpena: (304, 7)\n",
      "Model and forecast saved for Alpena\n",
      "--------------------------------------------------\n",
      "Processing Washington Court House...\n",
      "Data shape for Washington Court House: (305, 7)\n"
     ]
    },
    {
     "name": "stderr",
     "output_type": "stream",
     "text": [
      "20:04:23 - cmdstanpy - INFO - Chain [1] done processing\n",
      "20:04:23 - cmdstanpy - INFO - Chain [1] start processing\n",
      "20:04:23 - cmdstanpy - INFO - Chain [1] done processing\n",
      "20:04:23 - cmdstanpy - INFO - Chain [1] start processing\n"
     ]
    },
    {
     "name": "stdout",
     "output_type": "stream",
     "text": [
      "Model and forecast saved for Washington Court House\n",
      "--------------------------------------------------\n",
      "Processing Van Wert...\n",
      "Data shape for Van Wert: (305, 7)\n",
      "Model and forecast saved for Van Wert\n",
      "--------------------------------------------------\n",
      "Processing Weatherford...\n",
      "Data shape for Weatherford: (304, 7)\n"
     ]
    },
    {
     "name": "stderr",
     "output_type": "stream",
     "text": [
      "20:04:24 - cmdstanpy - INFO - Chain [1] done processing\n",
      "20:04:24 - cmdstanpy - INFO - Chain [1] start processing\n",
      "20:04:24 - cmdstanpy - INFO - Chain [1] done processing\n"
     ]
    },
    {
     "name": "stdout",
     "output_type": "stream",
     "text": [
      "Model and forecast saved for Weatherford\n",
      "--------------------------------------------------\n",
      "Processing Macomb...\n",
      "Data shape for Macomb: (302, 7)\n",
      "Model and forecast saved for Macomb\n",
      "--------------------------------------------------\n",
      "Processing Camden...\n",
      "Data shape for Camden: (305, 7)\n"
     ]
    },
    {
     "name": "stderr",
     "output_type": "stream",
     "text": [
      "20:04:24 - cmdstanpy - INFO - Chain [1] start processing\n",
      "20:04:24 - cmdstanpy - INFO - Chain [1] done processing\n",
      "20:04:24 - cmdstanpy - INFO - Chain [1] start processing\n",
      "20:04:24 - cmdstanpy - INFO - Chain [1] done processing\n",
      "20:04:24 - cmdstanpy - INFO - Chain [1] start processing\n",
      "20:04:24 - cmdstanpy - INFO - Chain [1] done processing\n"
     ]
    },
    {
     "name": "stdout",
     "output_type": "stream",
     "text": [
      "Model and forecast saved for Camden\n",
      "--------------------------------------------------\n",
      "Processing Thomaston...\n",
      "Data shape for Thomaston: (305, 7)\n",
      "Model and forecast saved for Thomaston\n",
      "--------------------------------------------------\n",
      "Processing Toccoa...\n",
      "Data shape for Toccoa: (305, 7)\n"
     ]
    },
    {
     "name": "stderr",
     "output_type": "stream",
     "text": [
      "20:04:24 - cmdstanpy - INFO - Chain [1] start processing\n",
      "20:04:24 - cmdstanpy - INFO - Chain [1] done processing\n",
      "20:04:24 - cmdstanpy - INFO - Chain [1] start processing\n",
      "20:04:24 - cmdstanpy - INFO - Chain [1] done processing\n"
     ]
    },
    {
     "name": "stdout",
     "output_type": "stream",
     "text": [
      "Model and forecast saved for Toccoa\n",
      "--------------------------------------------------\n",
      "Processing Wauchula...\n",
      "Data shape for Wauchula: (305, 7)\n",
      "Model and forecast saved for Wauchula\n",
      "--------------------------------------------------\n",
      "Processing Altus...\n",
      "Data shape for Altus: (302, 7)\n"
     ]
    },
    {
     "name": "stderr",
     "output_type": "stream",
     "text": [
      "20:04:24 - cmdstanpy - INFO - Chain [1] start processing\n",
      "20:04:25 - cmdstanpy - INFO - Chain [1] done processing\n",
      "20:04:25 - cmdstanpy - INFO - Chain [1] start processing\n"
     ]
    },
    {
     "name": "stdout",
     "output_type": "stream",
     "text": [
      "Model and forecast saved for Altus\n",
      "--------------------------------------------------\n",
      "Processing Steamboat Springs...\n",
      "Data shape for Steamboat Springs: (301, 7)\n",
      "Model and forecast saved for Steamboat Springs\n",
      "--------------------------------------------------\n",
      "Processing Summerville...\n",
      "Data shape for Summerville: (305, 7)\n"
     ]
    },
    {
     "name": "stderr",
     "output_type": "stream",
     "text": [
      "20:04:25 - cmdstanpy - INFO - Chain [1] done processing\n",
      "20:04:25 - cmdstanpy - INFO - Chain [1] start processing\n",
      "20:04:25 - cmdstanpy - INFO - Chain [1] done processing\n",
      "20:04:25 - cmdstanpy - INFO - Chain [1] start processing\n"
     ]
    },
    {
     "name": "stdout",
     "output_type": "stream",
     "text": [
      "Model and forecast saved for Summerville\n",
      "--------------------------------------------------\n",
      "Processing Woodward...\n",
      "Data shape for Woodward: (301, 7)\n",
      "Model and forecast saved for Woodward\n",
      "--------------------------------------------------\n",
      "Processing Prineville...\n",
      "Data shape for Prineville: (305, 7)\n"
     ]
    },
    {
     "name": "stderr",
     "output_type": "stream",
     "text": [
      "20:04:25 - cmdstanpy - INFO - Chain [1] done processing\n",
      "20:04:25 - cmdstanpy - INFO - Chain [1] start processing\n",
      "20:04:25 - cmdstanpy - INFO - Chain [1] done processing\n",
      "20:04:25 - cmdstanpy - INFO - Chain [1] start processing\n"
     ]
    },
    {
     "name": "stdout",
     "output_type": "stream",
     "text": [
      "Model and forecast saved for Prineville\n",
      "--------------------------------------------------\n",
      "Processing Hood River...\n",
      "Data shape for Hood River: (305, 7)\n",
      "Model and forecast saved for Hood River\n",
      "--------------------------------------------------\n",
      "Processing Forrest City...\n",
      "Data shape for Forrest City: (305, 7)\n"
     ]
    },
    {
     "name": "stderr",
     "output_type": "stream",
     "text": [
      "20:04:25 - cmdstanpy - INFO - Chain [1] done processing\n",
      "20:04:25 - cmdstanpy - INFO - Chain [1] start processing\n",
      "20:04:25 - cmdstanpy - INFO - Chain [1] done processing\n",
      "20:04:25 - cmdstanpy - INFO - Chain [1] start processing\n",
      "20:04:25 - cmdstanpy - INFO - Chain [1] done processing\n"
     ]
    },
    {
     "name": "stdout",
     "output_type": "stream",
     "text": [
      "Model and forecast saved for Forrest City\n",
      "--------------------------------------------------\n",
      "Processing Brookings...\n",
      "Data shape for Brookings: (466, 7)\n",
      "Model and forecast saved for Brookings\n",
      "--------------------------------------------------\n",
      "Processing Magnolia...\n",
      "Data shape for Magnolia: (305, 7)\n"
     ]
    },
    {
     "name": "stderr",
     "output_type": "stream",
     "text": [
      "20:04:26 - cmdstanpy - INFO - Chain [1] start processing\n",
      "20:04:26 - cmdstanpy - INFO - Chain [1] done processing\n"
     ]
    },
    {
     "name": "stdout",
     "output_type": "stream",
     "text": [
      "Model and forecast saved for Magnolia\n",
      "--------------------------------------------------\n",
      "Processing Elk City...\n",
      "Data shape for Elk City: (301, 7)\n",
      "Model and forecast saved for Elk City\n",
      "--------------------------------------------------\n",
      "Processing Sterling...\n",
      "Data shape for Sterling: (500, 7)\n"
     ]
    },
    {
     "name": "stderr",
     "output_type": "stream",
     "text": [
      "20:04:26 - cmdstanpy - INFO - Chain [1] start processing\n",
      "20:04:26 - cmdstanpy - INFO - Chain [1] done processing\n",
      "20:04:26 - cmdstanpy - INFO - Chain [1] start processing\n",
      "20:04:26 - cmdstanpy - INFO - Chain [1] done processing\n",
      "20:04:26 - cmdstanpy - INFO - Chain [1] start processing\n"
     ]
    },
    {
     "name": "stdout",
     "output_type": "stream",
     "text": [
      "Model and forecast saved for Sterling\n",
      "--------------------------------------------------\n",
      "Processing Arkadelphia...\n",
      "Data shape for Arkadelphia: (305, 7)\n",
      "Model and forecast saved for Arkadelphia\n",
      "--------------------------------------------------\n",
      "Processing Storm Lake...\n",
      "Data shape for Storm Lake: (301, 7)\n"
     ]
    },
    {
     "name": "stderr",
     "output_type": "stream",
     "text": [
      "20:04:26 - cmdstanpy - INFO - Chain [1] done processing\n",
      "20:04:26 - cmdstanpy - INFO - Chain [1] start processing\n",
      "20:04:26 - cmdstanpy - INFO - Chain [1] done processing\n",
      "20:04:26 - cmdstanpy - INFO - Chain [1] start processing\n",
      "20:04:26 - cmdstanpy - INFO - Chain [1] done processing\n"
     ]
    },
    {
     "name": "stdout",
     "output_type": "stream",
     "text": [
      "Model and forecast saved for Storm Lake\n",
      "--------------------------------------------------\n",
      "Processing Cordele...\n",
      "Data shape for Cordele: (305, 7)\n",
      "Model and forecast saved for Cordele\n",
      "--------------------------------------------------\n",
      "Processing Vineyard Haven...\n",
      "Data shape for Vineyard Haven: (305, 7)\n"
     ]
    },
    {
     "name": "stderr",
     "output_type": "stream",
     "text": [
      "20:04:26 - cmdstanpy - INFO - Chain [1] start processing\n",
      "20:04:26 - cmdstanpy - INFO - Chain [1] done processing\n",
      "20:04:27 - cmdstanpy - INFO - Chain [1] start processing\n",
      "20:04:27 - cmdstanpy - INFO - Chain [1] done processing\n"
     ]
    },
    {
     "name": "stdout",
     "output_type": "stream",
     "text": [
      "Model and forecast saved for Vineyard Haven\n",
      "--------------------------------------------------\n",
      "Processing Fitzgerald...\n",
      "Data shape for Fitzgerald: (305, 7)\n",
      "Model and forecast saved for Fitzgerald\n",
      "--------------------------------------------------\n",
      "Processing Craig...\n",
      "Data shape for Craig: (305, 7)\n"
     ]
    },
    {
     "name": "stderr",
     "output_type": "stream",
     "text": [
      "20:04:27 - cmdstanpy - INFO - Chain [1] start processing\n",
      "20:04:27 - cmdstanpy - INFO - Chain [1] done processing\n",
      "20:04:27 - cmdstanpy - INFO - Chain [1] start processing\n"
     ]
    },
    {
     "name": "stdout",
     "output_type": "stream",
     "text": [
      "Model and forecast saved for Craig\n",
      "--------------------------------------------------\n",
      "Processing Jefferson...\n",
      "Data shape for Jefferson: (303, 7)\n",
      "Model and forecast saved for Jefferson\n",
      "--------------------------------------------------\n",
      "Processing Cullman...\n",
      "Data shape for Cullman: (302, 7)\n"
     ]
    },
    {
     "name": "stderr",
     "output_type": "stream",
     "text": [
      "20:04:27 - cmdstanpy - INFO - Chain [1] done processing\n",
      "20:04:27 - cmdstanpy - INFO - Chain [1] start processing\n",
      "20:04:27 - cmdstanpy - INFO - Chain [1] done processing\n",
      "20:04:27 - cmdstanpy - INFO - Chain [1] start processing\n",
      "20:04:27 - cmdstanpy - INFO - Chain [1] done processing\n"
     ]
    },
    {
     "name": "stdout",
     "output_type": "stream",
     "text": [
      "Model and forecast saved for Cullman\n",
      "--------------------------------------------------\n",
      "Processing Kill Devil Hills...\n",
      "Data shape for Kill Devil Hills: (301, 7)\n",
      "Model and forecast saved for Kill Devil Hills\n",
      "--------------------------------------------------\n",
      "Processing Provo...\n",
      "Data shape for Provo: (301, 7)\n"
     ]
    },
    {
     "name": "stderr",
     "output_type": "stream",
     "text": [
      "20:04:27 - cmdstanpy - INFO - Chain [1] start processing\n",
      "20:04:27 - cmdstanpy - INFO - Chain [1] done processing\n",
      "20:04:27 - cmdstanpy - INFO - Chain [1] start processing\n"
     ]
    },
    {
     "name": "stdout",
     "output_type": "stream",
     "text": [
      "Model and forecast saved for Provo\n",
      "--------------------------------------------------\n",
      "Processing Yakima...\n",
      "Data shape for Yakima: (301, 7)\n",
      "Model and forecast saved for Yakima\n",
      "--------------------------------------------------\n",
      "Processing Poplar Bluff...\n",
      "Data shape for Poplar Bluff: (298, 7)\n"
     ]
    },
    {
     "name": "stderr",
     "output_type": "stream",
     "text": [
      "20:04:27 - cmdstanpy - INFO - Chain [1] done processing\n",
      "20:04:28 - cmdstanpy - INFO - Chain [1] start processing\n",
      "20:04:28 - cmdstanpy - INFO - Chain [1] done processing\n",
      "20:04:28 - cmdstanpy - INFO - Chain [1] start processing\n"
     ]
    },
    {
     "name": "stdout",
     "output_type": "stream",
     "text": [
      "Model and forecast saved for Poplar Bluff\n",
      "--------------------------------------------------\n",
      "Processing Whitewater...\n",
      "Data shape for Whitewater: (299, 7)\n",
      "Model and forecast saved for Whitewater\n",
      "--------------------------------------------------\n",
      "Processing Huntsville...\n",
      "Data shape for Huntsville: (489, 7)\n"
     ]
    },
    {
     "name": "stderr",
     "output_type": "stream",
     "text": [
      "20:04:28 - cmdstanpy - INFO - Chain [1] done processing\n",
      "20:04:28 - cmdstanpy - INFO - Chain [1] start processing\n",
      "20:04:28 - cmdstanpy - INFO - Chain [1] done processing\n",
      "20:04:28 - cmdstanpy - INFO - Chain [1] start processing\n",
      "20:04:28 - cmdstanpy - INFO - Chain [1] done processing\n"
     ]
    },
    {
     "name": "stdout",
     "output_type": "stream",
     "text": [
      "Model and forecast saved for Huntsville\n",
      "--------------------------------------------------\n",
      "Processing Champaign...\n",
      "Data shape for Champaign: (297, 7)\n",
      "Model and forecast saved for Champaign\n",
      "--------------------------------------------------\n",
      "Processing Talladega...\n",
      "Data shape for Talladega: (295, 7)\n"
     ]
    },
    {
     "name": "stderr",
     "output_type": "stream",
     "text": [
      "20:04:28 - cmdstanpy - INFO - Chain [1] start processing\n",
      "20:04:28 - cmdstanpy - INFO - Chain [1] done processing\n",
      "20:04:28 - cmdstanpy - INFO - Chain [1] start processing\n"
     ]
    },
    {
     "name": "stdout",
     "output_type": "stream",
     "text": [
      "Model and forecast saved for Talladega\n",
      "--------------------------------------------------\n",
      "Processing Faribault...\n",
      "Data shape for Faribault: (294, 7)\n",
      "Model and forecast saved for Faribault\n",
      "--------------------------------------------------\n",
      "Processing Red Wing...\n",
      "Data shape for Red Wing: (295, 7)\n"
     ]
    },
    {
     "name": "stderr",
     "output_type": "stream",
     "text": [
      "20:04:28 - cmdstanpy - INFO - Chain [1] done processing\n",
      "20:04:28 - cmdstanpy - INFO - Chain [1] start processing\n",
      "20:04:28 - cmdstanpy - INFO - Chain [1] done processing\n",
      "20:04:28 - cmdstanpy - INFO - Chain [1] start processing\n",
      "20:04:28 - cmdstanpy - INFO - Chain [1] done processing\n"
     ]
    },
    {
     "name": "stdout",
     "output_type": "stream",
     "text": [
      "Model and forecast saved for Red Wing\n",
      "--------------------------------------------------\n",
      "Processing Bellingham...\n",
      "Data shape for Bellingham: (294, 7)\n",
      "Model and forecast saved for Bellingham\n",
      "--------------------------------------------------\n",
      "Processing Boise City...\n",
      "Data shape for Boise City: (290, 7)\n"
     ]
    },
    {
     "name": "stderr",
     "output_type": "stream",
     "text": [
      "20:04:29 - cmdstanpy - INFO - Chain [1] start processing\n",
      "20:04:29 - cmdstanpy - INFO - Chain [1] done processing\n",
      "20:04:29 - cmdstanpy - INFO - Chain [1] start processing\n"
     ]
    },
    {
     "name": "stdout",
     "output_type": "stream",
     "text": [
      "Model and forecast saved for Boise City\n",
      "--------------------------------------------------\n",
      "Processing Brownsville...\n",
      "Data shape for Brownsville: (293, 7)\n",
      "Model and forecast saved for Brownsville\n",
      "--------------------------------------------------\n",
      "Processing Merced...\n",
      "Data shape for Merced: (292, 7)\n"
     ]
    },
    {
     "name": "stderr",
     "output_type": "stream",
     "text": [
      "20:04:29 - cmdstanpy - INFO - Chain [1] done processing\n",
      "20:04:29 - cmdstanpy - INFO - Chain [1] start processing\n",
      "20:04:29 - cmdstanpy - INFO - Chain [1] done processing\n",
      "20:04:29 - cmdstanpy - INFO - Chain [1] start processing\n"
     ]
    },
    {
     "name": "stdout",
     "output_type": "stream",
     "text": [
      "Model and forecast saved for Merced\n",
      "--------------------------------------------------\n",
      "Processing Chico...\n",
      "Data shape for Chico: (293, 7)\n",
      "Model and forecast saved for Chico\n",
      "--------------------------------------------------\n",
      "Processing El Centro...\n",
      "Data shape for El Centro: (292, 7)\n"
     ]
    },
    {
     "name": "stderr",
     "output_type": "stream",
     "text": [
      "20:04:29 - cmdstanpy - INFO - Chain [1] done processing\n",
      "20:04:29 - cmdstanpy - INFO - Chain [1] start processing\n",
      "20:04:29 - cmdstanpy - INFO - Chain [1] done processing\n",
      "20:04:29 - cmdstanpy - INFO - Chain [1] start processing\n",
      "20:04:29 - cmdstanpy - INFO - Chain [1] done processing\n"
     ]
    },
    {
     "name": "stdout",
     "output_type": "stream",
     "text": [
      "Model and forecast saved for El Centro\n",
      "--------------------------------------------------\n",
      "Processing Hanford...\n",
      "Data shape for Hanford: (293, 7)\n",
      "Model and forecast saved for Hanford\n",
      "--------------------------------------------------\n",
      "Processing Eureka...\n",
      "Data shape for Eureka: (293, 7)\n"
     ]
    },
    {
     "name": "stderr",
     "output_type": "stream",
     "text": [
      "20:04:29 - cmdstanpy - INFO - Chain [1] start processing\n",
      "20:04:29 - cmdstanpy - INFO - Chain [1] done processing\n",
      "20:04:30 - cmdstanpy - INFO - Chain [1] start processing\n"
     ]
    },
    {
     "name": "stdout",
     "output_type": "stream",
     "text": [
      "Model and forecast saved for Eureka\n",
      "--------------------------------------------------\n",
      "Processing Truckee...\n",
      "Data shape for Truckee: (293, 7)\n",
      "Model and forecast saved for Truckee\n",
      "--------------------------------------------------\n",
      "Processing Bellefontaine...\n",
      "Data shape for Bellefontaine: (290, 7)\n"
     ]
    },
    {
     "name": "stderr",
     "output_type": "stream",
     "text": [
      "20:04:30 - cmdstanpy - INFO - Chain [1] done processing\n",
      "20:04:30 - cmdstanpy - INFO - Chain [1] start processing\n",
      "20:04:30 - cmdstanpy - INFO - Chain [1] done processing\n",
      "20:04:30 - cmdstanpy - INFO - Chain [1] start processing\n"
     ]
    },
    {
     "name": "stdout",
     "output_type": "stream",
     "text": [
      "Model and forecast saved for Bellefontaine\n",
      "--------------------------------------------------\n",
      "Processing North Vernon...\n",
      "Data shape for North Vernon: (290, 7)\n",
      "Model and forecast saved for North Vernon\n",
      "--------------------------------------------------\n",
      "Processing Chambersburg...\n",
      "Data shape for Chambersburg: (289, 7)\n"
     ]
    },
    {
     "name": "stderr",
     "output_type": "stream",
     "text": [
      "20:04:30 - cmdstanpy - INFO - Chain [1] done processing\n",
      "20:04:30 - cmdstanpy - INFO - Chain [1] start processing\n",
      "20:04:30 - cmdstanpy - INFO - Chain [1] done processing\n",
      "20:04:30 - cmdstanpy - INFO - Chain [1] start processing\n"
     ]
    },
    {
     "name": "stdout",
     "output_type": "stream",
     "text": [
      "Model and forecast saved for Chambersburg\n",
      "--------------------------------------------------\n",
      "Processing Wenatchee...\n",
      "Data shape for Wenatchee: (285, 7)\n",
      "Model and forecast saved for Wenatchee\n",
      "--------------------------------------------------\n",
      "Processing Green Bay...\n",
      "Data shape for Green Bay: (283, 7)\n"
     ]
    },
    {
     "name": "stderr",
     "output_type": "stream",
     "text": [
      "20:04:30 - cmdstanpy - INFO - Chain [1] done processing\n",
      "20:04:30 - cmdstanpy - INFO - Chain [1] start processing\n",
      "20:04:30 - cmdstanpy - INFO - Chain [1] done processing\n",
      "20:04:30 - cmdstanpy - INFO - Chain [1] start processing\n"
     ]
    },
    {
     "name": "stdout",
     "output_type": "stream",
     "text": [
      "Model and forecast saved for Green Bay\n",
      "--------------------------------------------------\n",
      "Processing Myrtle Beach...\n",
      "Data shape for Myrtle Beach: (283, 7)\n",
      "Model and forecast saved for Myrtle Beach\n",
      "--------------------------------------------------\n",
      "Processing Dothan...\n",
      "Data shape for Dothan: (282, 7)\n"
     ]
    },
    {
     "name": "stderr",
     "output_type": "stream",
     "text": [
      "20:04:30 - cmdstanpy - INFO - Chain [1] done processing\n",
      "20:04:31 - cmdstanpy - INFO - Chain [1] start processing\n",
      "20:04:31 - cmdstanpy - INFO - Chain [1] done processing\n",
      "20:04:31 - cmdstanpy - INFO - Chain [1] start processing\n",
      "20:04:31 - cmdstanpy - INFO - Chain [1] done processing\n"
     ]
    },
    {
     "name": "stdout",
     "output_type": "stream",
     "text": [
      "Model and forecast saved for Dothan\n",
      "--------------------------------------------------\n",
      "Processing Marion...\n",
      "Data shape for Marion: (589, 7)\n",
      "Model and forecast saved for Marion\n",
      "--------------------------------------------------\n",
      "Processing Baton Rouge...\n",
      "Data shape for Baton Rouge: (278, 7)\n"
     ]
    },
    {
     "name": "stderr",
     "output_type": "stream",
     "text": [
      "20:04:31 - cmdstanpy - INFO - Chain [1] start processing\n",
      "20:04:31 - cmdstanpy - INFO - Chain [1] done processing\n",
      "20:04:31 - cmdstanpy - INFO - Chain [1] start processing\n"
     ]
    },
    {
     "name": "stdout",
     "output_type": "stream",
     "text": [
      "Model and forecast saved for Baton Rouge\n",
      "--------------------------------------------------\n",
      "Processing Wichita...\n",
      "Data shape for Wichita: (278, 7)\n",
      "Model and forecast saved for Wichita\n",
      "--------------------------------------------------\n",
      "Processing Peoria...\n",
      "Data shape for Peoria: (278, 7)\n"
     ]
    },
    {
     "name": "stderr",
     "output_type": "stream",
     "text": [
      "20:04:31 - cmdstanpy - INFO - Chain [1] done processing\n",
      "20:04:31 - cmdstanpy - INFO - Chain [1] start processing\n",
      "20:04:31 - cmdstanpy - INFO - Chain [1] done processing\n",
      "20:04:31 - cmdstanpy - INFO - Chain [1] start processing\n"
     ]
    },
    {
     "name": "stdout",
     "output_type": "stream",
     "text": [
      "Model and forecast saved for Peoria\n",
      "--------------------------------------------------\n",
      "Processing Las Cruces...\n",
      "Data shape for Las Cruces: (278, 7)\n",
      "Model and forecast saved for Las Cruces\n",
      "--------------------------------------------------\n",
      "Processing Yuma...\n",
      "Data shape for Yuma: (277, 7)\n"
     ]
    },
    {
     "name": "stderr",
     "output_type": "stream",
     "text": [
      "20:04:31 - cmdstanpy - INFO - Chain [1] done processing\n",
      "20:04:31 - cmdstanpy - INFO - Chain [1] start processing\n",
      "20:04:31 - cmdstanpy - INFO - Chain [1] done processing\n",
      "20:04:32 - cmdstanpy - INFO - Chain [1] start processing\n"
     ]
    },
    {
     "name": "stdout",
     "output_type": "stream",
     "text": [
      "Model and forecast saved for Yuma\n",
      "--------------------------------------------------\n",
      "Processing Cheyenne...\n",
      "Data shape for Cheyenne: (277, 7)\n",
      "Model and forecast saved for Cheyenne\n",
      "--------------------------------------------------\n",
      "Processing Santa Fe...\n",
      "Data shape for Santa Fe: (277, 7)\n"
     ]
    },
    {
     "name": "stderr",
     "output_type": "stream",
     "text": [
      "20:04:32 - cmdstanpy - INFO - Chain [1] done processing\n",
      "20:04:32 - cmdstanpy - INFO - Chain [1] start processing\n",
      "20:04:32 - cmdstanpy - INFO - Chain [1] done processing\n",
      "20:04:32 - cmdstanpy - INFO - Chain [1] start processing\n"
     ]
    },
    {
     "name": "stdout",
     "output_type": "stream",
     "text": [
      "Model and forecast saved for Santa Fe\n",
      "--------------------------------------------------\n",
      "Processing La Crosse...\n",
      "Data shape for La Crosse: (277, 7)\n",
      "Model and forecast saved for La Crosse\n",
      "--------------------------------------------------\n",
      "Processing Gadsden...\n",
      "Data shape for Gadsden: (277, 7)\n"
     ]
    },
    {
     "name": "stderr",
     "output_type": "stream",
     "text": [
      "20:04:32 - cmdstanpy - INFO - Chain [1] done processing\n",
      "20:04:32 - cmdstanpy - INFO - Chain [1] start processing\n",
      "20:04:32 - cmdstanpy - INFO - Chain [1] done processing\n",
      "20:04:32 - cmdstanpy - INFO - Chain [1] start processing\n",
      "20:04:32 - cmdstanpy - INFO - Chain [1] done processing\n"
     ]
    },
    {
     "name": "stdout",
     "output_type": "stream",
     "text": [
      "Model and forecast saved for Gadsden\n",
      "--------------------------------------------------\n",
      "Processing Albuquerque...\n",
      "Data shape for Albuquerque: (276, 7)\n",
      "Model and forecast saved for Albuquerque\n",
      "--------------------------------------------------\n",
      "Processing Lancaster...\n",
      "Data shape for Lancaster: (274, 7)\n"
     ]
    },
    {
     "name": "stderr",
     "output_type": "stream",
     "text": [
      "20:04:32 - cmdstanpy - INFO - Chain [1] start processing\n",
      "20:04:32 - cmdstanpy - INFO - Chain [1] done processing\n",
      "20:04:32 - cmdstanpy - INFO - Chain [1] start processing\n"
     ]
    },
    {
     "name": "stdout",
     "output_type": "stream",
     "text": [
      "Model and forecast saved for Lancaster\n",
      "--------------------------------------------------\n",
      "Processing Madera...\n",
      "Data shape for Madera: (269, 7)\n",
      "Model and forecast saved for Madera\n",
      "--------------------------------------------------\n",
      "Processing Ukiah...\n",
      "Data shape for Ukiah: (269, 7)\n"
     ]
    },
    {
     "name": "stderr",
     "output_type": "stream",
     "text": [
      "20:04:32 - cmdstanpy - INFO - Chain [1] done processing\n",
      "20:04:32 - cmdstanpy - INFO - Chain [1] start processing\n",
      "20:04:33 - cmdstanpy - INFO - Chain [1] done processing\n",
      "20:04:33 - cmdstanpy - INFO - Chain [1] start processing\n",
      "20:04:33 - cmdstanpy - INFO - Chain [1] done processing\n"
     ]
    },
    {
     "name": "stdout",
     "output_type": "stream",
     "text": [
      "Model and forecast saved for Ukiah\n",
      "--------------------------------------------------\n",
      "Processing El Dorado...\n",
      "Data shape for El Dorado: (264, 7)\n",
      "Model and forecast saved for El Dorado\n",
      "--------------------------------------------------\n",
      "Processing Spartanburg...\n",
      "Data shape for Spartanburg: (267, 7)\n"
     ]
    },
    {
     "name": "stderr",
     "output_type": "stream",
     "text": [
      "20:04:33 - cmdstanpy - INFO - Chain [1] start processing\n",
      "20:04:33 - cmdstanpy - INFO - Chain [1] done processing\n",
      "20:04:33 - cmdstanpy - INFO - Chain [1] start processing\n",
      "20:04:33 - cmdstanpy - INFO - Chain [1] done processing\n"
     ]
    },
    {
     "name": "stdout",
     "output_type": "stream",
     "text": [
      "Model and forecast saved for Spartanburg\n",
      "--------------------------------------------------\n",
      "Processing Ozark...\n",
      "Data shape for Ozark: (267, 7)\n",
      "Model and forecast saved for Ozark\n",
      "--------------------------------------------------\n",
      "Processing Wilmington...\n",
      "Data shape for Wilmington: (527, 7)\n"
     ]
    },
    {
     "name": "stderr",
     "output_type": "stream",
     "text": [
      "20:04:33 - cmdstanpy - INFO - Chain [1] start processing\n",
      "20:04:33 - cmdstanpy - INFO - Chain [1] done processing\n",
      "20:04:33 - cmdstanpy - INFO - Chain [1] start processing\n",
      "20:04:33 - cmdstanpy - INFO - Chain [1] done processing\n"
     ]
    },
    {
     "name": "stdout",
     "output_type": "stream",
     "text": [
      "Model and forecast saved for Wilmington\n",
      "--------------------------------------------------\n",
      "Processing Breckenridge...\n",
      "Data shape for Breckenridge: (264, 7)\n",
      "Model and forecast saved for Breckenridge\n",
      "--------------------------------------------------\n",
      "Processing Indianapolis...\n",
      "Data shape for Indianapolis: (264, 7)\n"
     ]
    },
    {
     "name": "stderr",
     "output_type": "stream",
     "text": [
      "20:04:33 - cmdstanpy - INFO - Chain [1] start processing\n",
      "20:04:33 - cmdstanpy - INFO - Chain [1] done processing\n",
      "20:04:33 - cmdstanpy - INFO - Chain [1] start processing\n",
      "20:04:33 - cmdstanpy - INFO - Chain [1] done processing\n"
     ]
    },
    {
     "name": "stdout",
     "output_type": "stream",
     "text": [
      "Model and forecast saved for Indianapolis\n",
      "--------------------------------------------------\n",
      "Processing Mankato...\n",
      "Data shape for Mankato: (263, 7)\n",
      "Model and forecast saved for Mankato\n",
      "--------------------------------------------------\n",
      "Processing Norfolk...\n",
      "Data shape for Norfolk: (263, 7)\n"
     ]
    },
    {
     "name": "stderr",
     "output_type": "stream",
     "text": [
      "20:04:33 - cmdstanpy - INFO - Chain [1] start processing\n",
      "20:04:34 - cmdstanpy - INFO - Chain [1] done processing\n",
      "20:04:34 - cmdstanpy - INFO - Chain [1] start processing\n"
     ]
    },
    {
     "name": "stdout",
     "output_type": "stream",
     "text": [
      "Model and forecast saved for Norfolk\n",
      "--------------------------------------------------\n",
      "Processing Mayfield...\n",
      "Data shape for Mayfield: (263, 7)\n",
      "Model and forecast saved for Mayfield\n",
      "--------------------------------------------------\n",
      "Processing Hastings...\n",
      "Data shape for Hastings: (263, 7)\n"
     ]
    },
    {
     "name": "stderr",
     "output_type": "stream",
     "text": [
      "20:04:34 - cmdstanpy - INFO - Chain [1] done processing\n",
      "20:04:34 - cmdstanpy - INFO - Chain [1] start processing\n",
      "20:04:34 - cmdstanpy - INFO - Chain [1] done processing\n",
      "20:04:34 - cmdstanpy - INFO - Chain [1] start processing\n"
     ]
    },
    {
     "name": "stdout",
     "output_type": "stream",
     "text": [
      "Model and forecast saved for Hastings\n",
      "--------------------------------------------------\n",
      "Processing Fort Wayne...\n",
      "Data shape for Fort Wayne: (262, 7)\n",
      "Model and forecast saved for Fort Wayne\n",
      "--------------------------------------------------\n",
      "Processing Astoria...\n",
      "Data shape for Astoria: (260, 7)\n"
     ]
    },
    {
     "name": "stderr",
     "output_type": "stream",
     "text": [
      "20:04:34 - cmdstanpy - INFO - Chain [1] done processing\n",
      "20:04:34 - cmdstanpy - INFO - Chain [1] start processing\n",
      "20:04:34 - cmdstanpy - INFO - Chain [1] done processing\n",
      "20:04:34 - cmdstanpy - INFO - Chain [1] start processing\n",
      "20:04:34 - cmdstanpy - INFO - Chain [1] done processing\n"
     ]
    },
    {
     "name": "stdout",
     "output_type": "stream",
     "text": [
      "Model and forecast saved for Astoria\n",
      "--------------------------------------------------\n",
      "Processing St. Joseph...\n",
      "Data shape for St. Joseph: (259, 7)\n",
      "Model and forecast saved for St. Joseph\n",
      "--------------------------------------------------\n",
      "Processing Ocala...\n",
      "Data shape for Ocala: (257, 7)\n"
     ]
    },
    {
     "name": "stderr",
     "output_type": "stream",
     "text": [
      "20:04:34 - cmdstanpy - INFO - Chain [1] start processing\n",
      "20:04:34 - cmdstanpy - INFO - Chain [1] done processing\n",
      "20:04:34 - cmdstanpy - INFO - Chain [1] start processing\n",
      "20:04:34 - cmdstanpy - INFO - Chain [1] done processing\n"
     ]
    },
    {
     "name": "stdout",
     "output_type": "stream",
     "text": [
      "Model and forecast saved for Ocala\n",
      "--------------------------------------------------\n",
      "Processing Yuba City...\n",
      "Data shape for Yuba City: (257, 7)\n",
      "Model and forecast saved for Yuba City\n",
      "--------------------------------------------------\n",
      "Processing Sebring...\n",
      "Data shape for Sebring: (257, 7)\n"
     ]
    },
    {
     "name": "stderr",
     "output_type": "stream",
     "text": [
      "20:04:35 - cmdstanpy - INFO - Chain [1] start processing\n",
      "20:04:35 - cmdstanpy - INFO - Chain [1] done processing\n",
      "20:04:35 - cmdstanpy - INFO - Chain [1] start processing\n",
      "20:04:35 - cmdstanpy - INFO - Chain [1] done processing\n"
     ]
    },
    {
     "name": "stdout",
     "output_type": "stream",
     "text": [
      "Model and forecast saved for Sebring\n",
      "--------------------------------------------------\n",
      "Processing Palatka...\n",
      "Data shape for Palatka: (257, 7)\n",
      "Model and forecast saved for Palatka\n",
      "--------------------------------------------------\n",
      "Processing Orangeburg...\n",
      "Data shape for Orangeburg: (254, 7)\n"
     ]
    },
    {
     "name": "stderr",
     "output_type": "stream",
     "text": [
      "20:04:35 - cmdstanpy - INFO - Chain [1] start processing\n",
      "20:04:35 - cmdstanpy - INFO - Chain [1] done processing\n",
      "20:04:35 - cmdstanpy - INFO - Chain [1] start processing\n",
      "20:04:35 - cmdstanpy - INFO - Chain [1] done processing\n"
     ]
    },
    {
     "name": "stdout",
     "output_type": "stream",
     "text": [
      "Model and forecast saved for Orangeburg\n",
      "--------------------------------------------------\n",
      "Processing Rockingham...\n",
      "Data shape for Rockingham: (254, 7)\n",
      "Model and forecast saved for Rockingham\n",
      "--------------------------------------------------\n",
      "Processing Mexico...\n",
      "Data shape for Mexico: (254, 7)\n"
     ]
    },
    {
     "name": "stderr",
     "output_type": "stream",
     "text": [
      "20:04:35 - cmdstanpy - INFO - Chain [1] start processing\n",
      "20:04:35 - cmdstanpy - INFO - Chain [1] done processing\n",
      "20:04:35 - cmdstanpy - INFO - Chain [1] start processing\n"
     ]
    },
    {
     "name": "stdout",
     "output_type": "stream",
     "text": [
      "Model and forecast saved for Mexico\n",
      "--------------------------------------------------\n",
      "Processing Grand Island...\n",
      "Data shape for Grand Island: (253, 7)\n",
      "Model and forecast saved for Grand Island\n",
      "--------------------------------------------------\n",
      "Processing Davenport...\n",
      "Data shape for Davenport: (251, 7)\n"
     ]
    },
    {
     "name": "stderr",
     "output_type": "stream",
     "text": [
      "20:04:35 - cmdstanpy - INFO - Chain [1] done processing\n",
      "20:04:35 - cmdstanpy - INFO - Chain [1] start processing\n",
      "20:04:35 - cmdstanpy - INFO - Chain [1] done processing\n",
      "20:04:35 - cmdstanpy - INFO - Chain [1] start processing\n",
      "20:04:35 - cmdstanpy - INFO - Chain [1] done processing\n"
     ]
    },
    {
     "name": "stdout",
     "output_type": "stream",
     "text": [
      "Model and forecast saved for Davenport\n",
      "--------------------------------------------------\n",
      "Processing Fairmont...\n",
      "Data shape for Fairmont: (251, 7)\n",
      "Model and forecast saved for Fairmont\n",
      "--------------------------------------------------\n",
      "Processing Hutchinson...\n",
      "Data shape for Hutchinson: (430, 7)\n"
     ]
    },
    {
     "name": "stderr",
     "output_type": "stream",
     "text": [
      "20:04:36 - cmdstanpy - INFO - Chain [1] start processing\n",
      "20:04:36 - cmdstanpy - INFO - Chain [1] done processing\n",
      "20:04:36 - cmdstanpy - INFO - Chain [1] start processing\n"
     ]
    },
    {
     "name": "stdout",
     "output_type": "stream",
     "text": [
      "Model and forecast saved for Hutchinson\n",
      "--------------------------------------------------\n",
      "Processing Duluth...\n",
      "Data shape for Duluth: (250, 7)\n",
      "Model and forecast saved for Duluth\n",
      "--------------------------------------------------\n",
      "Processing Lawrence...\n",
      "Data shape for Lawrence: (250, 7)\n"
     ]
    },
    {
     "name": "stderr",
     "output_type": "stream",
     "text": [
      "20:04:36 - cmdstanpy - INFO - Chain [1] done processing\n",
      "20:04:36 - cmdstanpy - INFO - Chain [1] start processing\n",
      "20:04:36 - cmdstanpy - INFO - Chain [1] done processing\n",
      "20:04:36 - cmdstanpy - INFO - Chain [1] start processing\n"
     ]
    },
    {
     "name": "stdout",
     "output_type": "stream",
     "text": [
      "Model and forecast saved for Lawrence\n",
      "--------------------------------------------------\n",
      "Processing Corpus Christi...\n",
      "Data shape for Corpus Christi: (247, 7)\n",
      "Model and forecast saved for Corpus Christi\n",
      "--------------------------------------------------\n",
      "Processing Roanoke...\n",
      "Data shape for Roanoke: (247, 7)\n"
     ]
    },
    {
     "name": "stderr",
     "output_type": "stream",
     "text": [
      "20:04:36 - cmdstanpy - INFO - Chain [1] done processing\n",
      "20:04:36 - cmdstanpy - INFO - Chain [1] start processing\n",
      "20:04:36 - cmdstanpy - INFO - Chain [1] done processing\n",
      "20:04:36 - cmdstanpy - INFO - Chain [1] start processing\n",
      "20:04:36 - cmdstanpy - INFO - Chain [1] done processing\n"
     ]
    },
    {
     "name": "stdout",
     "output_type": "stream",
     "text": [
      "Model and forecast saved for Roanoke\n",
      "--------------------------------------------------\n",
      "Processing Johnstown...\n",
      "Data shape for Johnstown: (246, 7)\n",
      "Model and forecast saved for Johnstown\n",
      "--------------------------------------------------\n",
      "Processing Beaumont...\n",
      "Data shape for Beaumont: (245, 7)\n"
     ]
    },
    {
     "name": "stderr",
     "output_type": "stream",
     "text": [
      "20:04:36 - cmdstanpy - INFO - Chain [1] start processing\n",
      "20:04:37 - cmdstanpy - INFO - Chain [1] done processing\n"
     ]
    },
    {
     "name": "stdout",
     "output_type": "stream",
     "text": [
      "Model and forecast saved for Beaumont\n",
      "--------------------------------------------------\n",
      "Processing Elkhart...\n",
      "Data shape for Elkhart: (245, 7)\n"
     ]
    },
    {
     "name": "stderr",
     "output_type": "stream",
     "text": [
      "20:04:37 - cmdstanpy - INFO - Chain [1] start processing\n",
      "20:04:37 - cmdstanpy - INFO - Chain [1] done processing\n",
      "20:04:37 - cmdstanpy - INFO - Chain [1] start processing\n",
      "20:04:37 - cmdstanpy - INFO - Chain [1] done processing\n"
     ]
    },
    {
     "name": "stdout",
     "output_type": "stream",
     "text": [
      "Model and forecast saved for Elkhart\n",
      "--------------------------------------------------\n",
      "Processing Logan...\n",
      "Data shape for Logan: (244, 7)\n",
      "Model and forecast saved for Logan\n",
      "--------------------------------------------------\n",
      "Processing Missoula...\n",
      "Data shape for Missoula: (244, 7)\n"
     ]
    },
    {
     "name": "stderr",
     "output_type": "stream",
     "text": [
      "20:04:37 - cmdstanpy - INFO - Chain [1] start processing\n",
      "20:04:37 - cmdstanpy - INFO - Chain [1] done processing\n",
      "20:04:37 - cmdstanpy - INFO - Chain [1] start processing\n",
      "20:04:37 - cmdstanpy - INFO - Chain [1] done processing\n"
     ]
    },
    {
     "name": "stdout",
     "output_type": "stream",
     "text": [
      "Model and forecast saved for Missoula\n",
      "--------------------------------------------------\n",
      "Processing Fairbanks...\n",
      "Data shape for Fairbanks: (244, 7)\n",
      "Model and forecast saved for Fairbanks\n",
      "--------------------------------------------------\n",
      "Processing Juneau...\n",
      "Data shape for Juneau: (240, 7)\n"
     ]
    },
    {
     "name": "stderr",
     "output_type": "stream",
     "text": [
      "20:04:37 - cmdstanpy - INFO - Chain [1] start processing\n",
      "20:04:37 - cmdstanpy - INFO - Chain [1] done processing\n",
      "20:04:37 - cmdstanpy - INFO - Chain [1] start processing\n",
      "20:04:37 - cmdstanpy - INFO - Chain [1] done processing\n"
     ]
    },
    {
     "name": "stdout",
     "output_type": "stream",
     "text": [
      "Model and forecast saved for Juneau\n",
      "--------------------------------------------------\n",
      "Processing Shreveport...\n",
      "Data shape for Shreveport: (242, 7)\n",
      "Model and forecast saved for Shreveport\n",
      "--------------------------------------------------\n",
      "Processing Lebanon...\n",
      "Data shape for Lebanon: (437, 7)\n"
     ]
    },
    {
     "name": "stderr",
     "output_type": "stream",
     "text": [
      "20:04:37 - cmdstanpy - INFO - Chain [1] start processing\n",
      "20:04:37 - cmdstanpy - INFO - Chain [1] done processing\n",
      "20:04:37 - cmdstanpy - INFO - Chain [1] start processing\n"
     ]
    },
    {
     "name": "stdout",
     "output_type": "stream",
     "text": [
      "Model and forecast saved for Lebanon\n",
      "--------------------------------------------------\n",
      "Processing Appleton...\n",
      "Data shape for Appleton: (241, 7)\n",
      "Model and forecast saved for Appleton\n",
      "--------------------------------------------------\n",
      "Processing Twin Falls...\n",
      "Data shape for Twin Falls: (241, 7)\n"
     ]
    },
    {
     "name": "stderr",
     "output_type": "stream",
     "text": [
      "20:04:38 - cmdstanpy - INFO - Chain [1] done processing\n",
      "20:04:38 - cmdstanpy - INFO - Chain [1] start processing\n",
      "20:04:38 - cmdstanpy - INFO - Chain [1] done processing\n",
      "20:04:38 - cmdstanpy - INFO - Chain [1] start processing\n",
      "20:04:38 - cmdstanpy - INFO - Chain [1] done processing\n"
     ]
    },
    {
     "name": "stdout",
     "output_type": "stream",
     "text": [
      "Model and forecast saved for Twin Falls\n",
      "--------------------------------------------------\n",
      "Processing Ketchikan...\n",
      "Data shape for Ketchikan: (241, 7)\n",
      "Model and forecast saved for Ketchikan\n",
      "--------------------------------------------------\n",
      "Processing St. Cloud...\n",
      "Data shape for St. Cloud: (240, 7)\n"
     ]
    },
    {
     "name": "stderr",
     "output_type": "stream",
     "text": [
      "20:04:38 - cmdstanpy - INFO - Chain [1] start processing\n",
      "20:04:38 - cmdstanpy - INFO - Chain [1] done processing\n",
      "20:04:38 - cmdstanpy - INFO - Chain [1] start processing\n",
      "20:04:38 - cmdstanpy - INFO - Chain [1] done processing\n"
     ]
    },
    {
     "name": "stdout",
     "output_type": "stream",
     "text": [
      "Model and forecast saved for St. Cloud\n",
      "--------------------------------------------------\n",
      "Processing Ottawa...\n",
      "Data shape for Ottawa: (238, 7)\n",
      "Model and forecast saved for Ottawa\n",
      "--------------------------------------------------\n",
      "Processing East Stroudsburg...\n",
      "Data shape for East Stroudsburg: (239, 7)\n"
     ]
    },
    {
     "name": "stderr",
     "output_type": "stream",
     "text": [
      "20:04:38 - cmdstanpy - INFO - Chain [1] start processing\n",
      "20:04:38 - cmdstanpy - INFO - Chain [1] done processing\n",
      "20:04:38 - cmdstanpy - INFO - Chain [1] start processing\n",
      "20:04:38 - cmdstanpy - INFO - Chain [1] done processing\n"
     ]
    },
    {
     "name": "stdout",
     "output_type": "stream",
     "text": [
      "Model and forecast saved for East Stroudsburg\n",
      "--------------------------------------------------\n",
      "Processing State College...\n",
      "Data shape for State College: (239, 7)\n",
      "Model and forecast saved for State College\n",
      "--------------------------------------------------\n",
      "Processing Florence...\n",
      "Data shape for Florence: (420, 7)\n"
     ]
    },
    {
     "name": "stderr",
     "output_type": "stream",
     "text": [
      "20:04:38 - cmdstanpy - INFO - Chain [1] start processing\n",
      "20:04:38 - cmdstanpy - INFO - Chain [1] done processing\n",
      "20:04:39 - cmdstanpy - INFO - Chain [1] start processing\n"
     ]
    },
    {
     "name": "stdout",
     "output_type": "stream",
     "text": [
      "Model and forecast saved for Florence\n",
      "--------------------------------------------------\n",
      "Processing Willmar...\n",
      "Data shape for Willmar: (236, 7)\n",
      "Model and forecast saved for Willmar\n",
      "--------------------------------------------------\n",
      "Processing New Castle...\n",
      "Data shape for New Castle: (430, 7)\n"
     ]
    },
    {
     "name": "stderr",
     "output_type": "stream",
     "text": [
      "20:04:39 - cmdstanpy - INFO - Chain [1] done processing\n",
      "20:04:39 - cmdstanpy - INFO - Chain [1] start processing\n",
      "20:04:39 - cmdstanpy - INFO - Chain [1] done processing\n",
      "20:04:39 - cmdstanpy - INFO - Chain [1] start processing\n",
      "20:04:39 - cmdstanpy - INFO - Chain [1] done processing\n"
     ]
    },
    {
     "name": "stdout",
     "output_type": "stream",
     "text": [
      "Model and forecast saved for New Castle\n",
      "--------------------------------------------------\n",
      "Processing Kerrville...\n",
      "Data shape for Kerrville: (234, 7)\n",
      "Model and forecast saved for Kerrville\n",
      "--------------------------------------------------\n",
      "Processing Freeport...\n",
      "Data shape for Freeport: (232, 7)\n"
     ]
    },
    {
     "name": "stderr",
     "output_type": "stream",
     "text": [
      "20:04:39 - cmdstanpy - INFO - Chain [1] start processing\n",
      "20:04:39 - cmdstanpy - INFO - Chain [1] done processing\n",
      "20:04:39 - cmdstanpy - INFO - Chain [1] start processing\n",
      "20:04:39 - cmdstanpy - INFO - Chain [1] done processing\n"
     ]
    },
    {
     "name": "stdout",
     "output_type": "stream",
     "text": [
      "Model and forecast saved for Freeport\n",
      "--------------------------------------------------\n",
      "Processing Dixon...\n",
      "Data shape for Dixon: (229, 7)\n",
      "Model and forecast saved for Dixon\n",
      "--------------------------------------------------\n",
      "Processing Pullman...\n",
      "Data shape for Pullman: (227, 7)\n"
     ]
    },
    {
     "name": "stderr",
     "output_type": "stream",
     "text": [
      "20:04:39 - cmdstanpy - INFO - Chain [1] start processing\n",
      "20:04:39 - cmdstanpy - INFO - Chain [1] done processing\n",
      "20:04:39 - cmdstanpy - INFO - Chain [1] start processing\n",
      "20:04:39 - cmdstanpy - INFO - Chain [1] done processing\n"
     ]
    },
    {
     "name": "stdout",
     "output_type": "stream",
     "text": [
      "Model and forecast saved for Pullman\n",
      "--------------------------------------------------\n",
      "Processing Beatrice...\n",
      "Data shape for Beatrice: (228, 7)\n",
      "Model and forecast saved for Beatrice\n",
      "--------------------------------------------------\n",
      "Processing Oak Harbor...\n",
      "Data shape for Oak Harbor: (227, 7)\n"
     ]
    },
    {
     "name": "stderr",
     "output_type": "stream",
     "text": [
      "20:04:39 - cmdstanpy - INFO - Chain [1] start processing\n",
      "20:04:40 - cmdstanpy - INFO - Chain [1] done processing\n",
      "20:04:40 - cmdstanpy - INFO - Chain [1] start processing\n"
     ]
    },
    {
     "name": "stdout",
     "output_type": "stream",
     "text": [
      "Model and forecast saved for Oak Harbor\n",
      "--------------------------------------------------\n",
      "Processing Beaver Dam...\n",
      "Data shape for Beaver Dam: (226, 7)\n",
      "Model and forecast saved for Beaver Dam\n",
      "--------------------------------------------------\n",
      "Processing Sioux Falls...\n",
      "Data shape for Sioux Falls: (225, 7)\n"
     ]
    },
    {
     "name": "stderr",
     "output_type": "stream",
     "text": [
      "20:04:40 - cmdstanpy - INFO - Chain [1] done processing\n",
      "20:04:40 - cmdstanpy - INFO - Chain [1] start processing\n",
      "20:04:40 - cmdstanpy - INFO - Chain [1] done processing\n",
      "20:04:40 - cmdstanpy - INFO - Chain [1] start processing\n",
      "20:04:40 - cmdstanpy - INFO - Chain [1] done processing\n"
     ]
    },
    {
     "name": "stdout",
     "output_type": "stream",
     "text": [
      "Model and forecast saved for Sioux Falls\n",
      "--------------------------------------------------\n",
      "Processing Kearney...\n",
      "Data shape for Kearney: (225, 7)\n",
      "Model and forecast saved for Kearney\n",
      "--------------------------------------------------\n",
      "Processing Kinston...\n",
      "Data shape for Kinston: (225, 7)\n"
     ]
    },
    {
     "name": "stderr",
     "output_type": "stream",
     "text": [
      "20:04:40 - cmdstanpy - INFO - Chain [1] start processing\n",
      "20:04:40 - cmdstanpy - INFO - Chain [1] done processing\n",
      "20:04:40 - cmdstanpy - INFO - Chain [1] start processing\n",
      "20:04:40 - cmdstanpy - INFO - Chain [1] done processing\n"
     ]
    },
    {
     "name": "stdout",
     "output_type": "stream",
     "text": [
      "Model and forecast saved for Kinston\n",
      "--------------------------------------------------\n",
      "Processing McAllen...\n",
      "Data shape for McAllen: (217, 7)\n",
      "Model and forecast saved for McAllen\n",
      "--------------------------------------------------\n",
      "Processing Clearlake...\n",
      "Data shape for Clearlake: (221, 7)\n"
     ]
    },
    {
     "name": "stderr",
     "output_type": "stream",
     "text": [
      "20:04:40 - cmdstanpy - INFO - Chain [1] start processing\n",
      "20:04:40 - cmdstanpy - INFO - Chain [1] done processing\n",
      "20:04:40 - cmdstanpy - INFO - Chain [1] start processing\n",
      "20:04:40 - cmdstanpy - INFO - Chain [1] done processing\n"
     ]
    },
    {
     "name": "stdout",
     "output_type": "stream",
     "text": [
      "Model and forecast saved for Clearlake\n",
      "--------------------------------------------------\n",
      "Processing North Platte...\n",
      "Data shape for North Platte: (218, 7)\n",
      "Model and forecast saved for North Platte\n",
      "--------------------------------------------------\n",
      "Processing Susanville...\n",
      "Data shape for Susanville: (221, 7)\n"
     ]
    },
    {
     "name": "stderr",
     "output_type": "stream",
     "text": [
      "20:04:40 - cmdstanpy - INFO - Chain [1] start processing\n",
      "20:04:41 - cmdstanpy - INFO - Chain [1] done processing\n",
      "20:04:41 - cmdstanpy - INFO - Chain [1] start processing\n",
      "20:04:41 - cmdstanpy - INFO - Chain [1] done processing\n"
     ]
    },
    {
     "name": "stdout",
     "output_type": "stream",
     "text": [
      "Model and forecast saved for Susanville\n",
      "--------------------------------------------------\n",
      "Processing Crescent City...\n",
      "Data shape for Crescent City: (220, 7)\n",
      "Model and forecast saved for Crescent City\n",
      "--------------------------------------------------\n",
      "Processing Fernley...\n",
      "Data shape for Fernley: (218, 7)\n"
     ]
    },
    {
     "name": "stderr",
     "output_type": "stream",
     "text": [
      "20:04:41 - cmdstanpy - INFO - Chain [1] start processing\n",
      "20:04:41 - cmdstanpy - INFO - Chain [1] done processing\n",
      "20:04:41 - cmdstanpy - INFO - Chain [1] start processing\n",
      "20:04:41 - cmdstanpy - INFO - Chain [1] done processing\n"
     ]
    },
    {
     "name": "stdout",
     "output_type": "stream",
     "text": [
      "Model and forecast saved for Fernley\n",
      "--------------------------------------------------\n",
      "Processing Waterloo...\n",
      "Data shape for Waterloo: (217, 7)\n",
      "Model and forecast saved for Waterloo\n",
      "--------------------------------------------------\n",
      "Processing Jasper...\n",
      "Data shape for Jasper: (217, 7)\n"
     ]
    },
    {
     "name": "stderr",
     "output_type": "stream",
     "text": [
      "20:04:41 - cmdstanpy - INFO - Chain [1] start processing\n",
      "20:04:41 - cmdstanpy - INFO - Chain [1] done processing\n",
      "20:04:41 - cmdstanpy - INFO - Chain [1] start processing\n",
      "20:04:41 - cmdstanpy - INFO - Chain [1] done processing\n"
     ]
    },
    {
     "name": "stdout",
     "output_type": "stream",
     "text": [
      "Model and forecast saved for Jasper\n",
      "--------------------------------------------------\n",
      "Processing Natchez...\n",
      "Data shape for Natchez: (217, 7)\n",
      "Model and forecast saved for Natchez\n",
      "--------------------------------------------------\n",
      "Processing Great Falls...\n",
      "Data shape for Great Falls: (215, 7)\n"
     ]
    },
    {
     "name": "stderr",
     "output_type": "stream",
     "text": [
      "20:04:41 - cmdstanpy - INFO - Chain [1] start processing\n",
      "20:04:41 - cmdstanpy - INFO - Chain [1] done processing\n",
      "20:04:41 - cmdstanpy - INFO - Chain [1] start processing\n"
     ]
    },
    {
     "name": "stdout",
     "output_type": "stream",
     "text": [
      "Model and forecast saved for Great Falls\n",
      "--------------------------------------------------\n",
      "Processing Coeur d'Alene...\n",
      "Data shape for Coeur d'Alene: (215, 7)\n",
      "Model and forecast saved for Coeur d'Alene\n",
      "--------------------------------------------------\n",
      "Processing South Bend...\n",
      "Data shape for South Bend: (214, 7)\n"
     ]
    },
    {
     "name": "stderr",
     "output_type": "stream",
     "text": [
      "20:04:41 - cmdstanpy - INFO - Chain [1] done processing\n",
      "20:04:41 - cmdstanpy - INFO - Chain [1] start processing\n",
      "20:04:42 - cmdstanpy - INFO - Chain [1] done processing\n",
      "20:04:42 - cmdstanpy - INFO - Chain [1] start processing\n",
      "20:04:42 - cmdstanpy - INFO - Chain [1] done processing\n"
     ]
    },
    {
     "name": "stdout",
     "output_type": "stream",
     "text": [
      "Model and forecast saved for South Bend\n",
      "--------------------------------------------------\n",
      "Processing Hammond...\n",
      "Data shape for Hammond: (214, 7)\n",
      "Model and forecast saved for Hammond\n",
      "--------------------------------------------------\n",
      "Processing Shelton...\n",
      "Data shape for Shelton: (214, 7)\n"
     ]
    },
    {
     "name": "stderr",
     "output_type": "stream",
     "text": [
      "20:04:42 - cmdstanpy - INFO - Chain [1] start processing\n",
      "20:04:42 - cmdstanpy - INFO - Chain [1] done processing\n",
      "20:04:42 - cmdstanpy - INFO - Chain [1] start processing\n",
      "20:04:42 - cmdstanpy - INFO - Chain [1] done processing\n"
     ]
    },
    {
     "name": "stdout",
     "output_type": "stream",
     "text": [
      "Model and forecast saved for Shelton\n",
      "--------------------------------------------------\n",
      "Processing Port Angeles...\n",
      "Data shape for Port Angeles: (212, 7)\n",
      "Model and forecast saved for Port Angeles\n",
      "--------------------------------------------------\n",
      "Processing Big Rapids...\n",
      "Data shape for Big Rapids: (211, 7)\n"
     ]
    },
    {
     "name": "stderr",
     "output_type": "stream",
     "text": [
      "20:04:42 - cmdstanpy - INFO - Chain [1] start processing\n",
      "20:04:42 - cmdstanpy - INFO - Chain [1] done processing\n",
      "20:04:42 - cmdstanpy - INFO - Chain [1] start processing\n",
      "20:04:42 - cmdstanpy - INFO - Chain [1] done processing\n"
     ]
    },
    {
     "name": "stdout",
     "output_type": "stream",
     "text": [
      "Model and forecast saved for Big Rapids\n",
      "--------------------------------------------------\n",
      "Processing Coos Bay...\n",
      "Data shape for Coos Bay: (209, 7)\n",
      "Model and forecast saved for Coos Bay\n",
      "--------------------------------------------------\n",
      "Processing Elizabeth City...\n",
      "Data shape for Elizabeth City: (209, 7)\n"
     ]
    },
    {
     "name": "stderr",
     "output_type": "stream",
     "text": [
      "20:04:42 - cmdstanpy - INFO - Chain [1] start processing\n",
      "20:04:42 - cmdstanpy - INFO - Chain [1] done processing\n",
      "20:04:42 - cmdstanpy - INFO - Chain [1] start processing\n",
      "20:04:42 - cmdstanpy - INFO - Chain [1] done processing\n"
     ]
    },
    {
     "name": "stdout",
     "output_type": "stream",
     "text": [
      "Model and forecast saved for Elizabeth City\n",
      "--------------------------------------------------\n",
      "Processing Sierra Vista...\n",
      "Data shape for Sierra Vista: (208, 7)\n",
      "Model and forecast saved for Sierra Vista\n",
      "--------------------------------------------------\n",
      "Processing Hillsdale...\n",
      "Data shape for Hillsdale: (208, 7)\n"
     ]
    },
    {
     "name": "stderr",
     "output_type": "stream",
     "text": [
      "20:04:42 - cmdstanpy - INFO - Chain [1] start processing\n",
      "20:04:42 - cmdstanpy - INFO - Chain [1] done processing\n",
      "20:04:43 - cmdstanpy - INFO - Chain [1] start processing\n",
      "20:04:43 - cmdstanpy - INFO - Chain [1] done processing\n"
     ]
    },
    {
     "name": "stdout",
     "output_type": "stream",
     "text": [
      "Model and forecast saved for Hillsdale\n",
      "--------------------------------------------------\n",
      "Processing Joplin...\n",
      "Data shape for Joplin: (207, 7)\n",
      "Model and forecast saved for Joplin\n",
      "--------------------------------------------------\n",
      "Processing Sheboygan...\n",
      "Data shape for Sheboygan: (207, 7)\n"
     ]
    },
    {
     "name": "stderr",
     "output_type": "stream",
     "text": [
      "20:04:43 - cmdstanpy - INFO - Chain [1] start processing\n",
      "20:04:43 - cmdstanpy - INFO - Chain [1] done processing\n",
      "20:04:43 - cmdstanpy - INFO - Chain [1] start processing\n",
      "20:04:43 - cmdstanpy - INFO - Chain [1] done processing\n"
     ]
    },
    {
     "name": "stdout",
     "output_type": "stream",
     "text": [
      "Model and forecast saved for Sheboygan\n",
      "--------------------------------------------------\n",
      "Processing Pinehurst...\n",
      "Data shape for Pinehurst: (207, 7)\n",
      "Model and forecast saved for Pinehurst\n",
      "--------------------------------------------------\n",
      "Processing Jefferson City...\n",
      "Data shape for Jefferson City: (206, 7)\n"
     ]
    },
    {
     "name": "stderr",
     "output_type": "stream",
     "text": [
      "20:04:43 - cmdstanpy - INFO - Chain [1] start processing\n",
      "20:04:43 - cmdstanpy - INFO - Chain [1] done processing\n",
      "20:04:43 - cmdstanpy - INFO - Chain [1] start processing\n"
     ]
    },
    {
     "name": "stdout",
     "output_type": "stream",
     "text": [
      "Model and forecast saved for Jefferson City\n",
      "--------------------------------------------------\n",
      "Processing Carbondale...\n",
      "Data shape for Carbondale: (205, 7)\n",
      "Model and forecast saved for Carbondale\n",
      "--------------------------------------------------\n",
      "Processing Brainerd...\n",
      "Data shape for Brainerd: (205, 7)\n"
     ]
    },
    {
     "name": "stderr",
     "output_type": "stream",
     "text": [
      "20:04:43 - cmdstanpy - INFO - Chain [1] done processing\n",
      "20:04:43 - cmdstanpy - INFO - Chain [1] start processing\n",
      "20:04:43 - cmdstanpy - INFO - Chain [1] done processing\n",
      "20:04:43 - cmdstanpy - INFO - Chain [1] start processing\n",
      "20:04:43 - cmdstanpy - INFO - Chain [1] done processing\n"
     ]
    },
    {
     "name": "stdout",
     "output_type": "stream",
     "text": [
      "Model and forecast saved for Brainerd\n",
      "--------------------------------------------------\n",
      "Processing Rapid City...\n",
      "Data shape for Rapid City: (204, 7)\n",
      "Model and forecast saved for Rapid City\n",
      "--------------------------------------------------\n",
      "Processing Weirton...\n",
      "Data shape for Weirton: (204, 7)\n"
     ]
    },
    {
     "name": "stderr",
     "output_type": "stream",
     "text": [
      "20:04:43 - cmdstanpy - INFO - Chain [1] start processing\n",
      "20:04:44 - cmdstanpy - INFO - Chain [1] done processing\n",
      "20:04:44 - cmdstanpy - INFO - Chain [1] start processing\n",
      "20:04:44 - cmdstanpy - INFO - Chain [1] done processing\n"
     ]
    },
    {
     "name": "stdout",
     "output_type": "stream",
     "text": [
      "Model and forecast saved for Weirton\n",
      "--------------------------------------------------\n",
      "Processing Sumter...\n",
      "Data shape for Sumter: (203, 7)\n",
      "Model and forecast saved for Sumter\n",
      "--------------------------------------------------\n",
      "Processing Cadillac...\n",
      "Data shape for Cadillac: (200, 7)\n"
     ]
    },
    {
     "name": "stderr",
     "output_type": "stream",
     "text": [
      "20:04:44 - cmdstanpy - INFO - Chain [1] start processing\n",
      "20:04:44 - cmdstanpy - INFO - Chain [1] done processing\n",
      "20:04:44 - cmdstanpy - INFO - Chain [1] start processing\n",
      "20:04:44 - cmdstanpy - INFO - Chain [1] done processing\n"
     ]
    },
    {
     "name": "stdout",
     "output_type": "stream",
     "text": [
      "Model and forecast saved for Cadillac\n",
      "--------------------------------------------------\n",
      "Processing Racine...\n",
      "Data shape for Racine: (202, 7)\n",
      "Model and forecast saved for Racine\n",
      "--------------------------------------------------\n",
      "Processing Centralia...\n",
      "Data shape for Centralia: (314, 7)\n"
     ]
    },
    {
     "name": "stderr",
     "output_type": "stream",
     "text": [
      "20:04:44 - cmdstanpy - INFO - Chain [1] start processing\n",
      "20:04:44 - cmdstanpy - INFO - Chain [1] done processing\n",
      "20:04:44 - cmdstanpy - INFO - Chain [1] start processing\n",
      "20:04:44 - cmdstanpy - INFO - Chain [1] done processing\n"
     ]
    },
    {
     "name": "stdout",
     "output_type": "stream",
     "text": [
      "Model and forecast saved for Centralia\n",
      "--------------------------------------------------\n",
      "Processing Seymour...\n",
      "Data shape for Seymour: (201, 7)\n",
      "Model and forecast saved for Seymour\n",
      "--------------------------------------------------\n",
      "Processing Killeen...\n",
      "Data shape for Killeen: (200, 7)\n"
     ]
    },
    {
     "name": "stderr",
     "output_type": "stream",
     "text": [
      "20:04:44 - cmdstanpy - INFO - Chain [1] start processing\n",
      "20:04:44 - cmdstanpy - INFO - Chain [1] done processing\n",
      "20:04:44 - cmdstanpy - INFO - Chain [1] start processing\n",
      "20:04:44 - cmdstanpy - INFO - Chain [1] done processing\n"
     ]
    },
    {
     "name": "stdout",
     "output_type": "stream",
     "text": [
      "Model and forecast saved for Killeen\n",
      "--------------------------------------------------\n",
      "Processing Angola...\n",
      "Data shape for Angola: (200, 7)\n",
      "Model and forecast saved for Angola\n",
      "--------------------------------------------------\n",
      "Processing Fond du Lac...\n",
      "Data shape for Fond du Lac: (199, 7)\n"
     ]
    },
    {
     "name": "stderr",
     "output_type": "stream",
     "text": [
      "20:04:44 - cmdstanpy - INFO - Chain [1] start processing\n",
      "20:04:44 - cmdstanpy - INFO - Chain [1] done processing\n",
      "20:04:45 - cmdstanpy - INFO - Chain [1] start processing\n",
      "20:04:45 - cmdstanpy - INFO - Chain [1] done processing\n"
     ]
    },
    {
     "name": "stdout",
     "output_type": "stream",
     "text": [
      "Model and forecast saved for Fond du Lac\n",
      "--------------------------------------------------\n",
      "Processing Cornelia...\n",
      "Data shape for Cornelia: (199, 7)\n",
      "Model and forecast saved for Cornelia\n",
      "--------------------------------------------------\n",
      "Processing St. George...\n",
      "Data shape for St. George: (198, 7)\n"
     ]
    },
    {
     "name": "stderr",
     "output_type": "stream",
     "text": [
      "20:04:45 - cmdstanpy - INFO - Chain [1] start processing\n",
      "20:04:45 - cmdstanpy - INFO - Chain [1] done processing\n",
      "20:04:45 - cmdstanpy - INFO - Chain [1] start processing\n",
      "20:04:45 - cmdstanpy - INFO - Chain [1] done processing\n"
     ]
    },
    {
     "name": "stdout",
     "output_type": "stream",
     "text": [
      "Model and forecast saved for St. George\n",
      "--------------------------------------------------\n",
      "Processing Manhattan...\n",
      "Data shape for Manhattan: (198, 7)\n",
      "Model and forecast saved for Manhattan\n",
      "--------------------------------------------------\n",
      "Processing Statesboro...\n",
      "Data shape for Statesboro: (198, 7)\n"
     ]
    },
    {
     "name": "stderr",
     "output_type": "stream",
     "text": [
      "20:04:45 - cmdstanpy - INFO - Chain [1] start processing\n",
      "20:04:45 - cmdstanpy - INFO - Chain [1] done processing\n",
      "20:04:45 - cmdstanpy - INFO - Chain [1] start processing\n"
     ]
    },
    {
     "name": "stdout",
     "output_type": "stream",
     "text": [
      "Model and forecast saved for Statesboro\n",
      "--------------------------------------------------\n",
      "Processing Calhoun...\n",
      "Data shape for Calhoun: (198, 7)\n",
      "Model and forecast saved for Calhoun\n",
      "--------------------------------------------------\n",
      "Processing Milledgeville...\n",
      "Data shape for Milledgeville: (198, 7)\n"
     ]
    },
    {
     "name": "stderr",
     "output_type": "stream",
     "text": [
      "20:04:45 - cmdstanpy - INFO - Chain [1] done processing\n",
      "20:04:45 - cmdstanpy - INFO - Chain [1] start processing\n",
      "20:04:45 - cmdstanpy - INFO - Chain [1] done processing\n",
      "20:04:45 - cmdstanpy - INFO - Chain [1] start processing\n",
      "20:04:45 - cmdstanpy - INFO - Chain [1] done processing\n"
     ]
    },
    {
     "name": "stdout",
     "output_type": "stream",
     "text": [
      "Model and forecast saved for Milledgeville\n",
      "--------------------------------------------------\n",
      "Processing Waco...\n",
      "Data shape for Waco: (197, 7)\n",
      "Model and forecast saved for Waco\n",
      "--------------------------------------------------\n",
      "Processing Amarillo...\n",
      "Data shape for Amarillo: (197, 7)\n"
     ]
    },
    {
     "name": "stderr",
     "output_type": "stream",
     "text": [
      "20:04:45 - cmdstanpy - INFO - Chain [1] start processing\n",
      "20:04:45 - cmdstanpy - INFO - Chain [1] done processing\n",
      "20:04:46 - cmdstanpy - INFO - Chain [1] start processing\n",
      "20:04:46 - cmdstanpy - INFO - Chain [1] done processing\n"
     ]
    },
    {
     "name": "stdout",
     "output_type": "stream",
     "text": [
      "Model and forecast saved for Amarillo\n",
      "--------------------------------------------------\n",
      "Processing Laredo...\n",
      "Data shape for Laredo: (197, 7)\n",
      "Model and forecast saved for Laredo\n",
      "--------------------------------------------------\n",
      "Processing College Station...\n",
      "Data shape for College Station: (197, 7)\n"
     ]
    },
    {
     "name": "stderr",
     "output_type": "stream",
     "text": [
      "20:04:46 - cmdstanpy - INFO - Chain [1] start processing\n",
      "20:04:46 - cmdstanpy - INFO - Chain [1] done processing\n",
      "20:04:46 - cmdstanpy - INFO - Chain [1] start processing\n",
      "20:04:46 - cmdstanpy - INFO - Chain [1] done processing\n"
     ]
    },
    {
     "name": "stdout",
     "output_type": "stream",
     "text": [
      "Model and forecast saved for College Station\n",
      "--------------------------------------------------\n",
      "Processing Fargo...\n",
      "Data shape for Fargo: (197, 7)\n",
      "Model and forecast saved for Fargo\n",
      "--------------------------------------------------\n",
      "Processing Tyler...\n",
      "Data shape for Tyler: (197, 7)\n"
     ]
    },
    {
     "name": "stderr",
     "output_type": "stream",
     "text": [
      "20:04:46 - cmdstanpy - INFO - Chain [1] start processing\n",
      "20:04:46 - cmdstanpy - INFO - Chain [1] done processing\n",
      "20:04:46 - cmdstanpy - INFO - Chain [1] start processing\n"
     ]
    },
    {
     "name": "stdout",
     "output_type": "stream",
     "text": [
      "Model and forecast saved for Tyler\n",
      "--------------------------------------------------\n",
      "Processing Houma...\n",
      "Data shape for Houma: (197, 7)\n",
      "Model and forecast saved for Houma\n",
      "--------------------------------------------------\n",
      "Processing Terre Haute...\n",
      "Data shape for Terre Haute: (197, 7)\n"
     ]
    },
    {
     "name": "stderr",
     "output_type": "stream",
     "text": [
      "20:04:46 - cmdstanpy - INFO - Chain [1] done processing\n",
      "20:04:46 - cmdstanpy - INFO - Chain [1] start processing\n",
      "20:04:46 - cmdstanpy - INFO - Chain [1] done processing\n",
      "20:04:46 - cmdstanpy - INFO - Chain [1] start processing\n"
     ]
    },
    {
     "name": "stdout",
     "output_type": "stream",
     "text": [
      "Model and forecast saved for Terre Haute\n",
      "--------------------------------------------------\n",
      "Processing Billings...\n",
      "Data shape for Billings: (197, 7)\n",
      "Model and forecast saved for Billings\n",
      "--------------------------------------------------\n",
      "Processing Abilene...\n",
      "Data shape for Abilene: (197, 7)\n"
     ]
    },
    {
     "name": "stderr",
     "output_type": "stream",
     "text": [
      "20:04:46 - cmdstanpy - INFO - Chain [1] done processing\n",
      "20:04:46 - cmdstanpy - INFO - Chain [1] start processing\n",
      "20:04:46 - cmdstanpy - INFO - Chain [1] done processing\n",
      "20:04:47 - cmdstanpy - INFO - Chain [1] start processing\n"
     ]
    },
    {
     "name": "stdout",
     "output_type": "stream",
     "text": [
      "Model and forecast saved for Abilene\n",
      "--------------------------------------------------\n",
      "Processing Iowa City...\n",
      "Data shape for Iowa City: (197, 7)\n",
      "Model and forecast saved for Iowa City\n",
      "--------------------------------------------------\n",
      "Processing Oshkosh...\n",
      "Data shape for Oshkosh: (197, 7)\n"
     ]
    },
    {
     "name": "stderr",
     "output_type": "stream",
     "text": [
      "20:04:47 - cmdstanpy - INFO - Chain [1] done processing\n",
      "20:04:47 - cmdstanpy - INFO - Chain [1] start processing\n",
      "20:04:47 - cmdstanpy - INFO - Chain [1] done processing\n",
      "20:04:47 - cmdstanpy - INFO - Chain [1] start processing\n"
     ]
    },
    {
     "name": "stdout",
     "output_type": "stream",
     "text": [
      "Model and forecast saved for Oshkosh\n",
      "--------------------------------------------------\n",
      "Processing Eau Claire...\n",
      "Data shape for Eau Claire: (197, 7)\n",
      "Model and forecast saved for Eau Claire\n",
      "--------------------------------------------------\n",
      "Processing Wausau...\n",
      "Data shape for Wausau: (197, 7)\n"
     ]
    },
    {
     "name": "stderr",
     "output_type": "stream",
     "text": [
      "20:04:47 - cmdstanpy - INFO - Chain [1] done processing\n",
      "20:04:47 - cmdstanpy - INFO - Chain [1] start processing\n",
      "20:04:47 - cmdstanpy - INFO - Chain [1] done processing\n"
     ]
    },
    {
     "name": "stdout",
     "output_type": "stream",
     "text": [
      "Model and forecast saved for Wausau\n",
      "--------------------------------------------------\n",
      "Processing Odessa...\n",
      "Data shape for Odessa: (197, 7)\n",
      "Model and forecast saved for Odessa\n",
      "--------------------------------------------------\n",
      "Processing Wichita Falls...\n",
      "Data shape for Wichita Falls: (197, 7)\n"
     ]
    },
    {
     "name": "stderr",
     "output_type": "stream",
     "text": [
      "20:04:47 - cmdstanpy - INFO - Chain [1] start processing\n",
      "20:04:47 - cmdstanpy - INFO - Chain [1] done processing\n",
      "20:04:47 - cmdstanpy - INFO - Chain [1] start processing\n",
      "20:04:47 - cmdstanpy - INFO - Chain [1] done processing\n",
      "20:04:47 - cmdstanpy - INFO - Chain [1] start processing\n",
      "20:04:47 - cmdstanpy - INFO - Chain [1] done processing\n"
     ]
    },
    {
     "name": "stdout",
     "output_type": "stream",
     "text": [
      "Model and forecast saved for Wichita Falls\n",
      "--------------------------------------------------\n",
      "Processing Pottsville...\n",
      "Data shape for Pottsville: (197, 7)\n",
      "Model and forecast saved for Pottsville\n",
      "--------------------------------------------------\n",
      "Processing Bismarck...\n",
      "Data shape for Bismarck: (197, 7)\n"
     ]
    },
    {
     "name": "stderr",
     "output_type": "stream",
     "text": [
      "20:04:48 - cmdstanpy - INFO - Chain [1] start processing\n",
      "20:04:48 - cmdstanpy - INFO - Chain [1] done processing\n",
      "20:04:48 - cmdstanpy - INFO - Chain [1] start processing\n",
      "20:04:48 - cmdstanpy - INFO - Chain [1] done processing\n"
     ]
    },
    {
     "name": "stdout",
     "output_type": "stream",
     "text": [
      "Model and forecast saved for Bismarck\n",
      "--------------------------------------------------\n",
      "Processing Bozeman...\n",
      "Data shape for Bozeman: (197, 7)\n",
      "Model and forecast saved for Bozeman\n",
      "--------------------------------------------------\n",
      "Processing Kankakee...\n",
      "Data shape for Kankakee: (194, 7)\n"
     ]
    },
    {
     "name": "stderr",
     "output_type": "stream",
     "text": [
      "20:04:48 - cmdstanpy - INFO - Chain [1] start processing\n",
      "20:04:48 - cmdstanpy - INFO - Chain [1] done processing\n",
      "20:04:48 - cmdstanpy - INFO - Chain [1] start processing\n",
      "20:04:48 - cmdstanpy - INFO - Chain [1] done processing\n"
     ]
    },
    {
     "name": "stdout",
     "output_type": "stream",
     "text": [
      "Model and forecast saved for Kankakee\n",
      "--------------------------------------------------\n",
      "Processing Moses Lake...\n",
      "Data shape for Moses Lake: (197, 7)\n",
      "Model and forecast saved for Moses Lake\n",
      "--------------------------------------------------\n",
      "Processing Albertville...\n",
      "Data shape for Albertville: (197, 7)\n"
     ]
    },
    {
     "name": "stderr",
     "output_type": "stream",
     "text": [
      "20:04:48 - cmdstanpy - INFO - Chain [1] start processing\n",
      "20:04:48 - cmdstanpy - INFO - Chain [1] done processing\n",
      "20:04:48 - cmdstanpy - INFO - Chain [1] start processing\n",
      "20:04:48 - cmdstanpy - INFO - Chain [1] done processing\n"
     ]
    },
    {
     "name": "stdout",
     "output_type": "stream",
     "text": [
      "Model and forecast saved for Albertville\n",
      "--------------------------------------------------\n",
      "Processing Pocatello...\n",
      "Data shape for Pocatello: (197, 7)\n",
      "Model and forecast saved for Pocatello\n",
      "--------------------------------------------------\n",
      "Processing Sunbury...\n",
      "Data shape for Sunbury: (197, 7)\n"
     ]
    },
    {
     "name": "stderr",
     "output_type": "stream",
     "text": [
      "20:04:48 - cmdstanpy - INFO - Chain [1] start processing\n",
      "20:04:48 - cmdstanpy - INFO - Chain [1] done processing\n",
      "20:04:48 - cmdstanpy - INFO - Chain [1] start processing\n",
      "20:04:48 - cmdstanpy - INFO - Chain [1] done processing\n"
     ]
    },
    {
     "name": "stdout",
     "output_type": "stream",
     "text": [
      "Model and forecast saved for Sunbury\n",
      "--------------------------------------------------\n",
      "Processing Hermiston...\n",
      "Data shape for Hermiston: (197, 7)\n",
      "Model and forecast saved for Hermiston\n",
      "--------------------------------------------------\n",
      "Processing Kokomo...\n",
      "Data shape for Kokomo: (197, 7)\n"
     ]
    },
    {
     "name": "stderr",
     "output_type": "stream",
     "text": [
      "20:04:48 - cmdstanpy - INFO - Chain [1] start processing\n",
      "20:04:49 - cmdstanpy - INFO - Chain [1] done processing\n",
      "20:04:49 - cmdstanpy - INFO - Chain [1] start processing\n",
      "20:04:49 - cmdstanpy - INFO - Chain [1] done processing\n"
     ]
    },
    {
     "name": "stdout",
     "output_type": "stream",
     "text": [
      "Model and forecast saved for Kokomo\n",
      "--------------------------------------------------\n",
      "Processing Opelousas...\n",
      "Data shape for Opelousas: (197, 7)\n",
      "Model and forecast saved for Opelousas\n",
      "--------------------------------------------------\n",
      "Processing Wilson...\n",
      "Data shape for Wilson: (197, 7)\n"
     ]
    },
    {
     "name": "stderr",
     "output_type": "stream",
     "text": [
      "20:04:49 - cmdstanpy - INFO - Chain [1] start processing\n",
      "20:04:49 - cmdstanpy - INFO - Chain [1] done processing\n",
      "20:04:49 - cmdstanpy - INFO - Chain [1] start processing\n",
      "20:04:49 - cmdstanpy - INFO - Chain [1] done processing\n"
     ]
    },
    {
     "name": "stdout",
     "output_type": "stream",
     "text": [
      "Model and forecast saved for Wilson\n",
      "--------------------------------------------------\n",
      "Processing Quincy...\n",
      "Data shape for Quincy: (197, 7)\n",
      "Model and forecast saved for Quincy\n",
      "--------------------------------------------------\n",
      "Processing Aberdeen...\n",
      "Data shape for Aberdeen: (392, 7)\n"
     ]
    },
    {
     "name": "stderr",
     "output_type": "stream",
     "text": [
      "20:04:49 - cmdstanpy - INFO - Chain [1] start processing\n",
      "20:04:49 - cmdstanpy - INFO - Chain [1] done processing\n",
      "20:04:49 - cmdstanpy - INFO - Chain [1] start processing\n",
      "20:04:49 - cmdstanpy - INFO - Chain [1] done processing\n"
     ]
    },
    {
     "name": "stdout",
     "output_type": "stream",
     "text": [
      "Model and forecast saved for Aberdeen\n",
      "--------------------------------------------------\n",
      "Processing Wisconsin Rapids...\n",
      "Data shape for Wisconsin Rapids: (197, 7)\n",
      "Model and forecast saved for Wisconsin Rapids\n",
      "--------------------------------------------------\n",
      "Processing Mount Airy...\n",
      "Data shape for Mount Airy: (197, 7)\n"
     ]
    },
    {
     "name": "stderr",
     "output_type": "stream",
     "text": [
      "20:04:49 - cmdstanpy - INFO - Chain [1] start processing\n",
      "20:04:49 - cmdstanpy - INFO - Chain [1] done processing\n",
      "20:04:49 - cmdstanpy - INFO - Chain [1] start processing\n",
      "20:04:49 - cmdstanpy - INFO - Chain [1] done processing\n"
     ]
    },
    {
     "name": "stdout",
     "output_type": "stream",
     "text": [
      "Model and forecast saved for Mount Airy\n",
      "--------------------------------------------------\n",
      "Processing Baraboo...\n",
      "Data shape for Baraboo: (197, 7)\n",
      "Model and forecast saved for Baraboo\n",
      "--------------------------------------------------\n",
      "Processing Roswell...\n",
      "Data shape for Roswell: (197, 7)\n"
     ]
    },
    {
     "name": "stderr",
     "output_type": "stream",
     "text": [
      "20:04:49 - cmdstanpy - INFO - Chain [1] start processing\n",
      "20:04:49 - cmdstanpy - INFO - Chain [1] done processing\n",
      "20:04:50 - cmdstanpy - INFO - Chain [1] start processing\n",
      "20:04:50 - cmdstanpy - INFO - Chain [1] done processing\n"
     ]
    },
    {
     "name": "stdout",
     "output_type": "stream",
     "text": [
      "Model and forecast saved for Roswell\n",
      "--------------------------------------------------\n",
      "Processing Sayre...\n",
      "Data shape for Sayre: (197, 7)\n",
      "Model and forecast saved for Sayre\n",
      "--------------------------------------------------\n",
      "Processing Cullowhee...\n",
      "Data shape for Cullowhee: (197, 7)\n"
     ]
    },
    {
     "name": "stderr",
     "output_type": "stream",
     "text": [
      "20:04:50 - cmdstanpy - INFO - Chain [1] start processing\n",
      "20:04:50 - cmdstanpy - INFO - Chain [1] done processing\n",
      "20:04:50 - cmdstanpy - INFO - Chain [1] start processing\n",
      "20:04:50 - cmdstanpy - INFO - Chain [1] done processing\n"
     ]
    },
    {
     "name": "stdout",
     "output_type": "stream",
     "text": [
      "Model and forecast saved for Cullowhee\n",
      "--------------------------------------------------\n",
      "Processing Gaffney...\n",
      "Data shape for Gaffney: (197, 7)\n",
      "Model and forecast saved for Gaffney\n",
      "--------------------------------------------------\n",
      "Processing Cedar City...\n",
      "Data shape for Cedar City: (195, 7)\n"
     ]
    },
    {
     "name": "stderr",
     "output_type": "stream",
     "text": [
      "20:04:50 - cmdstanpy - INFO - Chain [1] start processing\n",
      "20:04:50 - cmdstanpy - INFO - Chain [1] done processing\n",
      "20:04:50 - cmdstanpy - INFO - Chain [1] start processing\n",
      "20:04:50 - cmdstanpy - INFO - Chain [1] done processing\n"
     ]
    },
    {
     "name": "stdout",
     "output_type": "stream",
     "text": [
      "Model and forecast saved for Cedar City\n",
      "--------------------------------------------------\n",
      "Processing Durango...\n",
      "Data shape for Durango: (197, 7)\n",
      "Model and forecast saved for Durango\n",
      "--------------------------------------------------\n",
      "Processing Elko...\n",
      "Data shape for Elko: (197, 7)\n"
     ]
    },
    {
     "name": "stderr",
     "output_type": "stream",
     "text": [
      "20:04:50 - cmdstanpy - INFO - Chain [1] start processing\n",
      "20:04:50 - cmdstanpy - INFO - Chain [1] done processing\n",
      "20:04:50 - cmdstanpy - INFO - Chain [1] start processing\n"
     ]
    },
    {
     "name": "stdout",
     "output_type": "stream",
     "text": [
      "Model and forecast saved for Elko\n",
      "--------------------------------------------------\n",
      "Processing Warrensburg...\n",
      "Data shape for Warrensburg: (197, 7)\n",
      "Model and forecast saved for Warrensburg\n",
      "--------------------------------------------------\n",
      "Processing Rochelle...\n",
      "Data shape for Rochelle: (197, 7)\n"
     ]
    },
    {
     "name": "stderr",
     "output_type": "stream",
     "text": [
      "20:04:50 - cmdstanpy - INFO - Chain [1] done processing\n",
      "20:04:50 - cmdstanpy - INFO - Chain [1] start processing\n",
      "20:04:51 - cmdstanpy - INFO - Chain [1] done processing\n",
      "20:04:51 - cmdstanpy - INFO - Chain [1] start processing\n",
      "20:04:51 - cmdstanpy - INFO - Chain [1] done processing\n"
     ]
    },
    {
     "name": "stdout",
     "output_type": "stream",
     "text": [
      "Model and forecast saved for Rochelle\n",
      "--------------------------------------------------\n",
      "Processing Galesburg...\n",
      "Data shape for Galesburg: (197, 7)\n",
      "Model and forecast saved for Galesburg\n",
      "--------------------------------------------------\n",
      "Processing Pahrump...\n",
      "Data shape for Pahrump: (197, 7)\n"
     ]
    },
    {
     "name": "stderr",
     "output_type": "stream",
     "text": [
      "20:04:51 - cmdstanpy - INFO - Chain [1] start processing\n",
      "20:04:51 - cmdstanpy - INFO - Chain [1] done processing\n",
      "20:04:51 - cmdstanpy - INFO - Chain [1] start processing\n",
      "20:04:51 - cmdstanpy - INFO - Chain [1] done processing\n"
     ]
    },
    {
     "name": "stdout",
     "output_type": "stream",
     "text": [
      "Model and forecast saved for Pahrump\n",
      "--------------------------------------------------\n",
      "Processing Menomonie...\n",
      "Data shape for Menomonie: (197, 7)\n",
      "Model and forecast saved for Menomonie\n",
      "--------------------------------------------------\n",
      "Processing Ellensburg...\n",
      "Data shape for Ellensburg: (197, 7)\n"
     ]
    },
    {
     "name": "stderr",
     "output_type": "stream",
     "text": [
      "20:04:51 - cmdstanpy - INFO - Chain [1] start processing\n",
      "20:04:51 - cmdstanpy - INFO - Chain [1] done processing\n",
      "20:04:51 - cmdstanpy - INFO - Chain [1] start processing\n",
      "20:04:51 - cmdstanpy - INFO - Chain [1] done processing\n"
     ]
    },
    {
     "name": "stdout",
     "output_type": "stream",
     "text": [
      "Model and forecast saved for Ellensburg\n",
      "--------------------------------------------------\n",
      "Processing Muscatine...\n",
      "Data shape for Muscatine: (197, 7)\n",
      "Model and forecast saved for Muscatine\n",
      "--------------------------------------------------\n",
      "Processing Owatonna...\n",
      "Data shape for Owatonna: (197, 7)\n"
     ]
    },
    {
     "name": "stderr",
     "output_type": "stream",
     "text": [
      "20:04:51 - cmdstanpy - INFO - Chain [1] start processing\n",
      "20:04:51 - cmdstanpy - INFO - Chain [1] done processing\n",
      "20:04:51 - cmdstanpy - INFO - Chain [1] start processing\n",
      "20:04:51 - cmdstanpy - INFO - Chain [1] done processing\n"
     ]
    },
    {
     "name": "stdout",
     "output_type": "stream",
     "text": [
      "Model and forecast saved for Owatonna\n",
      "--------------------------------------------------\n",
      "Processing Taylorville...\n",
      "Data shape for Taylorville: (197, 7)\n",
      "Model and forecast saved for Taylorville\n",
      "--------------------------------------------------\n",
      "Processing Muncie...\n",
      "Data shape for Muncie: (196, 7)\n"
     ]
    },
    {
     "name": "stderr",
     "output_type": "stream",
     "text": [
      "20:04:51 - cmdstanpy - INFO - Chain [1] start processing\n",
      "20:04:52 - cmdstanpy - INFO - Chain [1] done processing\n",
      "20:04:52 - cmdstanpy - INFO - Chain [1] start processing\n",
      "20:04:52 - cmdstanpy - INFO - Chain [1] done processing\n"
     ]
    },
    {
     "name": "stdout",
     "output_type": "stream",
     "text": [
      "Model and forecast saved for Muncie\n",
      "--------------------------------------------------\n",
      "Processing Michigan City...\n",
      "Data shape for Michigan City: (196, 7)\n",
      "Model and forecast saved for Michigan City\n",
      "--------------------------------------------------\n",
      "Processing Dubuque...\n",
      "Data shape for Dubuque: (196, 7)\n"
     ]
    },
    {
     "name": "stderr",
     "output_type": "stream",
     "text": [
      "20:04:52 - cmdstanpy - INFO - Chain [1] start processing\n",
      "20:04:52 - cmdstanpy - INFO - Chain [1] done processing\n",
      "20:04:52 - cmdstanpy - INFO - Chain [1] start processing\n",
      "20:04:52 - cmdstanpy - INFO - Chain [1] done processing\n"
     ]
    },
    {
     "name": "stdout",
     "output_type": "stream",
     "text": [
      "Model and forecast saved for Dubuque\n",
      "--------------------------------------------------\n",
      "Processing Cape Girardeau...\n",
      "Data shape for Cape Girardeau: (194, 7)\n",
      "Model and forecast saved for Cape Girardeau\n",
      "--------------------------------------------------\n",
      "Processing Indiana...\n",
      "Data shape for Indiana: (196, 7)\n"
     ]
    },
    {
     "name": "stderr",
     "output_type": "stream",
     "text": [
      "20:04:52 - cmdstanpy - INFO - Chain [1] start processing\n",
      "20:04:52 - cmdstanpy - INFO - Chain [1] done processing\n",
      "20:04:52 - cmdstanpy - INFO - Chain [1] start processing\n",
      "20:04:52 - cmdstanpy - INFO - Chain [1] done processing\n"
     ]
    },
    {
     "name": "stdout",
     "output_type": "stream",
     "text": [
      "Model and forecast saved for Indiana\n",
      "--------------------------------------------------\n",
      "Processing Helena...\n",
      "Data shape for Helena: (342, 7)\n",
      "Model and forecast saved for Helena\n",
      "--------------------------------------------------\n",
      "Processing Heber...\n",
      "Data shape for Heber: (196, 7)\n"
     ]
    },
    {
     "name": "stderr",
     "output_type": "stream",
     "text": [
      "20:04:52 - cmdstanpy - INFO - Chain [1] start processing\n",
      "20:04:52 - cmdstanpy - INFO - Chain [1] done processing\n",
      "20:04:52 - cmdstanpy - INFO - Chain [1] start processing\n",
      "20:04:52 - cmdstanpy - INFO - Chain [1] done processing\n"
     ]
    },
    {
     "name": "stdout",
     "output_type": "stream",
     "text": [
      "Model and forecast saved for Heber\n",
      "--------------------------------------------------\n",
      "Processing Nacogdoches...\n",
      "Data shape for Nacogdoches: (196, 7)\n",
      "Model and forecast saved for Nacogdoches\n",
      "--------------------------------------------------\n",
      "Processing Gillette...\n",
      "Data shape for Gillette: (196, 7)\n"
     ]
    },
    {
     "name": "stderr",
     "output_type": "stream",
     "text": [
      "20:04:52 - cmdstanpy - INFO - Chain [1] start processing\n",
      "20:04:52 - cmdstanpy - INFO - Chain [1] done processing\n",
      "20:04:53 - cmdstanpy - INFO - Chain [1] start processing\n",
      "20:04:53 - cmdstanpy - INFO - Chain [1] done processing\n"
     ]
    },
    {
     "name": "stdout",
     "output_type": "stream",
     "text": [
      "Model and forecast saved for Gillette\n",
      "--------------------------------------------------\n",
      "Processing Fort Madison...\n",
      "Data shape for Fort Madison: (196, 7)\n",
      "Model and forecast saved for Fort Madison\n",
      "--------------------------------------------------\n",
      "Processing Eagle Pass...\n",
      "Data shape for Eagle Pass: (196, 7)\n"
     ]
    },
    {
     "name": "stderr",
     "output_type": "stream",
     "text": [
      "20:04:53 - cmdstanpy - INFO - Chain [1] start processing\n",
      "20:04:53 - cmdstanpy - INFO - Chain [1] done processing\n",
      "20:04:53 - cmdstanpy - INFO - Chain [1] start processing\n",
      "20:04:53 - cmdstanpy - INFO - Chain [1] done processing\n"
     ]
    },
    {
     "name": "stdout",
     "output_type": "stream",
     "text": [
      "Model and forecast saved for Eagle Pass\n",
      "--------------------------------------------------\n",
      "Processing Branson...\n",
      "Data shape for Branson: (196, 7)\n",
      "Model and forecast saved for Branson\n",
      "--------------------------------------------------\n",
      "Processing Mason City...\n",
      "Data shape for Mason City: (196, 7)\n"
     ]
    },
    {
     "name": "stderr",
     "output_type": "stream",
     "text": [
      "20:04:53 - cmdstanpy - INFO - Chain [1] start processing\n",
      "20:04:53 - cmdstanpy - INFO - Chain [1] done processing\n",
      "20:04:53 - cmdstanpy - INFO - Chain [1] start processing\n",
      "20:04:53 - cmdstanpy - INFO - Chain [1] done processing\n"
     ]
    },
    {
     "name": "stdout",
     "output_type": "stream",
     "text": [
      "Model and forecast saved for Mason City\n",
      "--------------------------------------------------\n",
      "Processing Del Rio...\n",
      "Data shape for Del Rio: (196, 7)\n",
      "Model and forecast saved for Del Rio\n",
      "--------------------------------------------------\n",
      "Processing Sandpoint...\n",
      "Data shape for Sandpoint: (195, 7)\n"
     ]
    },
    {
     "name": "stderr",
     "output_type": "stream",
     "text": [
      "20:04:53 - cmdstanpy - INFO - Chain [1] start processing\n",
      "20:04:53 - cmdstanpy - INFO - Chain [1] done processing\n",
      "20:04:53 - cmdstanpy - INFO - Chain [1] start processing\n"
     ]
    },
    {
     "name": "stdout",
     "output_type": "stream",
     "text": [
      "Model and forecast saved for Sandpoint\n",
      "--------------------------------------------------\n",
      "Processing Bemidji...\n",
      "Data shape for Bemidji: (196, 7)\n",
      "Model and forecast saved for Bemidji\n",
      "--------------------------------------------------\n",
      "Processing Shawano...\n",
      "Data shape for Shawano: (196, 7)\n"
     ]
    },
    {
     "name": "stderr",
     "output_type": "stream",
     "text": [
      "20:04:53 - cmdstanpy - INFO - Chain [1] done processing\n",
      "20:04:53 - cmdstanpy - INFO - Chain [1] start processing\n",
      "20:04:53 - cmdstanpy - INFO - Chain [1] done processing\n",
      "20:04:54 - cmdstanpy - INFO - Chain [1] start processing\n"
     ]
    },
    {
     "name": "stdout",
     "output_type": "stream",
     "text": [
      "Model and forecast saved for Shawano\n",
      "--------------------------------------------------\n",
      "Processing Stephenville...\n",
      "Data shape for Stephenville: (196, 7)\n",
      "Model and forecast saved for Stephenville\n",
      "--------------------------------------------------\n",
      "Processing Marshalltown...\n",
      "Data shape for Marshalltown: (196, 7)\n"
     ]
    },
    {
     "name": "stderr",
     "output_type": "stream",
     "text": [
      "20:04:54 - cmdstanpy - INFO - Chain [1] done processing\n",
      "20:04:54 - cmdstanpy - INFO - Chain [1] start processing\n",
      "20:04:54 - cmdstanpy - INFO - Chain [1] done processing\n",
      "20:04:54 - cmdstanpy - INFO - Chain [1] start processing\n",
      "20:04:54 - cmdstanpy - INFO - Chain [1] done processing\n"
     ]
    },
    {
     "name": "stdout",
     "output_type": "stream",
     "text": [
      "Model and forecast saved for Marshalltown\n",
      "--------------------------------------------------\n",
      "Processing West Plains...\n",
      "Data shape for West Plains: (192, 7)\n",
      "Model and forecast saved for West Plains\n",
      "--------------------------------------------------\n",
      "Processing Pittsburg...\n",
      "Data shape for Pittsburg: (196, 7)\n"
     ]
    },
    {
     "name": "stderr",
     "output_type": "stream",
     "text": [
      "20:04:54 - cmdstanpy - INFO - Chain [1] start processing\n",
      "20:04:54 - cmdstanpy - INFO - Chain [1] done processing\n",
      "20:04:54 - cmdstanpy - INFO - Chain [1] start processing\n"
     ]
    },
    {
     "name": "stdout",
     "output_type": "stream",
     "text": [
      "Model and forecast saved for Pittsburg\n",
      "--------------------------------------------------\n",
      "Processing Brownwood...\n",
      "Data shape for Brownwood: (196, 7)\n",
      "Model and forecast saved for Brownwood\n",
      "--------------------------------------------------\n",
      "Processing Lock Haven...\n",
      "Data shape for Lock Haven: (196, 7)\n"
     ]
    },
    {
     "name": "stderr",
     "output_type": "stream",
     "text": [
      "20:04:54 - cmdstanpy - INFO - Chain [1] done processing\n",
      "20:04:54 - cmdstanpy - INFO - Chain [1] start processing\n",
      "20:04:54 - cmdstanpy - INFO - Chain [1] done processing\n",
      "20:04:54 - cmdstanpy - INFO - Chain [1] start processing\n",
      "20:04:54 - cmdstanpy - INFO - Chain [1] done processing\n"
     ]
    },
    {
     "name": "stdout",
     "output_type": "stream",
     "text": [
      "Model and forecast saved for Lock Haven\n",
      "--------------------------------------------------\n",
      "Processing Sault Ste. Marie...\n",
      "Data shape for Sault Ste. Marie: (196, 7)\n",
      "Model and forecast saved for Sault Ste. Marie\n",
      "--------------------------------------------------\n",
      "Processing Effingham...\n",
      "Data shape for Effingham: (196, 7)\n"
     ]
    },
    {
     "name": "stderr",
     "output_type": "stream",
     "text": [
      "20:04:54 - cmdstanpy - INFO - Chain [1] start processing\n",
      "20:04:54 - cmdstanpy - INFO - Chain [1] done processing\n",
      "20:04:55 - cmdstanpy - INFO - Chain [1] start processing\n",
      "20:04:55 - cmdstanpy - INFO - Chain [1] done processing\n"
     ]
    },
    {
     "name": "stdout",
     "output_type": "stream",
     "text": [
      "Model and forecast saved for Effingham\n",
      "--------------------------------------------------\n",
      "Processing Plainview...\n",
      "Data shape for Plainview: (196, 7)\n",
      "Model and forecast saved for Plainview\n",
      "--------------------------------------------------\n",
      "Processing The Dalles...\n",
      "Data shape for The Dalles: (196, 7)\n"
     ]
    },
    {
     "name": "stderr",
     "output_type": "stream",
     "text": [
      "20:04:55 - cmdstanpy - INFO - Chain [1] start processing\n",
      "20:04:55 - cmdstanpy - INFO - Chain [1] done processing\n",
      "20:04:55 - cmdstanpy - INFO - Chain [1] start processing\n",
      "20:04:55 - cmdstanpy - INFO - Chain [1] done processing\n"
     ]
    },
    {
     "name": "stdout",
     "output_type": "stream",
     "text": [
      "Model and forecast saved for The Dalles\n",
      "--------------------------------------------------\n",
      "Processing Fallon...\n",
      "Data shape for Fallon: (196, 7)\n",
      "Model and forecast saved for Fallon\n",
      "--------------------------------------------------\n",
      "Processing Hailey...\n",
      "Data shape for Hailey: (196, 7)\n"
     ]
    },
    {
     "name": "stderr",
     "output_type": "stream",
     "text": [
      "20:04:55 - cmdstanpy - INFO - Chain [1] start processing\n",
      "20:04:55 - cmdstanpy - INFO - Chain [1] done processing\n",
      "20:04:55 - cmdstanpy - INFO - Chain [1] start processing\n",
      "20:04:55 - cmdstanpy - INFO - Chain [1] done processing\n"
     ]
    },
    {
     "name": "stdout",
     "output_type": "stream",
     "text": [
      "Model and forecast saved for Hailey\n",
      "--------------------------------------------------\n",
      "Processing Spencer...\n",
      "Data shape for Spencer: (196, 7)\n",
      "Model and forecast saved for Spencer\n",
      "--------------------------------------------------\n",
      "Processing Ames...\n",
      "Data shape for Ames: (195, 7)\n"
     ]
    },
    {
     "name": "stderr",
     "output_type": "stream",
     "text": [
      "20:04:55 - cmdstanpy - INFO - Chain [1] start processing\n",
      "20:04:55 - cmdstanpy - INFO - Chain [1] done processing\n",
      "20:04:55 - cmdstanpy - INFO - Chain [1] start processing\n",
      "20:04:55 - cmdstanpy - INFO - Chain [1] done processing\n"
     ]
    },
    {
     "name": "stdout",
     "output_type": "stream",
     "text": [
      "Model and forecast saved for Ames\n",
      "--------------------------------------------------\n",
      "Processing Minot...\n",
      "Data shape for Minot: (195, 7)\n",
      "Model and forecast saved for Minot\n",
      "--------------------------------------------------\n",
      "Processing Palestine...\n",
      "Data shape for Palestine: (195, 7)\n"
     ]
    },
    {
     "name": "stderr",
     "output_type": "stream",
     "text": [
      "20:04:55 - cmdstanpy - INFO - Chain [1] start processing\n",
      "20:04:55 - cmdstanpy - INFO - Chain [1] done processing\n",
      "20:04:55 - cmdstanpy - INFO - Chain [1] start processing\n",
      "20:04:56 - cmdstanpy - INFO - Chain [1] done processing\n"
     ]
    },
    {
     "name": "stdout",
     "output_type": "stream",
     "text": [
      "Model and forecast saved for Palestine\n",
      "--------------------------------------------------\n",
      "Processing Ashland...\n",
      "Data shape for Ashland: (195, 7)\n",
      "Model and forecast saved for Ashland\n",
      "--------------------------------------------------\n",
      "Processing Platteville...\n",
      "Data shape for Platteville: (195, 7)\n"
     ]
    },
    {
     "name": "stderr",
     "output_type": "stream",
     "text": [
      "20:04:56 - cmdstanpy - INFO - Chain [1] start processing\n",
      "20:04:56 - cmdstanpy - INFO - Chain [1] done processing\n",
      "20:04:56 - cmdstanpy - INFO - Chain [1] start processing\n"
     ]
    },
    {
     "name": "stdout",
     "output_type": "stream",
     "text": [
      "Model and forecast saved for Platteville\n",
      "--------------------------------------------------\n",
      "Processing Corsicana...\n",
      "Data shape for Corsicana: (195, 7)\n",
      "Model and forecast saved for Corsicana\n",
      "--------------------------------------------------\n",
      "Processing Alice...\n",
      "Data shape for Alice: (195, 7)\n"
     ]
    },
    {
     "name": "stderr",
     "output_type": "stream",
     "text": [
      "20:04:56 - cmdstanpy - INFO - Chain [1] done processing\n",
      "20:04:56 - cmdstanpy - INFO - Chain [1] start processing\n",
      "20:04:56 - cmdstanpy - INFO - Chain [1] done processing\n",
      "20:04:56 - cmdstanpy - INFO - Chain [1] start processing\n",
      "20:04:56 - cmdstanpy - INFO - Chain [1] done processing\n"
     ]
    },
    {
     "name": "stdout",
     "output_type": "stream",
     "text": [
      "Model and forecast saved for Alice\n",
      "--------------------------------------------------\n",
      "Processing Clinton...\n",
      "Data shape for Clinton: (193, 7)\n",
      "Model and forecast saved for Clinton\n",
      "--------------------------------------------------\n",
      "Processing Wapakoneta...\n",
      "Data shape for Wapakoneta: (195, 7)\n"
     ]
    },
    {
     "name": "stderr",
     "output_type": "stream",
     "text": [
      "20:04:56 - cmdstanpy - INFO - Chain [1] start processing\n",
      "20:04:56 - cmdstanpy - INFO - Chain [1] done processing\n",
      "20:04:56 - cmdstanpy - INFO - Chain [1] start processing\n",
      "20:04:56 - cmdstanpy - INFO - Chain [1] done processing\n"
     ]
    },
    {
     "name": "stdout",
     "output_type": "stream",
     "text": [
      "Model and forecast saved for Wapakoneta\n",
      "--------------------------------------------------\n",
      "Processing Huntingdon...\n",
      "Data shape for Huntingdon: (195, 7)\n",
      "Model and forecast saved for Huntingdon\n",
      "--------------------------------------------------\n",
      "Processing Garden City...\n",
      "Data shape for Garden City: (195, 7)\n"
     ]
    },
    {
     "name": "stderr",
     "output_type": "stream",
     "text": [
      "20:04:56 - cmdstanpy - INFO - Chain [1] start processing\n",
      "20:04:56 - cmdstanpy - INFO - Chain [1] done processing\n",
      "20:04:57 - cmdstanpy - INFO - Chain [1] start processing\n"
     ]
    },
    {
     "name": "stdout",
     "output_type": "stream",
     "text": [
      "Model and forecast saved for Garden City\n",
      "--------------------------------------------------\n",
      "Processing Celina...\n",
      "Data shape for Celina: (195, 7)\n",
      "Model and forecast saved for Celina\n",
      "--------------------------------------------------\n",
      "Processing Bradford...\n",
      "Data shape for Bradford: (195, 7)\n"
     ]
    },
    {
     "name": "stderr",
     "output_type": "stream",
     "text": [
      "20:04:57 - cmdstanpy - INFO - Chain [1] done processing\n",
      "20:04:57 - cmdstanpy - INFO - Chain [1] start processing\n",
      "20:04:57 - cmdstanpy - INFO - Chain [1] done processing\n",
      "20:04:57 - cmdstanpy - INFO - Chain [1] start processing\n",
      "20:04:57 - cmdstanpy - INFO - Chain [1] done processing\n"
     ]
    },
    {
     "name": "stdout",
     "output_type": "stream",
     "text": [
      "Model and forecast saved for Bradford\n",
      "--------------------------------------------------\n",
      "Processing McComb...\n",
      "Data shape for McComb: (195, 7)\n",
      "Model and forecast saved for McComb\n",
      "--------------------------------------------------\n",
      "Processing Big Stone Gap...\n",
      "Data shape for Big Stone Gap: (195, 7)\n"
     ]
    },
    {
     "name": "stderr",
     "output_type": "stream",
     "text": [
      "20:04:57 - cmdstanpy - INFO - Chain [1] start processing\n",
      "20:04:57 - cmdstanpy - INFO - Chain [1] done processing\n",
      "20:04:57 - cmdstanpy - INFO - Chain [1] start processing\n"
     ]
    },
    {
     "name": "stdout",
     "output_type": "stream",
     "text": [
      "Model and forecast saved for Big Stone Gap\n",
      "--------------------------------------------------\n",
      "Processing Crawfordsville...\n",
      "Data shape for Crawfordsville: (195, 7)\n",
      "Model and forecast saved for Crawfordsville\n",
      "--------------------------------------------------\n",
      "Processing Scottsbluff...\n",
      "Data shape for Scottsbluff: (195, 7)\n"
     ]
    },
    {
     "name": "stderr",
     "output_type": "stream",
     "text": [
      "20:04:57 - cmdstanpy - INFO - Chain [1] done processing\n",
      "20:04:57 - cmdstanpy - INFO - Chain [1] start processing\n",
      "20:04:57 - cmdstanpy - INFO - Chain [1] done processing\n",
      "20:04:57 - cmdstanpy - INFO - Chain [1] start processing\n"
     ]
    },
    {
     "name": "stdout",
     "output_type": "stream",
     "text": [
      "Model and forecast saved for Scottsbluff\n",
      "--------------------------------------------------\n",
      "Processing Laramie...\n",
      "Data shape for Laramie: (195, 7)\n",
      "Model and forecast saved for Laramie\n",
      "--------------------------------------------------\n",
      "Processing Campbellsville...\n",
      "Data shape for Campbellsville: (195, 7)\n"
     ]
    },
    {
     "name": "stderr",
     "output_type": "stream",
     "text": [
      "20:04:57 - cmdstanpy - INFO - Chain [1] done processing\n",
      "20:04:58 - cmdstanpy - INFO - Chain [1] start processing\n",
      "20:04:58 - cmdstanpy - INFO - Chain [1] done processing\n",
      "20:04:58 - cmdstanpy - INFO - Chain [1] start processing\n"
     ]
    },
    {
     "name": "stdout",
     "output_type": "stream",
     "text": [
      "Model and forecast saved for Campbellsville\n",
      "--------------------------------------------------\n",
      "Processing Coshocton...\n",
      "Data shape for Coshocton: (195, 7)\n",
      "Model and forecast saved for Coshocton\n",
      "--------------------------------------------------\n",
      "Processing Peru...\n",
      "Data shape for Peru: (195, 7)\n"
     ]
    },
    {
     "name": "stderr",
     "output_type": "stream",
     "text": [
      "20:04:58 - cmdstanpy - INFO - Chain [1] done processing\n",
      "20:04:58 - cmdstanpy - INFO - Chain [1] start processing\n",
      "20:04:58 - cmdstanpy - INFO - Chain [1] done processing\n",
      "20:04:58 - cmdstanpy - INFO - Chain [1] start processing\n"
     ]
    },
    {
     "name": "stdout",
     "output_type": "stream",
     "text": [
      "Model and forecast saved for Peru\n",
      "--------------------------------------------------\n",
      "Processing Vernal...\n",
      "Data shape for Vernal: (195, 7)\n",
      "Model and forecast saved for Vernal\n",
      "--------------------------------------------------\n",
      "Processing Ottumwa...\n",
      "Data shape for Ottumwa: (195, 7)\n"
     ]
    },
    {
     "name": "stderr",
     "output_type": "stream",
     "text": [
      "20:04:58 - cmdstanpy - INFO - Chain [1] done processing\n",
      "20:04:58 - cmdstanpy - INFO - Chain [1] start processing\n",
      "20:04:58 - cmdstanpy - INFO - Chain [1] done processing\n",
      "20:04:58 - cmdstanpy - INFO - Chain [1] start processing\n",
      "20:04:58 - cmdstanpy - INFO - Chain [1] done processing\n"
     ]
    },
    {
     "name": "stdout",
     "output_type": "stream",
     "text": [
      "Model and forecast saved for Ottumwa\n",
      "--------------------------------------------------\n",
      "Processing Brevard...\n",
      "Data shape for Brevard: (195, 7)\n",
      "Model and forecast saved for Brevard\n",
      "--------------------------------------------------\n",
      "Processing Kingsville...\n",
      "Data shape for Kingsville: (195, 7)\n"
     ]
    },
    {
     "name": "stderr",
     "output_type": "stream",
     "text": [
      "20:04:58 - cmdstanpy - INFO - Chain [1] start processing\n",
      "20:04:58 - cmdstanpy - INFO - Chain [1] done processing\n",
      "20:04:59 - cmdstanpy - INFO - Chain [1] start processing\n"
     ]
    },
    {
     "name": "stdout",
     "output_type": "stream",
     "text": [
      "Model and forecast saved for Kingsville\n",
      "--------------------------------------------------\n",
      "Processing Mineral Wells...\n",
      "Data shape for Mineral Wells: (195, 7)\n",
      "Model and forecast saved for Mineral Wells\n",
      "--------------------------------------------------\n",
      "Processing Oskaloosa...\n",
      "Data shape for Oskaloosa: (195, 7)\n"
     ]
    },
    {
     "name": "stderr",
     "output_type": "stream",
     "text": [
      "20:04:59 - cmdstanpy - INFO - Chain [1] done processing\n",
      "20:04:59 - cmdstanpy - INFO - Chain [1] start processing\n",
      "20:04:59 - cmdstanpy - INFO - Chain [1] done processing\n",
      "20:04:59 - cmdstanpy - INFO - Chain [1] start processing\n",
      "20:04:59 - cmdstanpy - INFO - Chain [1] done processing\n"
     ]
    },
    {
     "name": "stdout",
     "output_type": "stream",
     "text": [
      "Model and forecast saved for Oskaloosa\n",
      "--------------------------------------------------\n",
      "Processing Levelland...\n",
      "Data shape for Levelland: (195, 7)\n",
      "Model and forecast saved for Levelland\n",
      "--------------------------------------------------\n",
      "Processing Borger...\n",
      "Data shape for Borger: (195, 7)\n"
     ]
    },
    {
     "name": "stderr",
     "output_type": "stream",
     "text": [
      "20:04:59 - cmdstanpy - INFO - Chain [1] start processing\n",
      "20:04:59 - cmdstanpy - INFO - Chain [1] done processing\n",
      "20:04:59 - cmdstanpy - INFO - Chain [1] start processing\n",
      "20:04:59 - cmdstanpy - INFO - Chain [1] done processing\n"
     ]
    },
    {
     "name": "stdout",
     "output_type": "stream",
     "text": [
      "Model and forecast saved for Borger\n",
      "--------------------------------------------------\n",
      "Processing Pierre...\n",
      "Data shape for Pierre: (195, 7)\n",
      "Model and forecast saved for Pierre\n",
      "--------------------------------------------------\n",
      "Processing Evanston...\n",
      "Data shape for Evanston: (195, 7)\n"
     ]
    },
    {
     "name": "stderr",
     "output_type": "stream",
     "text": [
      "20:04:59 - cmdstanpy - INFO - Chain [1] start processing\n",
      "20:04:59 - cmdstanpy - INFO - Chain [1] done processing\n",
      "20:04:59 - cmdstanpy - INFO - Chain [1] start processing\n"
     ]
    },
    {
     "name": "stdout",
     "output_type": "stream",
     "text": [
      "Model and forecast saved for Evanston\n",
      "--------------------------------------------------\n",
      "Processing Othello...\n",
      "Data shape for Othello: (195, 7)\n",
      "Model and forecast saved for Othello\n",
      "--------------------------------------------------\n",
      "Processing Los Alamos...\n",
      "Data shape for Los Alamos: (195, 7)\n"
     ]
    },
    {
     "name": "stderr",
     "output_type": "stream",
     "text": [
      "20:04:59 - cmdstanpy - INFO - Chain [1] done processing\n",
      "20:04:59 - cmdstanpy - INFO - Chain [1] start processing\n",
      "20:04:59 - cmdstanpy - INFO - Chain [1] done processing\n",
      "20:05:00 - cmdstanpy - INFO - Chain [1] start processing\n",
      "20:05:00 - cmdstanpy - INFO - Chain [1] done processing\n"
     ]
    },
    {
     "name": "stdout",
     "output_type": "stream",
     "text": [
      "Model and forecast saved for Los Alamos\n",
      "--------------------------------------------------\n",
      "Processing Spirit Lake...\n",
      "Data shape for Spirit Lake: (194, 7)\n",
      "Model and forecast saved for Spirit Lake\n",
      "--------------------------------------------------\n",
      "Processing Snyder...\n",
      "Data shape for Snyder: (195, 7)\n"
     ]
    },
    {
     "name": "stderr",
     "output_type": "stream",
     "text": [
      "20:05:00 - cmdstanpy - INFO - Chain [1] start processing\n",
      "20:05:00 - cmdstanpy - INFO - Chain [1] done processing\n",
      "20:05:00 - cmdstanpy - INFO - Chain [1] start processing\n",
      "20:05:00 - cmdstanpy - INFO - Chain [1] done processing\n"
     ]
    },
    {
     "name": "stdout",
     "output_type": "stream",
     "text": [
      "Model and forecast saved for Snyder\n",
      "--------------------------------------------------\n",
      "Processing Starkville...\n",
      "Data shape for Starkville: (194, 7)\n",
      "Model and forecast saved for Starkville\n",
      "--------------------------------------------------\n",
      "Processing Burley...\n",
      "Data shape for Burley: (194, 7)\n"
     ]
    },
    {
     "name": "stderr",
     "output_type": "stream",
     "text": [
      "20:05:00 - cmdstanpy - INFO - Chain [1] start processing\n",
      "20:05:00 - cmdstanpy - INFO - Chain [1] done processing\n",
      "20:05:00 - cmdstanpy - INFO - Chain [1] start processing\n",
      "20:05:00 - cmdstanpy - INFO - Chain [1] done processing\n"
     ]
    },
    {
     "name": "stdout",
     "output_type": "stream",
     "text": [
      "Model and forecast saved for Burley\n",
      "--------------------------------------------------\n",
      "Processing Moscow...\n",
      "Data shape for Moscow: (194, 7)\n",
      "Model and forecast saved for Moscow\n",
      "--------------------------------------------------\n",
      "Processing Williston...\n",
      "Data shape for Williston: (194, 7)\n"
     ]
    },
    {
     "name": "stderr",
     "output_type": "stream",
     "text": [
      "20:05:00 - cmdstanpy - INFO - Chain [1] start processing\n",
      "20:05:00 - cmdstanpy - INFO - Chain [1] done processing\n",
      "20:05:00 - cmdstanpy - INFO - Chain [1] start processing\n"
     ]
    },
    {
     "name": "stdout",
     "output_type": "stream",
     "text": [
      "Model and forecast saved for Williston\n",
      "--------------------------------------------------\n",
      "Processing Brenham...\n",
      "Data shape for Brenham: (194, 7)\n",
      "Model and forecast saved for Brenham\n",
      "--------------------------------------------------\n",
      "Processing Wabash...\n",
      "Data shape for Wabash: (194, 7)\n"
     ]
    },
    {
     "name": "stderr",
     "output_type": "stream",
     "text": [
      "20:05:00 - cmdstanpy - INFO - Chain [1] done processing\n",
      "20:05:00 - cmdstanpy - INFO - Chain [1] start processing\n",
      "20:05:00 - cmdstanpy - INFO - Chain [1] done processing\n",
      "20:05:01 - cmdstanpy - INFO - Chain [1] start processing\n",
      "20:05:01 - cmdstanpy - INFO - Chain [1] done processing\n"
     ]
    },
    {
     "name": "stdout",
     "output_type": "stream",
     "text": [
      "Model and forecast saved for Wabash\n",
      "--------------------------------------------------\n",
      "Processing Kennett...\n",
      "Data shape for Kennett: (194, 7)\n",
      "Model and forecast saved for Kennett\n",
      "--------------------------------------------------\n",
      "Processing Fredericksburg...\n",
      "Data shape for Fredericksburg: (194, 7)\n"
     ]
    },
    {
     "name": "stderr",
     "output_type": "stream",
     "text": [
      "20:05:01 - cmdstanpy - INFO - Chain [1] start processing\n",
      "20:05:01 - cmdstanpy - INFO - Chain [1] done processing\n",
      "20:05:01 - cmdstanpy - INFO - Chain [1] start processing\n",
      "20:05:01 - cmdstanpy - INFO - Chain [1] done processing\n"
     ]
    },
    {
     "name": "stdout",
     "output_type": "stream",
     "text": [
      "Model and forecast saved for Fredericksburg\n",
      "--------------------------------------------------\n",
      "Processing La Grande...\n",
      "Data shape for La Grande: (194, 7)\n",
      "Model and forecast saved for La Grande\n",
      "--------------------------------------------------\n",
      "Processing Yankton...\n",
      "Data shape for Yankton: (194, 7)\n"
     ]
    },
    {
     "name": "stderr",
     "output_type": "stream",
     "text": [
      "20:05:01 - cmdstanpy - INFO - Chain [1] start processing\n",
      "20:05:01 - cmdstanpy - INFO - Chain [1] done processing\n",
      "20:05:01 - cmdstanpy - INFO - Chain [1] start processing\n",
      "20:05:01 - cmdstanpy - INFO - Chain [1] done processing\n"
     ]
    },
    {
     "name": "stdout",
     "output_type": "stream",
     "text": [
      "Model and forecast saved for Yankton\n",
      "--------------------------------------------------\n",
      "Processing Kalispell...\n",
      "Data shape for Kalispell: (193, 7)\n",
      "Model and forecast saved for Kalispell\n",
      "--------------------------------------------------\n",
      "Processing Rio Grande City...\n",
      "Data shape for Rio Grande City: (193, 7)\n",
      "Model and forecast saved for Rio Grande City\n",
      "--------------------------------------------------\n",
      "Processing Mount Pleasant...\n"
     ]
    },
    {
     "name": "stderr",
     "output_type": "stream",
     "text": [
      "20:05:01 - cmdstanpy - INFO - Chain [1] start processing\n",
      "20:05:01 - cmdstanpy - INFO - Chain [1] done processing\n",
      "20:05:01 - cmdstanpy - INFO - Chain [1] start processing\n",
      "20:05:01 - cmdstanpy - INFO - Chain [1] done processing\n"
     ]
    },
    {
     "name": "stdout",
     "output_type": "stream",
     "text": [
      "Data shape for Mount Pleasant: (354, 7)\n",
      "Model and forecast saved for Mount Pleasant\n",
      "--------------------------------------------------\n",
      "Processing El Campo...\n",
      "Data shape for El Campo: (193, 7)\n"
     ]
    },
    {
     "name": "stderr",
     "output_type": "stream",
     "text": [
      "20:05:01 - cmdstanpy - INFO - Chain [1] start processing\n",
      "20:05:01 - cmdstanpy - INFO - Chain [1] done processing\n",
      "20:05:01 - cmdstanpy - INFO - Chain [1] start processing\n",
      "20:05:02 - cmdstanpy - INFO - Chain [1] done processing\n"
     ]
    },
    {
     "name": "stdout",
     "output_type": "stream",
     "text": [
      "Model and forecast saved for El Campo\n",
      "--------------------------------------------------\n",
      "Processing Port Lavaca...\n",
      "Data shape for Port Lavaca: (193, 7)\n",
      "Model and forecast saved for Port Lavaca\n",
      "--------------------------------------------------\n",
      "Processing Andrews...\n",
      "Data shape for Andrews: (193, 7)\n"
     ]
    },
    {
     "name": "stderr",
     "output_type": "stream",
     "text": [
      "20:05:02 - cmdstanpy - INFO - Chain [1] start processing\n",
      "20:05:02 - cmdstanpy - INFO - Chain [1] done processing\n",
      "20:05:02 - cmdstanpy - INFO - Chain [1] start processing\n",
      "20:05:02 - cmdstanpy - INFO - Chain [1] done processing\n"
     ]
    },
    {
     "name": "stdout",
     "output_type": "stream",
     "text": [
      "Model and forecast saved for Andrews\n",
      "--------------------------------------------------\n",
      "Processing Fairfield...\n",
      "Data shape for Fairfield: (193, 7)\n",
      "Model and forecast saved for Fairfield\n",
      "--------------------------------------------------\n",
      "Processing Sweetwater...\n",
      "Data shape for Sweetwater: (193, 7)\n"
     ]
    },
    {
     "name": "stderr",
     "output_type": "stream",
     "text": [
      "20:05:02 - cmdstanpy - INFO - Chain [1] start processing\n",
      "20:05:02 - cmdstanpy - INFO - Chain [1] done processing\n",
      "20:05:02 - cmdstanpy - INFO - Chain [1] start processing\n",
      "20:05:02 - cmdstanpy - INFO - Chain [1] done processing\n"
     ]
    },
    {
     "name": "stdout",
     "output_type": "stream",
     "text": [
      "Model and forecast saved for Sweetwater\n",
      "--------------------------------------------------\n",
      "Processing Staunton...\n",
      "Data shape for Staunton: (192, 7)\n",
      "Model and forecast saved for Staunton\n",
      "--------------------------------------------------\n",
      "Processing Oxford...\n",
      "Data shape for Oxford: (192, 7)\n"
     ]
    },
    {
     "name": "stderr",
     "output_type": "stream",
     "text": [
      "20:05:02 - cmdstanpy - INFO - Chain [1] start processing\n",
      "20:05:02 - cmdstanpy - INFO - Chain [1] done processing\n",
      "20:05:02 - cmdstanpy - INFO - Chain [1] start processing\n"
     ]
    },
    {
     "name": "stdout",
     "output_type": "stream",
     "text": [
      "Model and forecast saved for Oxford\n",
      "--------------------------------------------------\n",
      "Processing Hannibal...\n",
      "Data shape for Hannibal: (192, 7)\n",
      "Model and forecast saved for Hannibal\n",
      "--------------------------------------------------\n",
      "Processing Uvalde...\n",
      "Data shape for Uvalde: (192, 7)\n"
     ]
    },
    {
     "name": "stderr",
     "output_type": "stream",
     "text": [
      "20:05:02 - cmdstanpy - INFO - Chain [1] done processing\n",
      "20:05:02 - cmdstanpy - INFO - Chain [1] start processing\n",
      "20:05:02 - cmdstanpy - INFO - Chain [1] done processing\n",
      "20:05:02 - cmdstanpy - INFO - Chain [1] start processing\n",
      "20:05:03 - cmdstanpy - INFO - Chain [1] done processing\n"
     ]
    },
    {
     "name": "stdout",
     "output_type": "stream",
     "text": [
      "Model and forecast saved for Uvalde\n",
      "--------------------------------------------------\n",
      "Processing Vernon...\n",
      "Data shape for Vernon: (192, 7)\n",
      "Model and forecast saved for Vernon\n",
      "--------------------------------------------------\n",
      "Processing Dover...\n",
      "Data shape for Dover: (191, 7)\n"
     ]
    },
    {
     "name": "stderr",
     "output_type": "stream",
     "text": [
      "20:05:03 - cmdstanpy - INFO - Chain [1] start processing\n",
      "20:05:03 - cmdstanpy - INFO - Chain [1] done processing\n",
      "20:05:03 - cmdstanpy - INFO - Chain [1] start processing\n",
      "20:05:03 - cmdstanpy - INFO - Chain [1] done processing\n"
     ]
    },
    {
     "name": "stdout",
     "output_type": "stream",
     "text": [
      "Model and forecast saved for Dover\n",
      "--------------------------------------------------\n",
      "Processing Rexburg...\n",
      "Data shape for Rexburg: (191, 7)\n",
      "Model and forecast saved for Rexburg\n",
      "--------------------------------------------------\n",
      "Processing Dickinson...\n",
      "Data shape for Dickinson: (191, 7)\n"
     ]
    },
    {
     "name": "stderr",
     "output_type": "stream",
     "text": [
      "20:05:03 - cmdstanpy - INFO - Chain [1] start processing\n",
      "20:05:03 - cmdstanpy - INFO - Chain [1] done processing\n",
      "20:05:03 - cmdstanpy - INFO - Chain [1] start processing\n",
      "20:05:03 - cmdstanpy - INFO - Chain [1] done processing\n"
     ]
    },
    {
     "name": "stdout",
     "output_type": "stream",
     "text": [
      "Model and forecast saved for Dickinson\n",
      "--------------------------------------------------\n",
      "Processing Middlesborough...\n",
      "Data shape for Middlesborough: (191, 7)\n",
      "Model and forecast saved for Middlesborough\n",
      "--------------------------------------------------\n",
      "Processing Wahpeton...\n",
      "Data shape for Wahpeton: (191, 7)\n"
     ]
    },
    {
     "name": "stderr",
     "output_type": "stream",
     "text": [
      "20:05:03 - cmdstanpy - INFO - Chain [1] start processing\n",
      "20:05:03 - cmdstanpy - INFO - Chain [1] done processing\n",
      "20:05:03 - cmdstanpy - INFO - Chain [1] start processing\n",
      "20:05:03 - cmdstanpy - INFO - Chain [1] done processing\n"
     ]
    },
    {
     "name": "stdout",
     "output_type": "stream",
     "text": [
      "Model and forecast saved for Wahpeton\n",
      "--------------------------------------------------\n",
      "Processing Pampa...\n",
      "Data shape for Pampa: (191, 7)\n",
      "Model and forecast saved for Pampa\n",
      "--------------------------------------------------\n",
      "Processing Newberry...\n",
      "Data shape for Newberry: (190, 7)\n"
     ]
    },
    {
     "name": "stderr",
     "output_type": "stream",
     "text": [
      "20:05:03 - cmdstanpy - INFO - Chain [1] start processing\n",
      "20:05:03 - cmdstanpy - INFO - Chain [1] done processing\n"
     ]
    },
    {
     "name": "stdout",
     "output_type": "stream",
     "text": [
      "Model and forecast saved for Newberry\n",
      "--------------------------------------------------\n",
      "Processing Portales...\n",
      "Data shape for Portales: (190, 7)\n",
      "Model and forecast saved for Portales\n",
      "--------------------------------------------------\n",
      "Processing Harrisonburg...\n",
      "Data shape for Harrisonburg: (189, 7)\n"
     ]
    },
    {
     "name": "stderr",
     "output_type": "stream",
     "text": [
      "20:05:04 - cmdstanpy - INFO - Chain [1] start processing\n",
      "20:05:04 - cmdstanpy - INFO - Chain [1] done processing\n",
      "20:05:04 - cmdstanpy - INFO - Chain [1] start processing\n",
      "20:05:04 - cmdstanpy - INFO - Chain [1] done processing\n",
      "20:05:04 - cmdstanpy - INFO - Chain [1] start processing\n",
      "20:05:04 - cmdstanpy - INFO - Chain [1] done processing\n"
     ]
    },
    {
     "name": "stdout",
     "output_type": "stream",
     "text": [
      "Model and forecast saved for Harrisonburg\n",
      "--------------------------------------------------\n",
      "Processing Zapata...\n",
      "Data shape for Zapata: (188, 7)\n",
      "Model and forecast saved for Zapata\n",
      "--------------------------------------------------\n",
      "Processing Farmington...\n",
      "Data shape for Farmington: (357, 7)\n",
      "Model and forecast saved for Farmington\n",
      "--------------------------------------------------\n",
      "Processing Fort Leonard Wood...\n"
     ]
    },
    {
     "name": "stderr",
     "output_type": "stream",
     "text": [
      "20:05:04 - cmdstanpy - INFO - Chain [1] start processing\n",
      "20:05:04 - cmdstanpy - INFO - Chain [1] done processing\n",
      "20:05:04 - cmdstanpy - INFO - Chain [1] start processing\n"
     ]
    },
    {
     "name": "stdout",
     "output_type": "stream",
     "text": [
      "Data shape for Fort Leonard Wood: (187, 7)\n",
      "Model and forecast saved for Fort Leonard Wood\n",
      "--------------------------------------------------\n",
      "Processing Riverton...\n",
      "Data shape for Riverton: (187, 7)\n"
     ]
    },
    {
     "name": "stderr",
     "output_type": "stream",
     "text": [
      "20:05:04 - cmdstanpy - INFO - Chain [1] done processing\n",
      "20:05:04 - cmdstanpy - INFO - Chain [1] start processing\n",
      "20:05:04 - cmdstanpy - INFO - Chain [1] done processing\n",
      "20:05:04 - cmdstanpy - INFO - Chain [1] start processing\n",
      "20:05:04 - cmdstanpy - INFO - Chain [1] done processing\n"
     ]
    },
    {
     "name": "stdout",
     "output_type": "stream",
     "text": [
      "Model and forecast saved for Riverton\n",
      "--------------------------------------------------\n",
      "Processing Scottsboro...\n",
      "Data shape for Scottsboro: (186, 7)\n",
      "Model and forecast saved for Scottsboro\n",
      "--------------------------------------------------\n",
      "Processing Portsmouth...\n",
      "Data shape for Portsmouth: (183, 7)\n"
     ]
    },
    {
     "name": "stderr",
     "output_type": "stream",
     "text": [
      "20:05:04 - cmdstanpy - INFO - Chain [1] start processing\n",
      "20:05:04 - cmdstanpy - INFO - Chain [1] done processing\n",
      "20:05:05 - cmdstanpy - INFO - Chain [1] start processing\n",
      "20:05:05 - cmdstanpy - INFO - Chain [1] done processing\n"
     ]
    },
    {
     "name": "stdout",
     "output_type": "stream",
     "text": [
      "Model and forecast saved for Portsmouth\n",
      "--------------------------------------------------\n",
      "Processing Bogalusa...\n",
      "Data shape for Bogalusa: (183, 7)\n",
      "Model and forecast saved for Bogalusa\n",
      "--------------------------------------------------\n",
      "Processing Stevens Point...\n",
      "Data shape for Stevens Point: (182, 7)\n"
     ]
    },
    {
     "name": "stderr",
     "output_type": "stream",
     "text": [
      "20:05:05 - cmdstanpy - INFO - Chain [1] start processing\n",
      "20:05:05 - cmdstanpy - INFO - Chain [1] done processing\n",
      "20:05:05 - cmdstanpy - INFO - Chain [1] start processing\n",
      "20:05:05 - cmdstanpy - INFO - Chain [1] done processing\n"
     ]
    },
    {
     "name": "stdout",
     "output_type": "stream",
     "text": [
      "Model and forecast saved for Stevens Point\n",
      "--------------------------------------------------\n",
      "Processing Emporia...\n",
      "Data shape for Emporia: (182, 7)\n",
      "Model and forecast saved for Emporia\n",
      "--------------------------------------------------\n",
      "Processing Coffeyville...\n",
      "Data shape for Coffeyville: (182, 7)\n"
     ]
    },
    {
     "name": "stderr",
     "output_type": "stream",
     "text": [
      "20:05:05 - cmdstanpy - INFO - Chain [1] start processing\n",
      "20:05:05 - cmdstanpy - INFO - Chain [1] done processing\n",
      "20:05:05 - cmdstanpy - INFO - Chain [1] start processing\n",
      "20:05:05 - cmdstanpy - INFO - Chain [1] done processing\n"
     ]
    },
    {
     "name": "stdout",
     "output_type": "stream",
     "text": [
      "Model and forecast saved for Coffeyville\n",
      "--------------------------------------------------\n",
      "Processing Bedford...\n",
      "Data shape for Bedford: (181, 7)\n",
      "Model and forecast saved for Bedford\n",
      "--------------------------------------------------\n",
      "Processing Connersville...\n",
      "Data shape for Connersville: (181, 7)\n"
     ]
    },
    {
     "name": "stderr",
     "output_type": "stream",
     "text": [
      "20:05:05 - cmdstanpy - INFO - Chain [1] start processing\n",
      "20:05:05 - cmdstanpy - INFO - Chain [1] done processing\n",
      "20:05:05 - cmdstanpy - INFO - Chain [1] start processing\n"
     ]
    },
    {
     "name": "stdout",
     "output_type": "stream",
     "text": [
      "Model and forecast saved for Connersville\n",
      "--------------------------------------------------\n",
      "Processing Maysville...\n",
      "Data shape for Maysville: (181, 7)\n",
      "Model and forecast saved for Maysville\n",
      "--------------------------------------------------\n",
      "Processing Gulfport...\n",
      "Data shape for Gulfport: (179, 7)\n"
     ]
    },
    {
     "name": "stderr",
     "output_type": "stream",
     "text": [
      "20:05:05 - cmdstanpy - INFO - Chain [1] done processing\n",
      "20:05:05 - cmdstanpy - INFO - Chain [1] start processing\n",
      "20:05:05 - cmdstanpy - INFO - Chain [1] done processing\n",
      "20:05:06 - cmdstanpy - INFO - Chain [1] start processing\n"
     ]
    },
    {
     "name": "stdout",
     "output_type": "stream",
     "text": [
      "Model and forecast saved for Gulfport\n",
      "--------------------------------------------------\n",
      "Processing Casper...\n",
      "Data shape for Casper: (177, 7)\n",
      "Model and forecast saved for Casper\n",
      "--------------------------------------------------\n",
      "Processing Seneca...\n",
      "Data shape for Seneca: (176, 7)\n"
     ]
    },
    {
     "name": "stderr",
     "output_type": "stream",
     "text": [
      "20:05:06 - cmdstanpy - INFO - Chain [1] done processing\n",
      "20:05:06 - cmdstanpy - INFO - Chain [1] start processing\n",
      "20:05:06 - cmdstanpy - INFO - Chain [1] done processing\n",
      "20:05:06 - cmdstanpy - INFO - Chain [1] start processing\n",
      "20:05:06 - cmdstanpy - INFO - Chain [1] done processing\n"
     ]
    },
    {
     "name": "stdout",
     "output_type": "stream",
     "text": [
      "Model and forecast saved for Seneca\n",
      "--------------------------------------------------\n",
      "Processing Alma...\n",
      "Data shape for Alma: (177, 7)\n",
      "Model and forecast saved for Alma\n",
      "--------------------------------------------------\n",
      "Processing Selinsgrove...\n",
      "Data shape for Selinsgrove: (177, 7)\n"
     ]
    },
    {
     "name": "stderr",
     "output_type": "stream",
     "text": [
      "20:05:06 - cmdstanpy - INFO - Chain [1] start processing\n",
      "20:05:06 - cmdstanpy - INFO - Chain [1] done processing\n",
      "20:05:06 - cmdstanpy - INFO - Chain [1] start processing\n",
      "20:05:06 - cmdstanpy - INFO - Chain [1] done processing\n"
     ]
    },
    {
     "name": "stdout",
     "output_type": "stream",
     "text": [
      "Model and forecast saved for Selinsgrove\n",
      "--------------------------------------------------\n",
      "Processing Iron Mountain...\n",
      "Data shape for Iron Mountain: (177, 7)\n",
      "Model and forecast saved for Iron Mountain\n",
      "--------------------------------------------------\n",
      "Processing Anniston...\n",
      "Data shape for Anniston: (175, 7)\n",
      "Model and forecast saved for Anniston\n",
      "--------------------------------------------------\n",
      "Processing Fort Polk South...\n"
     ]
    },
    {
     "name": "stderr",
     "output_type": "stream",
     "text": [
      "20:05:06 - cmdstanpy - INFO - Chain [1] start processing\n",
      "20:05:06 - cmdstanpy - INFO - Chain [1] done processing\n",
      "20:05:06 - cmdstanpy - INFO - Chain [1] start processing\n",
      "20:05:06 - cmdstanpy - INFO - Chain [1] done processing\n"
     ]
    },
    {
     "name": "stdout",
     "output_type": "stream",
     "text": [
      "Data shape for Fort Polk South: (174, 7)\n",
      "Model and forecast saved for Fort Polk South\n",
      "--------------------------------------------------\n",
      "Processing Marshall...\n",
      "Data shape for Marshall: (334, 7)\n"
     ]
    },
    {
     "name": "stderr",
     "output_type": "stream",
     "text": [
      "20:05:06 - cmdstanpy - INFO - Chain [1] start processing\n",
      "20:05:06 - cmdstanpy - INFO - Chain [1] done processing\n",
      "20:05:06 - cmdstanpy - INFO - Chain [1] start processing\n"
     ]
    },
    {
     "name": "stdout",
     "output_type": "stream",
     "text": [
      "Model and forecast saved for Marshall\n",
      "--------------------------------------------------\n",
      "Processing Winona...\n",
      "Data shape for Winona: (171, 7)\n",
      "Model and forecast saved for Winona\n",
      "--------------------------------------------------\n",
      "Processing Bucyrus...\n",
      "Data shape for Bucyrus: (170, 7)\n"
     ]
    },
    {
     "name": "stderr",
     "output_type": "stream",
     "text": [
      "20:05:07 - cmdstanpy - INFO - Chain [1] done processing\n",
      "20:05:07 - cmdstanpy - INFO - Chain [1] start processing\n",
      "20:05:07 - cmdstanpy - INFO - Chain [1] done processing\n",
      "20:05:07 - cmdstanpy - INFO - Chain [1] start processing\n",
      "20:05:07 - cmdstanpy - INFO - Chain [1] done processing\n"
     ]
    },
    {
     "name": "stdout",
     "output_type": "stream",
     "text": [
      "Model and forecast saved for Bucyrus\n",
      "--------------------------------------------------\n",
      "Processing Lamesa...\n",
      "Data shape for Lamesa: (170, 7)\n",
      "Model and forecast saved for Lamesa\n",
      "--------------------------------------------------\n",
      "Processing Escanaba...\n",
      "Data shape for Escanaba: (166, 7)\n"
     ]
    },
    {
     "name": "stderr",
     "output_type": "stream",
     "text": [
      "20:05:07 - cmdstanpy - INFO - Chain [1] start processing\n",
      "20:05:07 - cmdstanpy - INFO - Chain [1] done processing\n",
      "20:05:07 - cmdstanpy - INFO - Chain [1] start processing\n",
      "20:05:07 - cmdstanpy - INFO - Chain [1] done processing\n"
     ]
    },
    {
     "name": "stdout",
     "output_type": "stream",
     "text": [
      "Model and forecast saved for Escanaba\n",
      "--------------------------------------------------\n",
      "Processing Hattiesburg...\n",
      "Data shape for Hattiesburg: (161, 7)\n",
      "Model and forecast saved for Hattiesburg\n",
      "--------------------------------------------------\n",
      "Processing Janesville...\n",
      "Data shape for Janesville: (161, 7)\n"
     ]
    },
    {
     "name": "stderr",
     "output_type": "stream",
     "text": [
      "20:05:07 - cmdstanpy - INFO - Chain [1] start processing\n",
      "20:05:07 - cmdstanpy - INFO - Chain [1] done processing\n",
      "20:05:07 - cmdstanpy - INFO - Chain [1] start processing\n",
      "20:05:07 - cmdstanpy - INFO - Chain [1] done processing\n"
     ]
    },
    {
     "name": "stdout",
     "output_type": "stream",
     "text": [
      "Model and forecast saved for Janesville\n",
      "--------------------------------------------------\n",
      "Processing Tupelo...\n",
      "Data shape for Tupelo: (161, 7)\n",
      "Model and forecast saved for Tupelo\n",
      "--------------------------------------------------\n",
      "Processing Sherman...\n",
      "Data shape for Sherman: (161, 7)\n"
     ]
    },
    {
     "name": "stderr",
     "output_type": "stream",
     "text": [
      "20:05:07 - cmdstanpy - INFO - Chain [1] start processing\n",
      "20:05:07 - cmdstanpy - INFO - Chain [1] done processing\n",
      "20:05:07 - cmdstanpy - INFO - Chain [1] start processing\n",
      "20:05:07 - cmdstanpy - INFO - Chain [1] done processing\n"
     ]
    },
    {
     "name": "stdout",
     "output_type": "stream",
     "text": [
      "Model and forecast saved for Sherman\n",
      "--------------------------------------------------\n",
      "Processing Meridian...\n",
      "Data shape for Meridian: (161, 7)\n",
      "Model and forecast saved for Meridian\n",
      "--------------------------------------------------\n",
      "Processing Laurel...\n",
      "Data shape for Laurel: (161, 7)\n"
     ]
    },
    {
     "name": "stderr",
     "output_type": "stream",
     "text": [
      "20:05:07 - cmdstanpy - INFO - Chain [1] start processing\n",
      "20:05:08 - cmdstanpy - INFO - Chain [1] done processing\n",
      "20:05:08 - cmdstanpy - INFO - Chain [1] start processing\n",
      "20:05:08 - cmdstanpy - INFO - Chain [1] done processing\n"
     ]
    },
    {
     "name": "stdout",
     "output_type": "stream",
     "text": [
      "Model and forecast saved for Laurel\n",
      "--------------------------------------------------\n",
      "Processing Gallup...\n",
      "Data shape for Gallup: (161, 7)\n",
      "Model and forecast saved for Gallup\n",
      "--------------------------------------------------\n",
      "Processing Red Bluff...\n",
      "Data shape for Red Bluff: (161, 7)\n"
     ]
    },
    {
     "name": "stderr",
     "output_type": "stream",
     "text": [
      "20:05:08 - cmdstanpy - INFO - Chain [1] start processing\n",
      "20:05:08 - cmdstanpy - INFO - Chain [1] done processing\n",
      "20:05:08 - cmdstanpy - INFO - Chain [1] start processing\n",
      "20:05:08 - cmdstanpy - INFO - Chain [1] done processing\n"
     ]
    },
    {
     "name": "stdout",
     "output_type": "stream",
     "text": [
      "Model and forecast saved for Red Bluff\n",
      "--------------------------------------------------\n",
      "Processing Salina...\n",
      "Data shape for Salina: (161, 7)\n",
      "Model and forecast saved for Salina\n",
      "--------------------------------------------------\n",
      "Processing Fergus Falls...\n",
      "Data shape for Fergus Falls: (161, 7)\n"
     ]
    },
    {
     "name": "stderr",
     "output_type": "stream",
     "text": [
      "20:05:08 - cmdstanpy - INFO - Chain [1] start processing\n",
      "20:05:08 - cmdstanpy - INFO - Chain [1] done processing\n",
      "20:05:08 - cmdstanpy - INFO - Chain [1] start processing\n",
      "20:05:08 - cmdstanpy - INFO - Chain [1] done processing\n"
     ]
    },
    {
     "name": "stdout",
     "output_type": "stream",
     "text": [
      "Model and forecast saved for Fergus Falls\n",
      "--------------------------------------------------\n",
      "Processing Picayune...\n",
      "Data shape for Picayune: (161, 7)\n",
      "Model and forecast saved for Picayune\n",
      "--------------------------------------------------\n",
      "Processing Kendallville...\n",
      "Data shape for Kendallville: (161, 7)\n"
     ]
    },
    {
     "name": "stderr",
     "output_type": "stream",
     "text": [
      "20:05:08 - cmdstanpy - INFO - Chain [1] start processing\n",
      "20:05:08 - cmdstanpy - INFO - Chain [1] done processing\n",
      "20:05:08 - cmdstanpy - INFO - Chain [1] start processing\n",
      "20:05:08 - cmdstanpy - INFO - Chain [1] done processing\n"
     ]
    },
    {
     "name": "stdout",
     "output_type": "stream",
     "text": [
      "Model and forecast saved for Kendallville\n",
      "--------------------------------------------------\n",
      "Processing Vicksburg...\n",
      "Data shape for Vicksburg: (161, 7)\n",
      "Model and forecast saved for Vicksburg\n",
      "--------------------------------------------------\n",
      "Processing Rock Springs...\n",
      "Data shape for Rock Springs: (161, 7)\n"
     ]
    },
    {
     "name": "stderr",
     "output_type": "stream",
     "text": [
      "20:05:08 - cmdstanpy - INFO - Chain [1] start processing\n",
      "20:05:08 - cmdstanpy - INFO - Chain [1] done processing\n",
      "20:05:09 - cmdstanpy - INFO - Chain [1] start processing\n",
      "20:05:09 - cmdstanpy - INFO - Chain [1] done processing\n"
     ]
    },
    {
     "name": "stdout",
     "output_type": "stream",
     "text": [
      "Model and forecast saved for Rock Springs\n",
      "--------------------------------------------------\n",
      "Processing Espa-¦ola...\n",
      "Data shape for Espa-¦ola: (161, 7)\n",
      "Model and forecast saved for Espa-¦ola\n",
      "--------------------------------------------------\n",
      "Processing Logansport...\n",
      "Data shape for Logansport: (161, 7)\n"
     ]
    },
    {
     "name": "stderr",
     "output_type": "stream",
     "text": [
      "20:05:09 - cmdstanpy - INFO - Chain [1] start processing\n",
      "20:05:09 - cmdstanpy - INFO - Chain [1] done processing\n",
      "20:05:09 - cmdstanpy - INFO - Chain [1] start processing\n",
      "20:05:09 - cmdstanpy - INFO - Chain [1] done processing\n"
     ]
    },
    {
     "name": "stdout",
     "output_type": "stream",
     "text": [
      "Model and forecast saved for Logansport\n",
      "--------------------------------------------------\n",
      "Processing Vincennes...\n",
      "Data shape for Vincennes: (161, 7)\n",
      "Model and forecast saved for Vincennes\n",
      "--------------------------------------------------\n",
      "Processing Butte...\n",
      "Data shape for Butte: (161, 7)\n"
     ]
    },
    {
     "name": "stderr",
     "output_type": "stream",
     "text": [
      "20:05:09 - cmdstanpy - INFO - Chain [1] start processing\n",
      "20:05:09 - cmdstanpy - INFO - Chain [1] done processing\n",
      "20:05:09 - cmdstanpy - INFO - Chain [1] start processing\n",
      "20:05:09 - cmdstanpy - INFO - Chain [1] done processing\n"
     ]
    },
    {
     "name": "stdout",
     "output_type": "stream",
     "text": [
      "Model and forecast saved for Butte\n",
      "--------------------------------------------------\n",
      "Processing Corinth...\n",
      "Data shape for Corinth: (161, 7)\n",
      "Model and forecast saved for Corinth\n",
      "--------------------------------------------------\n",
      "Processing Big Spring...\n",
      "Data shape for Big Spring: (161, 7)\n",
      "Model and forecast saved for Big Spring\n",
      "--------------------------------------------------\n",
      "Processing Taos...\n"
     ]
    },
    {
     "name": "stderr",
     "output_type": "stream",
     "text": [
      "20:05:09 - cmdstanpy - INFO - Chain [1] start processing\n",
      "20:05:09 - cmdstanpy - INFO - Chain [1] done processing\n",
      "20:05:09 - cmdstanpy - INFO - Chain [1] start processing\n"
     ]
    },
    {
     "name": "stdout",
     "output_type": "stream",
     "text": [
      "Data shape for Taos: (161, 7)\n",
      "Model and forecast saved for Taos\n",
      "--------------------------------------------------\n",
      "Processing Beeville...\n",
      "Data shape for Beeville: (161, 7)\n"
     ]
    },
    {
     "name": "stderr",
     "output_type": "stream",
     "text": [
      "20:05:09 - cmdstanpy - INFO - Chain [1] done processing\n",
      "20:05:09 - cmdstanpy - INFO - Chain [1] start processing\n",
      "20:05:09 - cmdstanpy - INFO - Chain [1] done processing\n",
      "20:05:09 - cmdstanpy - INFO - Chain [1] start processing\n",
      "20:05:10 - cmdstanpy - INFO - Chain [1] done processing\n"
     ]
    },
    {
     "name": "stdout",
     "output_type": "stream",
     "text": [
      "Model and forecast saved for Beeville\n",
      "--------------------------------------------------\n",
      "Processing Albert Lea...\n",
      "Data shape for Albert Lea: (161, 7)\n",
      "Model and forecast saved for Albert Lea\n",
      "--------------------------------------------------\n",
      "Processing Sheridan...\n",
      "Data shape for Sheridan: (161, 7)\n",
      "Model and forecast saved for Sheridan\n",
      "--------------------------------------------------\n",
      "Processing Kirksville...\n"
     ]
    },
    {
     "name": "stderr",
     "output_type": "stream",
     "text": [
      "20:05:10 - cmdstanpy - INFO - Chain [1] start processing\n",
      "20:05:10 - cmdstanpy - INFO - Chain [1] done processing\n",
      "20:05:10 - cmdstanpy - INFO - Chain [1] start processing\n",
      "20:05:10 - cmdstanpy - INFO - Chain [1] done processing\n"
     ]
    },
    {
     "name": "stdout",
     "output_type": "stream",
     "text": [
      "Data shape for Kirksville: (161, 7)\n",
      "Model and forecast saved for Kirksville\n",
      "--------------------------------------------------\n",
      "Processing Fort Morgan...\n",
      "Data shape for Fort Morgan: (161, 7)\n"
     ]
    },
    {
     "name": "stderr",
     "output_type": "stream",
     "text": [
      "20:05:10 - cmdstanpy - INFO - Chain [1] start processing\n",
      "20:05:10 - cmdstanpy - INFO - Chain [1] done processing\n",
      "20:05:10 - cmdstanpy - INFO - Chain [1] start processing\n",
      "20:05:10 - cmdstanpy - INFO - Chain [1] done processing\n"
     ]
    },
    {
     "name": "stdout",
     "output_type": "stream",
     "text": [
      "Model and forecast saved for Fort Morgan\n",
      "--------------------------------------------------\n",
      "Processing Greensburg...\n",
      "Data shape for Greensburg: (161, 7)\n",
      "Model and forecast saved for Greensburg\n",
      "--------------------------------------------------\n",
      "Processing New Ulm...\n",
      "Data shape for New Ulm: (161, 7)\n"
     ]
    },
    {
     "name": "stderr",
     "output_type": "stream",
     "text": [
      "20:05:10 - cmdstanpy - INFO - Chain [1] start processing\n",
      "20:05:10 - cmdstanpy - INFO - Chain [1] done processing\n",
      "20:05:10 - cmdstanpy - INFO - Chain [1] start processing\n",
      "20:05:10 - cmdstanpy - INFO - Chain [1] done processing\n"
     ]
    },
    {
     "name": "stdout",
     "output_type": "stream",
     "text": [
      "Model and forecast saved for New Ulm\n",
      "--------------------------------------------------\n",
      "Processing Deming...\n",
      "Data shape for Deming: (161, 7)\n",
      "Model and forecast saved for Deming\n",
      "--------------------------------------------------\n",
      "Processing Moberly...\n",
      "Data shape for Moberly: (161, 7)\n"
     ]
    },
    {
     "name": "stderr",
     "output_type": "stream",
     "text": [
      "20:05:10 - cmdstanpy - INFO - Chain [1] start processing\n",
      "20:05:10 - cmdstanpy - INFO - Chain [1] done processing\n",
      "20:05:10 - cmdstanpy - INFO - Chain [1] start processing\n",
      "20:05:10 - cmdstanpy - INFO - Chain [1] done processing\n"
     ]
    },
    {
     "name": "stdout",
     "output_type": "stream",
     "text": [
      "Model and forecast saved for Moberly\n",
      "--------------------------------------------------\n",
      "Processing Maryville...\n",
      "Data shape for Maryville: (161, 7)\n",
      "Model and forecast saved for Maryville\n",
      "--------------------------------------------------\n",
      "Processing Dumas...\n",
      "Data shape for Dumas: (161, 7)\n"
     ]
    },
    {
     "name": "stderr",
     "output_type": "stream",
     "text": [
      "20:05:11 - cmdstanpy - INFO - Chain [1] start processing\n",
      "20:05:11 - cmdstanpy - INFO - Chain [1] done processing\n",
      "20:05:11 - cmdstanpy - INFO - Chain [1] start processing\n",
      "20:05:11 - cmdstanpy - INFO - Chain [1] done processing\n"
     ]
    },
    {
     "name": "stdout",
     "output_type": "stream",
     "text": [
      "Model and forecast saved for Dumas\n",
      "--------------------------------------------------\n",
      "Processing Hereford...\n",
      "Data shape for Hereford: (161, 7)\n",
      "Model and forecast saved for Hereford\n",
      "--------------------------------------------------\n",
      "Processing Atchison...\n",
      "Data shape for Atchison: (161, 7)\n",
      "Model and forecast saved for Atchison\n",
      "--------------------------------------------------\n",
      "Processing DeRidder...\n"
     ]
    },
    {
     "name": "stderr",
     "output_type": "stream",
     "text": [
      "20:05:11 - cmdstanpy - INFO - Chain [1] start processing\n",
      "20:05:11 - cmdstanpy - INFO - Chain [1] done processing\n",
      "20:05:11 - cmdstanpy - INFO - Chain [1] start processing\n",
      "20:05:11 - cmdstanpy - INFO - Chain [1] done processing\n"
     ]
    },
    {
     "name": "stdout",
     "output_type": "stream",
     "text": [
      "Data shape for DeRidder: (160, 7)\n",
      "Model and forecast saved for DeRidder\n",
      "--------------------------------------------------\n",
      "Processing Georgetown...\n",
      "Data shape for Georgetown: (157, 7)\n"
     ]
    },
    {
     "name": "stderr",
     "output_type": "stream",
     "text": [
      "20:05:11 - cmdstanpy - INFO - Chain [1] start processing\n",
      "20:05:11 - cmdstanpy - INFO - Chain [1] done processing\n",
      "20:05:11 - cmdstanpy - INFO - Chain [1] start processing\n",
      "20:05:11 - cmdstanpy - INFO - Chain [1] done processing\n"
     ]
    },
    {
     "name": "stdout",
     "output_type": "stream",
     "text": [
      "Model and forecast saved for Georgetown\n",
      "--------------------------------------------------\n",
      "Processing Spearfish...\n",
      "Data shape for Spearfish: (157, 7)\n",
      "Model and forecast saved for Spearfish\n",
      "--------------------------------------------------\n",
      "Processing Enterprise...\n",
      "Data shape for Enterprise: (156, 7)\n"
     ]
    },
    {
     "name": "stderr",
     "output_type": "stream",
     "text": [
      "20:05:11 - cmdstanpy - INFO - Chain [1] start processing\n",
      "20:05:11 - cmdstanpy - INFO - Chain [1] done processing\n",
      "20:05:11 - cmdstanpy - INFO - Chain [1] start processing\n",
      "20:05:11 - cmdstanpy - INFO - Chain [1] done processing\n"
     ]
    },
    {
     "name": "stdout",
     "output_type": "stream",
     "text": [
      "Model and forecast saved for Enterprise\n",
      "--------------------------------------------------\n",
      "Processing Silver City...\n",
      "Data shape for Silver City: (155, 7)\n",
      "Model and forecast saved for Silver City\n",
      "--------------------------------------------------\n",
      "Processing Raymondville...\n",
      "Data shape for Raymondville: (154, 7)\n"
     ]
    },
    {
     "name": "stderr",
     "output_type": "stream",
     "text": [
      "20:05:11 - cmdstanpy - INFO - Chain [1] start processing\n",
      "20:05:11 - cmdstanpy - INFO - Chain [1] done processing\n",
      "20:05:12 - cmdstanpy - INFO - Chain [1] start processing\n",
      "20:05:12 - cmdstanpy - INFO - Chain [1] done processing\n"
     ]
    },
    {
     "name": "stdout",
     "output_type": "stream",
     "text": [
      "Model and forecast saved for Raymondville\n",
      "--------------------------------------------------\n",
      "Processing Lewistown...\n",
      "Data shape for Lewistown: (150, 7)\n",
      "Model and forecast saved for Lewistown\n",
      "--------------------------------------------------\n",
      "Processing Hobbs...\n",
      "Data shape for Hobbs: (147, 7)\n"
     ]
    },
    {
     "name": "stderr",
     "output_type": "stream",
     "text": [
      "20:05:12 - cmdstanpy - INFO - Chain [1] start processing\n",
      "20:05:12 - cmdstanpy - INFO - Chain [1] done processing\n",
      "20:05:12 - cmdstanpy - INFO - Chain [1] start processing\n",
      "20:05:12 - cmdstanpy - INFO - Chain [1] done processing\n"
     ]
    },
    {
     "name": "stdout",
     "output_type": "stream",
     "text": [
      "Model and forecast saved for Hobbs\n",
      "--------------------------------------------------\n",
      "Processing Grand Forks...\n",
      "Data shape for Grand Forks: (146, 7)\n",
      "Model and forecast saved for Grand Forks\n",
      "--------------------------------------------------\n",
      "Processing Brookhaven...\n",
      "Data shape for Brookhaven: (140, 7)\n"
     ]
    },
    {
     "name": "stderr",
     "output_type": "stream",
     "text": [
      "20:05:12 - cmdstanpy - INFO - Chain [1] start processing\n",
      "20:05:12 - cmdstanpy - INFO - Chain [1] done processing\n",
      "20:05:12 - cmdstanpy - INFO - Chain [1] start processing\n",
      "20:05:12 - cmdstanpy - INFO - Chain [1] done processing\n"
     ]
    },
    {
     "name": "stdout",
     "output_type": "stream",
     "text": [
      "Model and forecast saved for Brookhaven\n",
      "--------------------------------------------------\n",
      "Processing Blackfoot...\n",
      "Data shape for Blackfoot: (139, 7)\n",
      "Model and forecast saved for Blackfoot\n",
      "--------------------------------------------------\n",
      "Processing Worthington...\n",
      "Data shape for Worthington: (139, 7)\n",
      "Model and forecast saved for Worthington\n",
      "--------------------------------------------------\n",
      "Processing McPherson...\n",
      "Data shape for McPherson: (137, 7)\n"
     ]
    },
    {
     "name": "stderr",
     "output_type": "stream",
     "text": [
      "20:05:12 - cmdstanpy - INFO - Chain [1] start processing\n",
      "20:05:12 - cmdstanpy - INFO - Chain [1] done processing\n",
      "20:05:12 - cmdstanpy - INFO - Chain [1] start processing\n",
      "20:05:12 - cmdstanpy - INFO - Chain [1] done processing\n",
      "20:05:12 - cmdstanpy - INFO - Chain [1] start processing\n",
      "20:05:12 - cmdstanpy - INFO - Chain [1] done processing\n"
     ]
    },
    {
     "name": "stdout",
     "output_type": "stream",
     "text": [
      "Model and forecast saved for McPherson\n",
      "--------------------------------------------------\n",
      "Processing Bennettsville...\n",
      "Data shape for Bennettsville: (137, 7)\n",
      "Model and forecast saved for Bennettsville\n",
      "--------------------------------------------------\n",
      "Processing Mitchell...\n",
      "Data shape for Mitchell: (135, 7)\n"
     ]
    },
    {
     "name": "stderr",
     "output_type": "stream",
     "text": [
      "20:05:12 - cmdstanpy - INFO - Chain [1] start processing\n",
      "20:05:12 - cmdstanpy - INFO - Chain [1] done processing\n",
      "20:05:13 - cmdstanpy - INFO - Chain [1] start processing\n",
      "20:05:13 - cmdstanpy - INFO - Chain [1] done processing\n"
     ]
    },
    {
     "name": "stdout",
     "output_type": "stream",
     "text": [
      "Model and forecast saved for Mitchell\n",
      "--------------------------------------------------\n",
      "Processing Natchitoches...\n",
      "Data shape for Natchitoches: (130, 7)\n",
      "Model and forecast saved for Natchitoches\n",
      "--------------------------------------------------\n",
      "Processing San Angelo...\n",
      "Data shape for San Angelo: (129, 7)\n",
      "Model and forecast saved for San Angelo\n",
      "--------------------------------------------------\n",
      "Processing Hilo...\n"
     ]
    },
    {
     "name": "stderr",
     "output_type": "stream",
     "text": [
      "20:05:13 - cmdstanpy - INFO - Chain [1] start processing\n",
      "20:05:13 - cmdstanpy - INFO - Chain [1] done processing\n",
      "20:05:13 - cmdstanpy - INFO - Chain [1] start processing\n",
      "20:05:13 - cmdstanpy - INFO - Chain [1] done processing\n"
     ]
    },
    {
     "name": "stdout",
     "output_type": "stream",
     "text": [
      "Data shape for Hilo: (123, 7)\n",
      "Model and forecast saved for Hilo\n",
      "--------------------------------------------------\n",
      "Processing Winnemucca...\n",
      "Data shape for Winnemucca: (122, 7)\n",
      "Model and forecast saved for Winnemucca\n",
      "--------------------------------------------------\n",
      "Processing Morgan City...\n"
     ]
    },
    {
     "name": "stderr",
     "output_type": "stream",
     "text": [
      "20:05:13 - cmdstanpy - INFO - Chain [1] start processing\n",
      "20:05:13 - cmdstanpy - INFO - Chain [1] done processing\n",
      "20:05:13 - cmdstanpy - INFO - Chain [1] start processing\n",
      "20:05:13 - cmdstanpy - INFO - Chain [1] done processing\n",
      "20:05:13 - cmdstanpy - INFO - Chain [1] start processing\n"
     ]
    },
    {
     "name": "stdout",
     "output_type": "stream",
     "text": [
      "Data shape for Morgan City: (120, 7)\n",
      "Model and forecast saved for Morgan City\n",
      "--------------------------------------------------\n",
      "Processing Lake Charles...\n",
      "Data shape for Lake Charles: (112, 7)\n",
      "Model and forecast saved for Lake Charles\n",
      "--------------------------------------------------\n",
      "Processing Lumberton...\n",
      "Data shape for Lumberton: (112, 7)\n"
     ]
    },
    {
     "name": "stderr",
     "output_type": "stream",
     "text": [
      "20:05:13 - cmdstanpy - INFO - Chain [1] done processing\n",
      "20:05:13 - cmdstanpy - INFO - Chain [1] start processing\n",
      "20:05:13 - cmdstanpy - INFO - Chain [1] done processing\n",
      "20:05:13 - cmdstanpy - INFO - Chain [1] start processing\n",
      "20:05:13 - cmdstanpy - INFO - Chain [1] done processing\n"
     ]
    },
    {
     "name": "stdout",
     "output_type": "stream",
     "text": [
      "Model and forecast saved for Lumberton\n",
      "--------------------------------------------------\n",
      "Processing Victoria...\n",
      "Data shape for Victoria: (112, 7)\n",
      "Model and forecast saved for Victoria\n",
      "--------------------------------------------------\n",
      "Processing Key West...\n",
      "Data shape for Key West: (112, 7)\n"
     ]
    },
    {
     "name": "stderr",
     "output_type": "stream",
     "text": [
      "20:05:13 - cmdstanpy - INFO - Chain [1] start processing\n",
      "20:05:13 - cmdstanpy - INFO - Chain [1] done processing\n",
      "20:05:13 - cmdstanpy - INFO - Chain [1] start processing\n",
      "20:05:13 - cmdstanpy - INFO - Chain [1] done processing\n"
     ]
    },
    {
     "name": "stdout",
     "output_type": "stream",
     "text": [
      "Model and forecast saved for Key West\n",
      "--------------------------------------------------\n",
      "Processing Alamogordo...\n",
      "Data shape for Alamogordo: (112, 7)\n",
      "Model and forecast saved for Alamogordo\n",
      "--------------------------------------------------\n",
      "Processing Albemarle...\n",
      "Data shape for Albemarle: (112, 7)\n"
     ]
    },
    {
     "name": "stderr",
     "output_type": "stream",
     "text": [
      "20:05:14 - cmdstanpy - INFO - Chain [1] start processing\n",
      "20:05:14 - cmdstanpy - INFO - Chain [1] done processing\n",
      "20:05:14 - cmdstanpy - INFO - Chain [1] start processing\n",
      "20:05:14 - cmdstanpy - INFO - Chain [1] done processing\n"
     ]
    },
    {
     "name": "stdout",
     "output_type": "stream",
     "text": [
      "Model and forecast saved for Albemarle\n",
      "--------------------------------------------------\n",
      "Processing Carlsbad...\n",
      "Data shape for Carlsbad: (112, 7)\n",
      "Model and forecast saved for Carlsbad\n",
      "--------------------------------------------------\n",
      "Processing Sonora...\n",
      "Data shape for Sonora: (112, 7)\n"
     ]
    },
    {
     "name": "stderr",
     "output_type": "stream",
     "text": [
      "20:05:14 - cmdstanpy - INFO - Chain [1] start processing\n",
      "20:05:14 - cmdstanpy - INFO - Chain [1] done processing\n",
      "20:05:14 - cmdstanpy - INFO - Chain [1] start processing\n",
      "20:05:14 - cmdstanpy - INFO - Chain [1] done processing\n"
     ]
    },
    {
     "name": "stdout",
     "output_type": "stream",
     "text": [
      "Model and forecast saved for Sonora\n",
      "--------------------------------------------------\n",
      "Processing Ca-¦on City...\n",
      "Data shape for Ca-¦on City: (112, 7)\n",
      "Model and forecast saved for Ca-¦on City\n",
      "--------------------------------------------------\n",
      "Processing Clovis...\n",
      "Data shape for Clovis: (112, 7)\n",
      "Model and forecast saved for Clovis\n",
      "--------------------------------------------------\n",
      "Processing Rolla...\n"
     ]
    },
    {
     "name": "stderr",
     "output_type": "stream",
     "text": [
      "20:05:14 - cmdstanpy - INFO - Chain [1] start processing\n",
      "20:05:14 - cmdstanpy - INFO - Chain [1] done processing\n",
      "20:05:14 - cmdstanpy - INFO - Chain [1] start processing\n",
      "20:05:14 - cmdstanpy - INFO - Chain [1] done processing\n"
     ]
    },
    {
     "name": "stdout",
     "output_type": "stream",
     "text": [
      "Data shape for Rolla: (112, 7)\n",
      "Model and forecast saved for Rolla\n",
      "--------------------------------------------------\n",
      "Processing Warren...\n",
      "Data shape for Warren: (112, 7)\n",
      "Model and forecast saved for Warren\n",
      "--------------------------------------------------\n",
      "Processing Sikeston...\n",
      "Data shape for Sikeston: (112, 7)\n"
     ]
    },
    {
     "name": "stderr",
     "output_type": "stream",
     "text": [
      "20:05:14 - cmdstanpy - INFO - Chain [1] start processing\n",
      "20:05:14 - cmdstanpy - INFO - Chain [1] done processing\n",
      "20:05:14 - cmdstanpy - INFO - Chain [1] start processing\n",
      "20:05:14 - cmdstanpy - INFO - Chain [1] done processing\n",
      "20:05:14 - cmdstanpy - INFO - Chain [1] start processing\n",
      "20:05:14 - cmdstanpy - INFO - Chain [1] done processing\n"
     ]
    },
    {
     "name": "stdout",
     "output_type": "stream",
     "text": [
      "Model and forecast saved for Sikeston\n",
      "--------------------------------------------------\n",
      "Processing Sulphur Springs...\n",
      "Data shape for Sulphur Springs: (112, 7)\n",
      "Model and forecast saved for Sulphur Springs\n",
      "--------------------------------------------------\n",
      "Processing Dodge City...\n",
      "Data shape for Dodge City: (112, 7)\n",
      "Model and forecast saved for Dodge City\n",
      "--------------------------------------------------\n",
      "Processing Troy...\n",
      "Data shape for Troy: (112, 7)\n"
     ]
    },
    {
     "name": "stderr",
     "output_type": "stream",
     "text": [
      "20:05:14 - cmdstanpy - INFO - Chain [1] start processing\n",
      "20:05:15 - cmdstanpy - INFO - Chain [1] done processing\n",
      "20:05:15 - cmdstanpy - INFO - Chain [1] start processing\n",
      "20:05:15 - cmdstanpy - INFO - Chain [1] done processing\n",
      "20:05:15 - cmdstanpy - INFO - Chain [1] start processing\n",
      "20:05:15 - cmdstanpy - INFO - Chain [1] done processing\n"
     ]
    },
    {
     "name": "stdout",
     "output_type": "stream",
     "text": [
      "Model and forecast saved for Troy\n",
      "--------------------------------------------------\n",
      "Processing Hays...\n",
      "Data shape for Hays: (112, 7)\n",
      "Model and forecast saved for Hays\n",
      "--------------------------------------------------\n",
      "Processing Elkins...\n",
      "Data shape for Elkins: (112, 7)\n",
      "Model and forecast saved for Elkins\n",
      "--------------------------------------------------\n",
      "Processing Grants...\n",
      "Data shape for Grants: (112, 7)\n"
     ]
    },
    {
     "name": "stderr",
     "output_type": "stream",
     "text": [
      "20:05:15 - cmdstanpy - INFO - Chain [1] start processing\n",
      "20:05:15 - cmdstanpy - INFO - Chain [1] done processing\n",
      "20:05:15 - cmdstanpy - INFO - Chain [1] start processing\n",
      "20:05:15 - cmdstanpy - INFO - Chain [1] done processing\n",
      "20:05:15 - cmdstanpy - INFO - Chain [1] start processing\n",
      "20:05:15 - cmdstanpy - INFO - Chain [1] done processing\n",
      "20:05:15 - cmdstanpy - INFO - Chain [1] start processing\n"
     ]
    },
    {
     "name": "stdout",
     "output_type": "stream",
     "text": [
      "Model and forecast saved for Grants\n",
      "--------------------------------------------------\n",
      "Processing Indianola...\n",
      "Data shape for Indianola: (112, 7)\n",
      "Model and forecast saved for Indianola\n",
      "--------------------------------------------------\n",
      "Processing Great Bend...\n",
      "Data shape for Great Bend: (112, 7)\n",
      "Model and forecast saved for Great Bend\n",
      "--------------------------------------------------\n",
      "Processing Liberal...\n",
      "Data shape for Liberal: (111, 7)\n"
     ]
    },
    {
     "name": "stderr",
     "output_type": "stream",
     "text": [
      "20:05:15 - cmdstanpy - INFO - Chain [1] done processing\n",
      "20:05:15 - cmdstanpy - INFO - Chain [1] start processing\n",
      "20:05:15 - cmdstanpy - INFO - Chain [1] done processing\n",
      "20:05:15 - cmdstanpy - INFO - Chain [1] start processing\n",
      "20:05:15 - cmdstanpy - INFO - Chain [1] done processing\n",
      "20:05:15 - cmdstanpy - INFO - Chain [1] start processing\n"
     ]
    },
    {
     "name": "stdout",
     "output_type": "stream",
     "text": [
      "Model and forecast saved for Liberal\n",
      "--------------------------------------------------\n",
      "Processing Clarksdale...\n",
      "Data shape for Clarksdale: (112, 7)\n",
      "Model and forecast saved for Clarksdale\n",
      "--------------------------------------------------\n",
      "Processing Grenada...\n",
      "Data shape for Grenada: (112, 7)\n",
      "Model and forecast saved for Grenada\n",
      "--------------------------------------------------\n",
      "Processing Guymon...\n",
      "Data shape for Guymon: (112, 7)\n"
     ]
    },
    {
     "name": "stderr",
     "output_type": "stream",
     "text": [
      "20:05:15 - cmdstanpy - INFO - Chain [1] done processing\n",
      "20:05:15 - cmdstanpy - INFO - Chain [1] start processing\n",
      "20:05:15 - cmdstanpy - INFO - Chain [1] done processing\n",
      "20:05:16 - cmdstanpy - INFO - Chain [1] start processing\n",
      "20:05:16 - cmdstanpy - INFO - Chain [1] done processing\n",
      "20:05:16 - cmdstanpy - INFO - Chain [1] start processing\n"
     ]
    },
    {
     "name": "stdout",
     "output_type": "stream",
     "text": [
      "Model and forecast saved for Guymon\n",
      "--------------------------------------------------\n",
      "Processing Huron...\n",
      "Data shape for Huron: (112, 7)\n",
      "Model and forecast saved for Huron\n",
      "--------------------------------------------------\n",
      "Processing Parsons...\n",
      "Data shape for Parsons: (112, 7)\n",
      "Model and forecast saved for Parsons\n",
      "--------------------------------------------------\n",
      "Processing Price...\n",
      "Data shape for Price: (112, 7)\n"
     ]
    },
    {
     "name": "stderr",
     "output_type": "stream",
     "text": [
      "20:05:16 - cmdstanpy - INFO - Chain [1] done processing\n",
      "20:05:16 - cmdstanpy - INFO - Chain [1] start processing\n",
      "20:05:16 - cmdstanpy - INFO - Chain [1] done processing\n",
      "20:05:16 - cmdstanpy - INFO - Chain [1] start processing\n",
      "20:05:16 - cmdstanpy - INFO - Chain [1] done processing\n"
     ]
    },
    {
     "name": "stdout",
     "output_type": "stream",
     "text": [
      "Model and forecast saved for Price\n",
      "--------------------------------------------------\n",
      "Processing Vermillion...\n",
      "Data shape for Vermillion: (112, 7)\n",
      "Model and forecast saved for Vermillion\n",
      "--------------------------------------------------\n",
      "Processing Pecos...\n",
      "Data shape for Pecos: (112, 7)\n",
      "Model and forecast saved for Pecos\n",
      "--------------------------------------------------\n"
     ]
    }
   ],
   "source": [
    "# Get all unique cities from the dataset\n",
    "unique_cities = df['RegionName'].unique()\n",
    "\n",
    "# Process each unique city\n",
    "for city_name in unique_cities:\n",
    "    print(f\"Processing {city_name}...\")\n",
    "    \n",
    "    # Filter data for the current city\n",
    "    city_df = df[df['RegionName'] == city_name].copy()\n",
    "    city_df = city_df.rename(columns={\"Date\": \"ds\", \"Price\": \"y\"})\n",
    "    \n",
    "    print(f\"Data shape for {city_name}: {city_df.shape}\")\n",
    "    \n",
    "    # Check if we have enough data before fitting the model\n",
    "    if len(city_df.dropna()) >= 2:\n",
    "        model = Prophet()\n",
    "        model = model.fit(city_df)\n",
    "        \n",
    "        # Generate forecast\n",
    "        future = model.make_future_dataframe(periods=12, freq='MS')\n",
    "        forecast = model.predict(future)\n",
    "        \n",
    "        # Save the model\n",
    "        city_slug = city_name.replace(' ', '_').lower()\n",
    "        model_path = f\"/var/www/project/Housing/models/prophet_{city_slug}_model.pkl\"\n",
    "        forecast_path = f\"/var/www/project/Housing/csvs/{city_slug}_price_forecast.csv\"\n",
    "        \n",
    "        joblib.dump(model, model_path)\n",
    "        forecast[['ds', 'yhat']].to_csv(forecast_path, index=False)\n",
    "        \n",
    "        print(f\"Model and forecast saved for {city_name}\")\n",
    "    else:\n",
    "        print(f\"Not enough data for {city_name}. Need at least 2 non-NaN rows, but only have {len(city_df.dropna())} rows.\")\n",
    "    \n",
    "    print(\"-\" * 50)"
   ]
  },
  {
   "cell_type": "code",
   "execution_count": 41,
   "metadata": {},
   "outputs": [],
   "source": [
    "# # Check if we have enough data before fitting the model\n",
    "# if len(sf_df.dropna()) >= 2:\n",
    "#     model = Prophet()\n",
    "#     model = model.fit(sf_df)\n",
    "# else:\n",
    "#     print(f\"Not enough data for {city_name}. Need at least 2 non-NaN rows, but only have {len(sf_df.dropna())} rows.\")\n",
    "#     print(f\"Total rows: {len(sf_df)}\")\n",
    "#     print(f\"Rows with NaN values: {len(sf_df) - len(sf_df.dropna())}\")"
   ]
  },
  {
   "cell_type": "code",
   "execution_count": 42,
   "metadata": {},
   "outputs": [],
   "source": [
    "# future = model.make_future_dataframe(periods=12, freq='MS')\n",
    "# forecast = model.predict(future)\n",
    "# forecast[['ds', 'yhat', 'yhat_lower', 'yhat_upper']].tail(12)\n"
   ]
  },
  {
   "cell_type": "code",
   "execution_count": 43,
   "metadata": {},
   "outputs": [
    {
     "data": {
      "image/png": "[encoded data removed]",
      "text/plain": [
       "<Figure size 1000x600 with 1 Axes>"
      ]
     },
     "execution_count": 43,
     "metadata": {},
     "output_type": "execute_result"
    },
    {
     "data": {
      "image/png": "[encoded data removed]",
      "text/plain": [
       "<Figure size 1000x600 with 1 Axes>"
      ]
     },
     "metadata": {},
     "output_type": "display_data"
    }
   ],
   "source": [
    "model.plot(forecast)"
   ]
  },
  {
   "cell_type": "code",
   "execution_count": 44,
   "metadata": {},
   "outputs": [],
   "source": [
    "# import joblib\n",
    "\n",
    "# # Generate file names based on the city name for better organization\n",
    "# city_slug = city_name.replace(' ', '_').lower()\n",
    "# model_path = f\"/var/www/project/Housing/models/prophet_{city_slug}_model.pkl\"\n",
    "# forecast_path = f\"/var/www/project/Housing/csvs/{city_slug}_price_forecast.csv\"\n",
    "\n",
    "# # Save the model using joblib\n",
    "# joblib.dump(model, model_path)\n",
    "\n",
    "# # Save the forecast predictions to a CSV file\n",
    "# forecast[['ds', 'yhat']].to_csv(forecast_path, index=False)\n",
    "\n",
    "# print(f\"Model saved to {model_path}\")\n",
    "# print(f\"Forecast saved to {forecast_path}\")"
   ]
  },
  {
   "cell_type": "code",
   "execution_count": null,
   "metadata": {},
   "outputs": [],
   "source": []
  }
 ],
 "metadata": {
  "kernelspec": {
   "display_name": "Python 3 (ipykernel)",
   "language": "python",
   "name": "python3"
  },
  "language_info": {
   "codemirror_mode": {
    "name": "ipython",
    "version": 3
   },
   "file_extension": ".py",
   "mimetype": "text/x-python",
   "name": "python",
   "nbconvert_exporter": "python",
   "pygments_lexer": "ipython3",
   "version": "3.9.21"
  }
 },
 "nbformat": 4,
 "nbformat_minor": 2
}
